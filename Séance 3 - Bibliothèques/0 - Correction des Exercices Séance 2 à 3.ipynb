{
 "cells": [
  {
   "cell_type": "markdown",
   "id": "e978d295",
   "metadata": {},
   "source": [
    "# Exercices entre la séance 2 et 3"
   ]
  },
  {
   "cell_type": "markdown",
   "id": "d731e557",
   "metadata": {},
   "source": [
    "## Exercice 0\n",
    "\n",
    "Calculer la somme des nombres entiers de 1 à 10000 (sans passer par une formule analytique ^^)"
   ]
  },
  {
   "cell_type": "code",
   "execution_count": 2,
   "id": "9c32928e",
   "metadata": {},
   "outputs": [
    {
     "data": {
      "text/plain": [
       "50005000"
      ]
     },
     "execution_count": 2,
     "metadata": {},
     "output_type": "execute_result"
    }
   ],
   "source": [
    "sum(range(1, 10001))"
   ]
  },
  {
   "cell_type": "code",
   "execution_count": 3,
   "id": "0cba5fc0",
   "metadata": {},
   "outputs": [
    {
     "data": {
      "text/plain": [
       "50005000"
      ]
     },
     "execution_count": 3,
     "metadata": {},
     "output_type": "execute_result"
    }
   ],
   "source": [
    "somme = 0\n",
    "for i in range(1, 10001):\n",
    "    somme = somme + i\n",
    "somme"
   ]
  },
  {
   "cell_type": "code",
   "execution_count": 4,
   "id": "93ce57a5",
   "metadata": {},
   "outputs": [
    {
     "data": {
      "text/plain": [
       "50005000"
      ]
     },
     "execution_count": 4,
     "metadata": {},
     "output_type": "execute_result"
    }
   ],
   "source": [
    "somme = 0\n",
    "nombre = 1\n",
    "while nombre <= 10000:\n",
    "    somme = somme + nombre\n",
    "    nombre = nombre + 1\n",
    "somme"
   ]
  },
  {
   "cell_type": "markdown",
   "id": "17c02fc4",
   "metadata": {},
   "source": [
    "## Exercice 1\n",
    "\n",
    "- créez un dictionnaire contenant les paires clé:valeur suivantes : (\"letemps\":\"Une hausse des primes de 10% reste peu probable\") ; (\"lematin\":\"Le nom d’Anne-Sophie Lapix rejeté du débat de l’entre-deux tours\") ; (\"tdg\":\"DJ Mitch, 77 ans, face à un juge pour avoir fui à vélo\")\n",
    "- faites une boucle for sur le dictionnaire pour afficher toutes les valeurs avec print (prenez le temps de faire des tests)"
   ]
  },
  {
   "cell_type": "code",
   "execution_count": 5,
   "id": "daa2aee0",
   "metadata": {},
   "outputs": [
    {
     "name": "stdout",
     "output_type": "stream",
     "text": [
      "letemps Une hausse des primes de 10% reste peu probable\n",
      "lematin Le nom d’Anne-Sophie Lapix rejeté du débat de l’entre-deux tours\n",
      "tdg DJ Mitch, 77 ans, face à un juge pour avoir fui à vélo\n"
     ]
    }
   ],
   "source": [
    "unes = {\n",
    "    \"letemps\": \"Une hausse des primes de 10% reste peu probable\",\n",
    "    \"lematin\": \"Le nom d’Anne-Sophie Lapix rejeté du débat de l’entre-deux tours\",\n",
    "    \"tdg\": \"DJ Mitch, 77 ans, face à un juge pour avoir fui à vélo\",\n",
    "}\n",
    "\n",
    "for i in unes:\n",
    "    print(i, unes[i])"
   ]
  },
  {
   "cell_type": "markdown",
   "id": "e8562e4f",
   "metadata": {},
   "source": [
    "### zoologie\n",
    "\n",
    "Il est possible de faire une boucle uniquement sur les valeurs d'un dictionaire, ou sur les paires clés/valeurs:"
   ]
  },
  {
   "cell_type": "code",
   "execution_count": 6,
   "id": "3f1e0bb4",
   "metadata": {},
   "outputs": [
    {
     "name": "stdout",
     "output_type": "stream",
     "text": [
      "Une hausse des primes de 10% reste peu probable\n",
      "Le nom d’Anne-Sophie Lapix rejeté du débat de l’entre-deux tours\n",
      "DJ Mitch, 77 ans, face à un juge pour avoir fui à vélo\n"
     ]
    }
   ],
   "source": [
    "for value in unes.values():\n",
    "    print(value)"
   ]
  },
  {
   "cell_type": "code",
   "execution_count": 10,
   "id": "491bb919",
   "metadata": {},
   "outputs": [
    {
     "name": "stdout",
     "output_type": "stream",
     "text": [
      "'letemps' a pour valuer: 'Une hausse des primes de 10% reste peu probable'\n",
      "'lematin' a pour valuer: 'Le nom d’Anne-Sophie Lapix rejeté du débat de l’entre-deux tours'\n",
      "'tdg' a pour valuer: 'DJ Mitch, 77 ans, face à un juge pour avoir fui à vélo'\n"
     ]
    }
   ],
   "source": [
    "for key,value in unes.items():\n",
    "    print(f\"{key!r} a pour valuer: {value!r}\")"
   ]
  },
  {
   "cell_type": "markdown",
   "id": "6417be2b",
   "metadata": {},
   "source": [
    "## Exercice 2\n",
    "\n",
    "Modifiez le script analysé dans la première séance pour effectuer l'opération sur chacun des textes contenu contenu dans le dictionnaire précédent "
   ]
  },
  {
   "cell_type": "code",
   "execution_count": 6,
   "id": "799623d7",
   "metadata": {},
   "outputs": [
    {
     "name": "stdout",
     "output_type": "stream",
     "text": [
      "Proportion de mots avec 4 lettres ou plus : 44.4\n",
      "Proportion de mots avec 4 lettres ou plus : 60.0\n",
      "Proportion de mots avec 4 lettres ou plus : 53.8\n"
     ]
    }
   ],
   "source": [
    "nombre_min_lettres = 4\n",
    "sortie_fichier = True\n",
    "\n",
    "for journal in unes:\n",
    "    phrase = unes[journal]\n",
    "    liste_mots = phrase.split(\" \")\n",
    "    nombre_mots = len(liste_mots)\n",
    "    if nombre_mots == 0:\n",
    "        print(\"La liste est vide\")\n",
    "    else:\n",
    "        compteur = 0\n",
    "        for mot in liste_mots:\n",
    "            if len(mot) >= nombre_min_lettres:\n",
    "                compteur = compteur + 1\n",
    "        proportion = 100 * compteur / nombre_mots\n",
    "        informations = {\n",
    "            \"Total\": compteur,\n",
    "            \"Proportion\": proportion,\n",
    "            \"Phrase\": phrase,\n",
    "            \"Seuil\": nombre_min_lettres,\n",
    "        }\n",
    "        sortie = f\"Proportion de mots avec {nombre_min_lettres} lettres ou plus : {proportion:0.1f}\"\n",
    "        print(sortie)"
   ]
  },
  {
   "cell_type": "markdown",
   "id": "13fd520e",
   "metadata": {},
   "source": [
    "## Exercice 3\n",
    "\n",
    "- Trouver deux manières de compter le nombre de fois où la lettre \"a\" apparaît dans une phrase (pensez à regarder sur internet)\n",
    "- Pour une phrase quelconque, construisez un dictionnaire de la fréquence de chaque lettre"
   ]
  },
  {
   "cell_type": "markdown",
   "id": "81b2da81",
   "metadata": {},
   "source": [
    "Petite recherche sur internet qui permet d'identifier la méthode count"
   ]
  },
  {
   "cell_type": "code",
   "execution_count": 11,
   "id": "f7a99d4f",
   "metadata": {},
   "outputs": [],
   "source": [
    "phrase = \"Ceci est ma phrase de teste\""
   ]
  },
  {
   "cell_type": "code",
   "execution_count": 12,
   "id": "013a4d52",
   "metadata": {},
   "outputs": [
    {
     "data": {
      "text/plain": [
       "2"
      ]
     },
     "execution_count": 12,
     "metadata": {},
     "output_type": "execute_result"
    }
   ],
   "source": [
    "phrase.count(\"a\")"
   ]
  },
  {
   "cell_type": "code",
   "execution_count": 13,
   "id": "869614f8",
   "metadata": {},
   "outputs": [
    {
     "data": {
      "text/plain": [
       "2"
      ]
     },
     "execution_count": 13,
     "metadata": {},
     "output_type": "execute_result"
    }
   ],
   "source": [
    "compteur = 0\n",
    "for lettre in phrase:\n",
    "    if lettre == \"a\":\n",
    "        compteur += 1\n",
    "compteur"
   ]
  },
  {
   "cell_type": "markdown",
   "id": "3c4113db",
   "metadata": {},
   "source": [
    "Dictionnaire vide puis on le peuple"
   ]
  },
  {
   "cell_type": "code",
   "execution_count": 14,
   "id": "2bed4cdc",
   "metadata": {},
   "outputs": [
    {
     "data": {
      "text/plain": [
       "{'a': 0,\n",
       " 'b': 0,\n",
       " 'c': 0,\n",
       " 'd': 0,\n",
       " 'e': 0,\n",
       " 'f': 0,\n",
       " 'g': 0,\n",
       " 'h': 0,\n",
       " 'i': 0,\n",
       " 'j': 0,\n",
       " 'k': 0,\n",
       " 'l': 0,\n",
       " 'm': 0,\n",
       " 'n': 0,\n",
       " 'o': 0,\n",
       " 'p': 0,\n",
       " 'q': 0,\n",
       " 'r': 0,\n",
       " 's': 0,\n",
       " 't': 0,\n",
       " 'u': 0,\n",
       " 'v': 0,\n",
       " 'w': 0,\n",
       " 'x': 0,\n",
       " 'y': 0,\n",
       " 'z': 0}"
      ]
     },
     "execution_count": 14,
     "metadata": {},
     "output_type": "execute_result"
    }
   ],
   "source": [
    "dictionnaire = {}\n",
    "for lettre in \"abcdefghijklmnopqrstuvwxyz\":\n",
    "    dictionnaire[lettre] = 0\n",
    "dictionnaire"
   ]
  },
  {
   "cell_type": "markdown",
   "id": "6aa15055",
   "metadata": {},
   "source": [
    "**Attention : une phrase ressemble à une liste de lettres**\n",
    "\n",
    "Ci-dessus on a itéré sur chaque lettre d'une phrase. \n",
    "Ne pas confondre `for lettre in phrase:...`, et  `for ph in [phrase]:...`\n"
   ]
  },
  {
   "cell_type": "code",
   "execution_count": 15,
   "id": "9ad219d1",
   "metadata": {},
   "outputs": [
    {
     "ename": "KeyError",
     "evalue": "' '",
     "output_type": "error",
     "traceback": [
      "\u001b[0;31m---------------------------------------------------------------------------\u001b[0m",
      "\u001b[0;31mKeyError\u001b[0m                                  Traceback (most recent call last)",
      "Input \u001b[0;32mIn [15]\u001b[0m, in \u001b[0;36m<cell line: 1>\u001b[0;34m()\u001b[0m\n\u001b[1;32m      1\u001b[0m \u001b[38;5;28;01mfor\u001b[39;00m i \u001b[38;5;129;01min\u001b[39;00m phrase\u001b[38;5;241m.\u001b[39mlower():\n\u001b[0;32m----> 2\u001b[0m     dictionnaire[i] \u001b[38;5;241m+\u001b[39m\u001b[38;5;241m=\u001b[39m \u001b[38;5;241m1\u001b[39m\n\u001b[1;32m      3\u001b[0m dictionnaire\n",
      "\u001b[0;31mKeyError\u001b[0m: ' '"
     ]
    }
   ],
   "source": [
    "for lettre in phrase.lower():\n",
    "    dictionnaire[lettre] += 1\n",
    "dictionnaire"
   ]
  },
  {
   "cell_type": "markdown",
   "id": "dfeea70b",
   "metadata": {},
   "source": [
    "Comment résoudre ?"
   ]
  },
  {
   "cell_type": "code",
   "execution_count": 16,
   "id": "bd9e23c2",
   "metadata": {},
   "outputs": [
    {
     "data": {
      "text/plain": [
       "{'a': 2,\n",
       " 'b': 0,\n",
       " 'c': 4,\n",
       " 'd': 1,\n",
       " 'e': 7,\n",
       " 'f': 0,\n",
       " 'g': 0,\n",
       " 'h': 1,\n",
       " 'i': 2,\n",
       " 'j': 0,\n",
       " 'k': 0,\n",
       " 'l': 0,\n",
       " 'm': 1,\n",
       " 'n': 0,\n",
       " 'o': 0,\n",
       " 'p': 1,\n",
       " 'q': 0,\n",
       " 'r': 1,\n",
       " 's': 3,\n",
       " 't': 3,\n",
       " 'u': 0,\n",
       " 'v': 0,\n",
       " 'w': 0,\n",
       " 'x': 0,\n",
       " 'y': 0,\n",
       " 'z': 0}"
      ]
     },
     "execution_count": 16,
     "metadata": {},
     "output_type": "execute_result"
    }
   ],
   "source": [
    "for lettre in phrase.lower():\n",
    "    if lettre in dictionnaire:\n",
    "        dictionnaire[lettre] += 1\n",
    "dictionnaire"
   ]
  },
  {
   "cell_type": "markdown",
   "id": "c969fd4f",
   "metadata": {},
   "source": [
    "### Zoologie\n",
    "\n",
    "`une_variable += 1` est souvent equivalent a `une_variable = une_variable + 1`\n",
    "\n",
    "Les dictionnaires ont une methode `setdefault`."
   ]
  },
  {
   "cell_type": "code",
   "execution_count": 21,
   "id": "9157b30b",
   "metadata": {},
   "outputs": [
    {
     "data": {
      "text/plain": [
       "{'c': 2,\n",
       " 'e': 6,\n",
       " 'i': 1,\n",
       " ' ': 5,\n",
       " 's': 3,\n",
       " 't': 3,\n",
       " 'm': 1,\n",
       " 'a': 2,\n",
       " 'p': 1,\n",
       " 'h': 1,\n",
       " 'r': 1,\n",
       " 'd': 1}"
      ]
     },
     "execution_count": 21,
     "metadata": {},
     "output_type": "execute_result"
    }
   ],
   "source": [
    "dictionnaire = {}\n",
    "for lettre in phrase.lower():\n",
    "    dictionnaire.setdefault(lettre, 0)\n",
    "    dictionnaire[lettre] += 1\n",
    "dictionnaire"
   ]
  },
  {
   "cell_type": "markdown",
   "id": "11aa074d",
   "metadata": {},
   "source": [
    "### zoologie\n",
    "\n",
    "La fonctionnalité ci-dessus est très courante et est disponible dans `collections.Counter`.\n",
    "Il existe aussi `defaultdict`, qui a une valeur par default pour les clés inexistantes."
   ]
  }
 ],
 "metadata": {
  "kernelspec": {
   "display_name": "Python 3",
   "language": "python",
   "name": "python3"
  },
  "language_info": {
   "codemirror_mode": {
    "name": "ipython",
    "version": 3
   },
   "file_extension": ".py",
   "mimetype": "text/x-python",
   "name": "python",
   "nbconvert_exporter": "python",
   "pygments_lexer": "ipython3",
   "version": "3.7.11"
  }
 },
 "nbformat": 4,
 "nbformat_minor": 5
}
