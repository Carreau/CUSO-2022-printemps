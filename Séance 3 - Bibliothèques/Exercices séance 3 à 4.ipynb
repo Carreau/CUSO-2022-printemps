{
 "cells": [
  {
   "cell_type": "markdown",
   "id": "e978d295",
   "metadata": {},
   "source": [
    "# Exercices entre la séance 3 et 4"
   ]
  },
  {
   "cell_type": "markdown",
   "id": "d731e557",
   "metadata": {},
   "source": [
    "## Exercice 1\n",
    "\n",
    "Écrire une fonction qui prend comme entrée une chaîne de caractères (une phrase) et un nombre seuil S (comme le script vu dans la séance 2) et renvoie la proportion de mots qui ont plus de lettre que le seuil S."
   ]
  },
  {
   "cell_type": "markdown",
   "id": "0a156a0f",
   "metadata": {},
   "source": [
    "## Exercice 2\n",
    "\n",
    "- Créer un fichier .txt dans le répertoire courant du Notebook (tapper `pwd` pour le connaitre) contenant plusieurs phrases\n",
    "- Lire le fichier avec le bloc `with`, le mode lecture `\"r\"` et la méthode `readlines`\n",
    "- Appliquer la fonction de l'exercice 1 sur chaque phrase"
   ]
  },
  {
   "cell_type": "markdown",
   "id": "17c02fc4",
   "metadata": {},
   "source": [
    "## Exercice 3\n",
    "\n",
    "Pour une phrase quelconque, construisez un dictionnaire de la fréquence de chaque lettre en utilisant l'objet `Counter` du module `collections` (`import collections`) de la bibliothèque standard"
   ]
  },
  {
   "cell_type": "markdown",
   "id": "db9c56c3",
   "metadata": {},
   "source": [
    "## Exercice 4 \n",
    "\n",
    "Écrire une fonction qui prend en entrée une url et un mot clé et renvoie le nombre de fois où ce mot est présent sur la page"
   ]
  },
  {
   "cell_type": "markdown",
   "id": "42d70785",
   "metadata": {},
   "source": [
    "## Exercice 5\n",
    "\n",
    "- Recherche et installer la bibliothèque `wikipedia` et récupérer le contenu de la page Suisse en Français et en Anglais (Méthode `page` pour obtenir une page ; attribut `content` et `wikipedia.set_lang(\"fr\")` pour la lange). \n",
    "- Identifier les 10 mots les plus fréquents sur chacune des pages (pensez à `Counter` et la méthode `most_common`)"
   ]
  }
 ],
 "metadata": {
  "kernelspec": {
   "display_name": "Python 3 (ipykernel)",
   "language": "python",
   "name": "python3"
  },
  "language_info": {
   "codemirror_mode": {
    "name": "ipython",
    "version": 3
   },
   "file_extension": ".py",
   "mimetype": "text/x-python",
   "name": "python",
   "nbconvert_exporter": "python",
   "pygments_lexer": "ipython3",
   "version": "3.8.12"
  }
 },
 "nbformat": 4,
 "nbformat_minor": 5
}
