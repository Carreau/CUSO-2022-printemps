{
 "cells": [
  {
   "cell_type": "markdown",
   "id": "afad3eed",
   "metadata": {},
   "source": [
    "# Les entrées/sorties et les fonctions"
   ]
  },
  {
   "cell_type": "code",
   "execution_count": 1,
   "id": "dda1a6b6",
   "metadata": {},
   "outputs": [
    {
     "name": "stdout",
     "output_type": "stream",
     "text": [
      "Écrivez une phrase: On met une phrase\n",
      "Proportion de mots avec 4 lettres ou plus : 25.0\n"
     ]
    }
   ],
   "source": [
    "nombre_min_lettres = 4\n",
    "sortie_fichier = True\n",
    "phrase = input(\"Écrivez une phrase: \")\n",
    "liste_mots = phrase.split(\" \")\n",
    "nombre_mots = len(liste_mots)\n",
    "if nombre_mots == 0:\n",
    "    print(\"La liste est vide\")\n",
    "else:\n",
    "    compteur = 0\n",
    "    for mot in liste_mots:\n",
    "        if len(mot) >= nombre_min_lettres:\n",
    "            compteur = compteur + 1\n",
    "    proportion = 100 * compteur / nombre_mots\n",
    "    informations = {\n",
    "        \"Total\": compteur,\n",
    "        \"Proportion\": proportion,\n",
    "        \"Phrase\": phrase,\n",
    "        \"Seuil\": nombre_min_lettres,\n",
    "    }\n",
    "    sortie = f\"Proportion de mots avec {nombre_min_lettres} lettres ou plus : {proportion:0.1f}\"\n",
    "    print(sortie)\n",
    "    if sortie_fichier:\n",
    "        with open(\"resultat.txt\", \"w\") as f:\n",
    "            f.write(str(informations))"
   ]
  },
  {
   "cell_type": "markdown",
   "id": "c4494841",
   "metadata": {},
   "source": [
    "## Le moment d'écriture dans un fichier"
   ]
  },
  {
   "cell_type": "markdown",
   "id": "60d28200",
   "metadata": {},
   "source": [
    "With ouvre un bloc de context (context manager)"
   ]
  },
  {
   "cell_type": "code",
   "execution_count": 4,
   "id": "db2a0786",
   "metadata": {},
   "outputs": [],
   "source": [
    "with open(\"resultat.txt\", \"w\") as fichier:\n",
    "    fichier.write(\"Du texte à écrire\")\n",
    "    fichier.write(\"Encore du texte\")"
   ]
  },
  {
   "cell_type": "markdown",
   "id": "334ad875",
   "metadata": {},
   "source": [
    "``` python\n",
    "\n",
    "f = open(NOM DU FICHIER, MODE)\n",
    "action 1\n",
    "action 2\n",
    "fichier.close()\n",
    "\n",
    "```\n"
   ]
  },
  {
   "cell_type": "markdown",
   "id": "fb158862",
   "metadata": {},
   "source": [
    "## Ouvrir un fichier\n",
    "\n",
    "Importance du chemin de fichier"
   ]
  },
  {
   "cell_type": "code",
   "execution_count": 8,
   "id": "3cae73b1",
   "metadata": {},
   "outputs": [],
   "source": [
    "with open(\"../Data/europresse_HC_suisse.csv\",\"r\", encoding=\"utf-8\") as fichier:\n",
    "    contenu = fichier.read()"
   ]
  },
  {
   "cell_type": "markdown",
   "id": "21f8ffa7",
   "metadata": {},
   "source": [
    "## La définition de fonctions"
   ]
  },
  {
   "cell_type": "markdown",
   "id": "267e233b",
   "metadata": {},
   "source": [
    "On veut compter le nombre de mots d'une phrase"
   ]
  },
  {
   "cell_type": "code",
   "execution_count": 11,
   "id": "3ef76b79",
   "metadata": {},
   "outputs": [],
   "source": [
    "phrase = \"Ceci est une phrase.Avec une autre phrase ensuite\""
   ]
  },
  {
   "cell_type": "code",
   "execution_count": 12,
   "id": "b7cdfb9c",
   "metadata": {},
   "outputs": [
    {
     "data": {
      "text/plain": [
       "8"
      ]
     },
     "execution_count": 12,
     "metadata": {},
     "output_type": "execute_result"
    }
   ],
   "source": [
    "len(phrase.split(\" \"))"
   ]
  },
  {
   "cell_type": "markdown",
   "id": "e45b11e2",
   "metadata": {},
   "source": [
    "Définir une nouvelle fonction"
   ]
  },
  {
   "cell_type": "code",
   "execution_count": 17,
   "id": "d3e00dbf",
   "metadata": {},
   "outputs": [],
   "source": [
    "def compter_mots(phrase):\n",
    "    \n",
    "    phrase_modifiee = phrase.replace(\".\",\" \")\n",
    "    \n",
    "    nombre_mots = len(phrase_modifiee.split(\" \"))\n",
    "    \n",
    "    return nombre_mots"
   ]
  },
  {
   "cell_type": "code",
   "execution_count": 18,
   "id": "38cd7d85",
   "metadata": {},
   "outputs": [
    {
     "data": {
      "text/plain": [
       "4"
      ]
     },
     "execution_count": 18,
     "metadata": {},
     "output_type": "execute_result"
    }
   ],
   "source": [
    "compter_mots(\"Ceci.est.ma.phrase\")"
   ]
  },
  {
   "cell_type": "markdown",
   "id": "950ae864",
   "metadata": {},
   "source": [
    "Mettre la documentation"
   ]
  },
  {
   "cell_type": "code",
   "execution_count": 19,
   "id": "5d4746a0",
   "metadata": {},
   "outputs": [],
   "source": [
    "def compter_mots(phrase):\n",
    "    \"\"\"\n",
    "    Renvoyer le nombre de mots d'une phrase\n",
    "    \n",
    "    Arguments : une phrase (str)\n",
    "    \n",
    "    Sortie : un nombre (int)\n",
    "    \"\"\"\n",
    "    phrase_modifiee = phrase.replace(\".\",\" \")\n",
    "    \n",
    "    nombre_mots = len(phrase_modifiee.split(\" \"))\n",
    "    \n",
    "    return nombre_mots"
   ]
  },
  {
   "cell_type": "code",
   "execution_count": 21,
   "id": "b04671fc",
   "metadata": {},
   "outputs": [],
   "source": [
    "?compter_mots"
   ]
  },
  {
   "cell_type": "code",
   "execution_count": null,
   "id": "7edf8a42",
   "metadata": {},
   "outputs": [],
   "source": [
    "compter_mots()"
   ]
  },
  {
   "cell_type": "code",
   "execution_count": 22,
   "id": "777a9337",
   "metadata": {},
   "outputs": [],
   "source": [
    "def multiplier_deux_nombres(nombre1,nombre2):\n",
    "    \"\"\"\n",
    "    Multiplier deux nombres\n",
    "    \"\"\"\n",
    "    return nombre1*nombre2"
   ]
  },
  {
   "cell_type": "code",
   "execution_count": 23,
   "id": "35299846",
   "metadata": {},
   "outputs": [
    {
     "data": {
      "text/plain": [
       "500"
      ]
     },
     "execution_count": 23,
     "metadata": {},
     "output_type": "execute_result"
    }
   ],
   "source": [
    "multiplier_deux_nombres(10, 50)"
   ]
  },
  {
   "cell_type": "code",
   "execution_count": null,
   "id": "217037e0",
   "metadata": {},
   "outputs": [],
   "source": []
  },
  {
   "cell_type": "code",
   "execution_count": null,
   "id": "50e5d8cb",
   "metadata": {},
   "outputs": [],
   "source": []
  },
  {
   "cell_type": "code",
   "execution_count": null,
   "id": "2f026b86",
   "metadata": {},
   "outputs": [],
   "source": []
  },
  {
   "cell_type": "code",
   "execution_count": null,
   "id": "bfcd1ee4",
   "metadata": {},
   "outputs": [],
   "source": []
  },
  {
   "cell_type": "code",
   "execution_count": null,
   "id": "edae0e33",
   "metadata": {},
   "outputs": [],
   "source": []
  },
  {
   "cell_type": "code",
   "execution_count": null,
   "id": "dca6fd66",
   "metadata": {},
   "outputs": [],
   "source": []
  }
 ],
 "metadata": {
  "kernelspec": {
   "display_name": "Python 3 (ipykernel)",
   "language": "python",
   "name": "python3"
  },
  "language_info": {
   "codemirror_mode": {
    "name": "ipython",
    "version": 3
   },
   "file_extension": ".py",
   "mimetype": "text/x-python",
   "name": "python",
   "nbconvert_exporter": "python",
   "pygments_lexer": "ipython3",
   "version": "3.8.12"
  }
 },
 "nbformat": 4,
 "nbformat_minor": 5
}
