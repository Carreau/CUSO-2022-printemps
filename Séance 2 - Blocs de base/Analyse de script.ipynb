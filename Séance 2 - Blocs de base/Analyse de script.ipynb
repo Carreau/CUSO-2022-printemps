{
 "cells": [
  {
   "cell_type": "markdown",
   "id": "c67a68c1",
   "metadata": {},
   "source": [
    "# Le script"
   ]
  },
  {
   "cell_type": "code",
   "execution_count": 1,
   "id": "120a72da",
   "metadata": {
    "scrolled": true
   },
   "outputs": [
    {
     "name": "stdout",
     "output_type": "stream",
     "text": [
      "Écrivez une phrase: Ceci est ma phrase\n",
      "Proportion de mots avec 4 lettres ou plus : 50.0\n"
     ]
    }
   ],
   "source": [
    "# Créer une variable valant 4\n",
    "nombre_min_lettres = 4\n",
    "\n",
    "# Créer une variable qui vaut \"Vraie\"\n",
    "sortie_fichier = True\n",
    "\n",
    "\n",
    "phrase = input(\"Écrivez une phrase: \")\n",
    "liste_mots = phrase.split(\" \")\n",
    "nombre_mots = len(liste_mots)\n",
    "if nombre_mots == 0:\n",
    "    print(\"La liste est vide\")\n",
    "else:\n",
    "    compteur = 0\n",
    "    for mot in liste_mots:\n",
    "        if len(mot) >= nombre_min_lettres:\n",
    "            compteur = compteur + 1\n",
    "    proportion = 100 * compteur / nombre_mots\n",
    "    informations = {\n",
    "        \"Total\": compteur,\n",
    "        \"Proportion\": proportion,\n",
    "        \"Phrase\": phrase,\n",
    "        \"Seuil\": nombre_min_lettres,\n",
    "    }\n",
    "    sortie = f\"Proportion de mots avec {nombre_min_lettres} lettres ou plus : {proportion:0.1f}\"\n",
    "    print(sortie)\n",
    "    if sortie_fichier:\n",
    "        with open(\"resultat.txt\", \"w\") as f:\n",
    "            f.write(str(informations))"
   ]
  },
  {
   "cell_type": "markdown",
   "id": "b2442129",
   "metadata": {},
   "source": [
    "# Autopsie du code"
   ]
  },
  {
   "cell_type": "markdown",
   "id": "369f298c",
   "metadata": {},
   "source": [
    "## Première ligne"
   ]
  },
  {
   "cell_type": "code",
   "execution_count": 2,
   "id": "f5f3311e",
   "metadata": {},
   "outputs": [],
   "source": [
    "nombre_min_lettres = 4"
   ]
  },
  {
   "cell_type": "markdown",
   "id": "d44034fd",
   "metadata": {},
   "source": [
    "- on crée une nouvelle variable\n",
    "- on lui donne une valeur"
   ]
  },
  {
   "cell_type": "code",
   "execution_count": 3,
   "id": "55d7b72b",
   "metadata": {},
   "outputs": [
    {
     "data": {
      "text/plain": [
       "4"
      ]
     },
     "execution_count": 3,
     "metadata": {},
     "output_type": "execute_result"
    }
   ],
   "source": [
    "nombre_min_lettres"
   ]
  },
  {
   "cell_type": "code",
   "execution_count": 4,
   "id": "0f6e0fdd",
   "metadata": {},
   "outputs": [],
   "source": [
    "nb_lettres = 4"
   ]
  },
  {
   "cell_type": "code",
   "execution_count": 5,
   "id": "27c275f6",
   "metadata": {},
   "outputs": [
    {
     "ename": "SyntaxError",
     "evalue": "invalid syntax (747210968.py, line 1)",
     "output_type": "error",
     "traceback": [
      "\u001b[0;36m  Input \u001b[0;32mIn [5]\u001b[0;36m\u001b[0m\n\u001b[0;31m    nb lettre\u001b[0m\n\u001b[0m       ^\u001b[0m\n\u001b[0;31mSyntaxError\u001b[0m\u001b[0;31m:\u001b[0m invalid syntax\n"
     ]
    }
   ],
   "source": [
    "nb lettre"
   ]
  },
  {
   "cell_type": "code",
   "execution_count": 7,
   "id": "79f3a9a3",
   "metadata": {},
   "outputs": [
    {
     "data": {
      "text/plain": [
       "9"
      ]
     },
     "execution_count": 7,
     "metadata": {},
     "output_type": "execute_result"
    }
   ],
   "source": [
    "nombre_min_lettres + 5"
   ]
  },
  {
   "cell_type": "code",
   "execution_count": 8,
   "id": "47405259",
   "metadata": {},
   "outputs": [
    {
     "data": {
      "text/plain": [
       "40"
      ]
     },
     "execution_count": 8,
     "metadata": {},
     "output_type": "execute_result"
    }
   ],
   "source": [
    "nombre_min_lettres * 10"
   ]
  },
  {
   "cell_type": "markdown",
   "id": "8ccc9c77",
   "metadata": {},
   "source": [
    "Une fonction de base de Python : c'est la fonction `type`"
   ]
  },
  {
   "cell_type": "code",
   "execution_count": 9,
   "id": "67d403dc",
   "metadata": {},
   "outputs": [
    {
     "data": {
      "text/plain": [
       "int"
      ]
     },
     "execution_count": 9,
     "metadata": {},
     "output_type": "execute_result"
    }
   ],
   "source": [
    "type(nombre_min_lettres)"
   ]
  },
  {
   "cell_type": "code",
   "execution_count": 10,
   "id": "d335a7d4",
   "metadata": {},
   "outputs": [],
   "source": [
    "nombre_min_lettres = 4.0"
   ]
  },
  {
   "cell_type": "code",
   "execution_count": 11,
   "id": "a315c1f7",
   "metadata": {},
   "outputs": [
    {
     "data": {
      "text/plain": [
       "float"
      ]
     },
     "execution_count": 11,
     "metadata": {},
     "output_type": "execute_result"
    }
   ],
   "source": [
    "type(nombre_min_lettres)"
   ]
  },
  {
   "cell_type": "markdown",
   "id": "b6286ebd",
   "metadata": {},
   "source": [
    "## Deuxième ligne"
   ]
  },
  {
   "cell_type": "code",
   "execution_count": 16,
   "id": "38e1c781",
   "metadata": {},
   "outputs": [],
   "source": [
    "sortie_fichier = True"
   ]
  },
  {
   "cell_type": "code",
   "execution_count": 15,
   "id": "8c77673c",
   "metadata": {},
   "outputs": [
    {
     "data": {
      "text/plain": [
       "bool"
      ]
     },
     "execution_count": 15,
     "metadata": {},
     "output_type": "execute_result"
    }
   ],
   "source": [
    "type(sortie_fichier)"
   ]
  },
  {
   "cell_type": "markdown",
   "id": "7934bb04",
   "metadata": {},
   "source": [
    "## Troisième ligne"
   ]
  },
  {
   "cell_type": "code",
   "execution_count": null,
   "id": "7b1886e9",
   "metadata": {},
   "outputs": [],
   "source": [
    "phrase = input(\"Écrivez une phrase: \")"
   ]
  },
  {
   "cell_type": "code",
   "execution_count": 18,
   "id": "e51bff07",
   "metadata": {},
   "outputs": [
    {
     "name": "stdout",
     "output_type": "stream",
     "text": [
      "bla bla bla\n"
     ]
    },
    {
     "data": {
      "text/plain": [
       "'bla bla bla'"
      ]
     },
     "execution_count": 18,
     "metadata": {},
     "output_type": "execute_result"
    }
   ],
   "source": [
    "input()"
   ]
  },
  {
   "cell_type": "code",
   "execution_count": 20,
   "id": "758ff43e",
   "metadata": {},
   "outputs": [
    {
     "name": "stdout",
     "output_type": "stream",
     "text": [
      "BLAbla bla bla\n"
     ]
    },
    {
     "data": {
      "text/plain": [
       "'bla bla bla'"
      ]
     },
     "execution_count": 20,
     "metadata": {},
     "output_type": "execute_result"
    }
   ],
   "source": [
    "input(\"BLA\")"
   ]
  },
  {
   "cell_type": "code",
   "execution_count": 21,
   "id": "2f2be378",
   "metadata": {},
   "outputs": [
    {
     "data": {
      "text/plain": [
       "'Ceci est ma phrase'"
      ]
     },
     "execution_count": 21,
     "metadata": {},
     "output_type": "execute_result"
    }
   ],
   "source": [
    "phrase"
   ]
  },
  {
   "cell_type": "code",
   "execution_count": 22,
   "id": "e9ea9e5d",
   "metadata": {},
   "outputs": [
    {
     "data": {
      "text/plain": [
       "str"
      ]
     },
     "execution_count": 22,
     "metadata": {},
     "output_type": "execute_result"
    }
   ],
   "source": [
    "type(phrase)"
   ]
  },
  {
   "cell_type": "code",
   "execution_count": 23,
   "id": "50ad44a0",
   "metadata": {},
   "outputs": [
    {
     "name": "stdout",
     "output_type": "stream",
     "text": [
      "23\n"
     ]
    },
    {
     "data": {
      "text/plain": [
       "'23'"
      ]
     },
     "execution_count": 23,
     "metadata": {},
     "output_type": "execute_result"
    }
   ],
   "source": [
    "input()"
   ]
  },
  {
   "cell_type": "code",
   "execution_count": 24,
   "id": "7d1b0a4a",
   "metadata": {},
   "outputs": [],
   "source": [
    "?input"
   ]
  },
  {
   "cell_type": "code",
   "execution_count": 25,
   "id": "462936e0",
   "metadata": {},
   "outputs": [
    {
     "data": {
      "text/plain": [
       "str"
      ]
     },
     "execution_count": 25,
     "metadata": {},
     "output_type": "execute_result"
    }
   ],
   "source": [
    "type(phrase)"
   ]
  },
  {
   "cell_type": "markdown",
   "id": "143027e6",
   "metadata": {},
   "source": [
    "Créer une nouvelle variable"
   ]
  },
  {
   "cell_type": "code",
   "execution_count": 29,
   "id": "afbce0ff",
   "metadata": {},
   "outputs": [],
   "source": [
    "variable_texte = 'Ceci est du texte'"
   ]
  },
  {
   "cell_type": "code",
   "execution_count": 30,
   "id": "2926c4b5",
   "metadata": {},
   "outputs": [
    {
     "data": {
      "text/plain": [
       "str"
      ]
     },
     "execution_count": 30,
     "metadata": {},
     "output_type": "execute_result"
    }
   ],
   "source": [
    "type(variable_texte)"
   ]
  },
  {
   "cell_type": "code",
   "execution_count": 31,
   "id": "b92fc699",
   "metadata": {},
   "outputs": [
    {
     "data": {
      "text/plain": [
       "'Ceci est du texte'"
      ]
     },
     "execution_count": 31,
     "metadata": {},
     "output_type": "execute_result"
    }
   ],
   "source": [
    "variable_texte"
   ]
  },
  {
   "cell_type": "code",
   "execution_count": 32,
   "id": "0918a2e4",
   "metadata": {},
   "outputs": [
    {
     "ename": "TypeError",
     "evalue": "can only concatenate str (not \"int\") to str",
     "output_type": "error",
     "traceback": [
      "\u001b[0;31m---------------------------------------------------------------------------\u001b[0m",
      "\u001b[0;31mTypeError\u001b[0m                                 Traceback (most recent call last)",
      "Input \u001b[0;32mIn [32]\u001b[0m, in \u001b[0;36m<cell line: 1>\u001b[0;34m()\u001b[0m\n\u001b[0;32m----> 1\u001b[0m \u001b[43mvariable_texte\u001b[49m\u001b[43m \u001b[49m\u001b[38;5;241;43m+\u001b[39;49m\u001b[43m \u001b[49m\u001b[38;5;241;43m1\u001b[39;49m\n",
      "\u001b[0;31mTypeError\u001b[0m: can only concatenate str (not \"int\") to str"
     ]
    }
   ],
   "source": [
    "variable_texte + 1"
   ]
  },
  {
   "cell_type": "code",
   "execution_count": 33,
   "id": "4adc6925",
   "metadata": {},
   "outputs": [
    {
     "data": {
      "text/plain": [
       "'Ceci est du texte et ceci en est aussi'"
      ]
     },
     "execution_count": 33,
     "metadata": {},
     "output_type": "execute_result"
    }
   ],
   "source": [
    "variable_texte + \" et ceci en est aussi\""
   ]
  }
 ],
 "metadata": {
  "kernelspec": {
   "display_name": "Python 3 (ipykernel)",
   "language": "python",
   "name": "python3"
  },
  "language_info": {
   "codemirror_mode": {
    "name": "ipython",
    "version": 3
   },
   "file_extension": ".py",
   "mimetype": "text/x-python",
   "name": "python",
   "nbconvert_exporter": "python",
   "pygments_lexer": "ipython3",
   "version": "3.8.12"
  }
 },
 "nbformat": 4,
 "nbformat_minor": 5
}
