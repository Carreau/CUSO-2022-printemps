{
 "cells": [
  {
   "cell_type": "markdown",
   "id": "87a281fe",
   "metadata": {},
   "source": [
    "# Le script"
   ]
  },
  {
   "cell_type": "code",
   "execution_count": 1,
   "id": "3e5ebeed",
   "metadata": {
    "scrolled": true
   },
   "outputs": [
    {
     "name": "stdout",
     "output_type": "stream",
     "text": [
      "Écrivez une phrase: Ceci est ma phrase\n",
      "Proportion de mots avec 4 lettres ou plus : 50.0\n"
     ]
    }
   ],
   "source": [
    "# Créer une variable valant 4\n",
    "nombre_min_lettres = 4\n",
    "\n",
    "# Créer une variable qui vaut \"Vraie\"\n",
    "sortie_fichier = True\n",
    "\n",
    "# Demande à l'utilisateur une phrase avec la fonction input\n",
    "# Et stocke la réponse dans la variable phrase\n",
    "phrase = input(\"Écrivez une phrase: \")\n",
    "\n",
    "# On coupe la chaine de caractères quand il y a un espace\n",
    "liste_mots = phrase.split(\" \")\n",
    "\n",
    "# Crée une variable qui vaut le nombre de mots de ma liste\n",
    "nombre_mots = len(liste_mots)\n",
    "\n",
    "if nombre_mots == 0:\n",
    "    print(\"La liste est vide\")\n",
    "else:\n",
    "    compteur = 0\n",
    "    for mot in liste_mots:\n",
    "        if len(mot) >= nombre_min_lettres:\n",
    "            compteur = compteur + 1\n",
    "    proportion = 100 * compteur / nombre_mots\n",
    "    informations = {\n",
    "        \"Total\": compteur,\n",
    "        \"Proportion\": proportion,\n",
    "        \"Phrase\": phrase,\n",
    "        \"Seuil\": nombre_min_lettres,\n",
    "    }\n",
    "    sortie = f\"Proportion de mots avec {nombre_min_lettres} lettres ou plus : {proportion:0.1f}\"\n",
    "    print(sortie)\n",
    "    if sortie_fichier:\n",
    "        with open(\"resultat.txt\", \"w\") as f:\n",
    "            f.write(str(informations))"
   ]
  },
  {
   "cell_type": "markdown",
   "id": "4c69b864",
   "metadata": {},
   "source": [
    "# Autopsie du code"
   ]
  },
  {
   "cell_type": "markdown",
   "id": "5df6beb7",
   "metadata": {},
   "source": [
    "## Première ligne"
   ]
  },
  {
   "cell_type": "code",
   "execution_count": 2,
   "id": "fc20ac6f",
   "metadata": {},
   "outputs": [],
   "source": [
    "nombre_min_lettres = 4"
   ]
  },
  {
   "cell_type": "markdown",
   "id": "bd0db03a",
   "metadata": {},
   "source": [
    "- on crée une nouvelle variable\n",
    "- on lui donne une valeur"
   ]
  },
  {
   "cell_type": "code",
   "execution_count": 3,
   "id": "ca37cca6",
   "metadata": {},
   "outputs": [
    {
     "data": {
      "text/plain": [
       "4"
      ]
     },
     "execution_count": 3,
     "metadata": {},
     "output_type": "execute_result"
    }
   ],
   "source": [
    "nombre_min_lettres"
   ]
  },
  {
   "cell_type": "code",
   "execution_count": 4,
   "id": "af1627f8",
   "metadata": {},
   "outputs": [],
   "source": [
    "nb_lettres = 4"
   ]
  },
  {
   "cell_type": "code",
   "execution_count": 5,
   "id": "5c5af29d",
   "metadata": {},
   "outputs": [
    {
     "ename": "SyntaxError",
     "evalue": "invalid syntax (747210968.py, line 1)",
     "output_type": "error",
     "traceback": [
      "\u001b[0;36m  Input \u001b[0;32mIn [5]\u001b[0;36m\u001b[0m\n\u001b[0;31m    nb lettre\u001b[0m\n\u001b[0m       ^\u001b[0m\n\u001b[0;31mSyntaxError\u001b[0m\u001b[0;31m:\u001b[0m invalid syntax\n"
     ]
    }
   ],
   "source": [
    "nb lettre"
   ]
  },
  {
   "cell_type": "code",
   "execution_count": 7,
   "id": "08097898",
   "metadata": {},
   "outputs": [
    {
     "data": {
      "text/plain": [
       "9"
      ]
     },
     "execution_count": 7,
     "metadata": {},
     "output_type": "execute_result"
    }
   ],
   "source": [
    "nombre_min_lettres + 5"
   ]
  },
  {
   "cell_type": "code",
   "execution_count": 8,
   "id": "987bf663",
   "metadata": {},
   "outputs": [
    {
     "data": {
      "text/plain": [
       "40"
      ]
     },
     "execution_count": 8,
     "metadata": {},
     "output_type": "execute_result"
    }
   ],
   "source": [
    "nombre_min_lettres * 10"
   ]
  },
  {
   "cell_type": "markdown",
   "id": "bb60e5a6",
   "metadata": {},
   "source": [
    "Une fonction de base de Python : c'est la fonction `type`"
   ]
  },
  {
   "cell_type": "code",
   "execution_count": 9,
   "id": "e7ff6704",
   "metadata": {},
   "outputs": [
    {
     "data": {
      "text/plain": [
       "int"
      ]
     },
     "execution_count": 9,
     "metadata": {},
     "output_type": "execute_result"
    }
   ],
   "source": [
    "type(nombre_min_lettres)"
   ]
  },
  {
   "cell_type": "code",
   "execution_count": 10,
   "id": "752d1c4b",
   "metadata": {},
   "outputs": [],
   "source": [
    "nombre_min_lettres = 4.0"
   ]
  },
  {
   "cell_type": "code",
   "execution_count": 11,
   "id": "91857e5b",
   "metadata": {},
   "outputs": [
    {
     "data": {
      "text/plain": [
       "float"
      ]
     },
     "execution_count": 11,
     "metadata": {},
     "output_type": "execute_result"
    }
   ],
   "source": [
    "type(nombre_min_lettres)"
   ]
  },
  {
   "cell_type": "markdown",
   "id": "e1fca39b",
   "metadata": {},
   "source": [
    "## Deuxième ligne"
   ]
  },
  {
   "cell_type": "code",
   "execution_count": 16,
   "id": "b2ab4f43",
   "metadata": {},
   "outputs": [],
   "source": [
    "sortie_fichier = True"
   ]
  },
  {
   "cell_type": "code",
   "execution_count": 15,
   "id": "5d351841",
   "metadata": {},
   "outputs": [
    {
     "data": {
      "text/plain": [
       "bool"
      ]
     },
     "execution_count": 15,
     "metadata": {},
     "output_type": "execute_result"
    }
   ],
   "source": [
    "type(sortie_fichier)"
   ]
  },
  {
   "cell_type": "markdown",
   "id": "89664617",
   "metadata": {},
   "source": [
    "## Troisième ligne"
   ]
  },
  {
   "cell_type": "code",
   "execution_count": null,
   "id": "ef43b509",
   "metadata": {},
   "outputs": [],
   "source": [
    "phrase = input(\"Écrivez une phrase: \")"
   ]
  },
  {
   "cell_type": "code",
   "execution_count": 18,
   "id": "ab1d4bb1",
   "metadata": {},
   "outputs": [
    {
     "name": "stdout",
     "output_type": "stream",
     "text": [
      "bla bla bla\n"
     ]
    },
    {
     "data": {
      "text/plain": [
       "'bla bla bla'"
      ]
     },
     "execution_count": 18,
     "metadata": {},
     "output_type": "execute_result"
    }
   ],
   "source": [
    "input()"
   ]
  },
  {
   "cell_type": "code",
   "execution_count": 20,
   "id": "37cc4c2f",
   "metadata": {},
   "outputs": [
    {
     "name": "stdout",
     "output_type": "stream",
     "text": [
      "BLAbla bla bla\n"
     ]
    },
    {
     "data": {
      "text/plain": [
       "'bla bla bla'"
      ]
     },
     "execution_count": 20,
     "metadata": {},
     "output_type": "execute_result"
    }
   ],
   "source": [
    "input(\"BLA\")"
   ]
  },
  {
   "cell_type": "code",
   "execution_count": 21,
   "id": "41317c80",
   "metadata": {},
   "outputs": [
    {
     "data": {
      "text/plain": [
       "'Ceci est ma phrase'"
      ]
     },
     "execution_count": 21,
     "metadata": {},
     "output_type": "execute_result"
    }
   ],
   "source": [
    "phrase"
   ]
  },
  {
   "cell_type": "code",
   "execution_count": 22,
   "id": "c6d62396",
   "metadata": {},
   "outputs": [
    {
     "data": {
      "text/plain": [
       "str"
      ]
     },
     "execution_count": 22,
     "metadata": {},
     "output_type": "execute_result"
    }
   ],
   "source": [
    "type(phrase)"
   ]
  },
  {
   "cell_type": "code",
   "execution_count": 23,
   "id": "27cb68f1",
   "metadata": {},
   "outputs": [
    {
     "name": "stdout",
     "output_type": "stream",
     "text": [
      "23\n"
     ]
    },
    {
     "data": {
      "text/plain": [
       "'23'"
      ]
     },
     "execution_count": 23,
     "metadata": {},
     "output_type": "execute_result"
    }
   ],
   "source": [
    "input()"
   ]
  },
  {
   "cell_type": "code",
   "execution_count": 24,
   "id": "d51d1b05",
   "metadata": {},
   "outputs": [],
   "source": [
    "?input"
   ]
  },
  {
   "cell_type": "code",
   "execution_count": 25,
   "id": "828aa922",
   "metadata": {},
   "outputs": [
    {
     "data": {
      "text/plain": [
       "str"
      ]
     },
     "execution_count": 25,
     "metadata": {},
     "output_type": "execute_result"
    }
   ],
   "source": [
    "type(phrase)"
   ]
  },
  {
   "cell_type": "markdown",
   "id": "63d2c267",
   "metadata": {},
   "source": [
    "Créer une nouvelle variable"
   ]
  },
  {
   "cell_type": "code",
   "execution_count": 29,
   "id": "5abd0562",
   "metadata": {},
   "outputs": [],
   "source": [
    "variable_texte = 'Ceci est du texte'"
   ]
  },
  {
   "cell_type": "code",
   "execution_count": 30,
   "id": "7a675e28",
   "metadata": {},
   "outputs": [
    {
     "data": {
      "text/plain": [
       "str"
      ]
     },
     "execution_count": 30,
     "metadata": {},
     "output_type": "execute_result"
    }
   ],
   "source": [
    "type(variable_texte)"
   ]
  },
  {
   "cell_type": "code",
   "execution_count": 31,
   "id": "31049d45",
   "metadata": {},
   "outputs": [
    {
     "data": {
      "text/plain": [
       "'Ceci est du texte'"
      ]
     },
     "execution_count": 31,
     "metadata": {},
     "output_type": "execute_result"
    }
   ],
   "source": [
    "variable_texte"
   ]
  },
  {
   "cell_type": "code",
   "execution_count": 32,
   "id": "92b9eb5a",
   "metadata": {},
   "outputs": [
    {
     "ename": "TypeError",
     "evalue": "can only concatenate str (not \"int\") to str",
     "output_type": "error",
     "traceback": [
      "\u001b[0;31m---------------------------------------------------------------------------\u001b[0m",
      "\u001b[0;31mTypeError\u001b[0m                                 Traceback (most recent call last)",
      "Input \u001b[0;32mIn [32]\u001b[0m, in \u001b[0;36m<cell line: 1>\u001b[0;34m()\u001b[0m\n\u001b[0;32m----> 1\u001b[0m \u001b[43mvariable_texte\u001b[49m\u001b[43m \u001b[49m\u001b[38;5;241;43m+\u001b[39;49m\u001b[43m \u001b[49m\u001b[38;5;241;43m1\u001b[39;49m\n",
      "\u001b[0;31mTypeError\u001b[0m: can only concatenate str (not \"int\") to str"
     ]
    }
   ],
   "source": [
    "variable_texte + 1"
   ]
  },
  {
   "cell_type": "code",
   "execution_count": 33,
   "id": "bc59f316",
   "metadata": {},
   "outputs": [
    {
     "data": {
      "text/plain": [
       "'Ceci est du texte et ceci en est aussi'"
      ]
     },
     "execution_count": 33,
     "metadata": {},
     "output_type": "execute_result"
    }
   ],
   "source": [
    "variable_texte + \" et ceci en est aussi\""
   ]
  },
  {
   "cell_type": "code",
   "execution_count": 34,
   "id": "5ec5ebf5",
   "metadata": {},
   "outputs": [],
   "source": [
    "variable_texte = variable_texte + \" morceau de texte\""
   ]
  },
  {
   "cell_type": "code",
   "execution_count": 35,
   "id": "88daddb7",
   "metadata": {},
   "outputs": [
    {
     "data": {
      "text/plain": [
       "'Ceci est du texte morceau de texte'"
      ]
     },
     "execution_count": 35,
     "metadata": {},
     "output_type": "execute_result"
    }
   ],
   "source": [
    "variable_texte"
   ]
  },
  {
   "cell_type": "markdown",
   "id": "aea4b693",
   "metadata": {},
   "source": [
    "**Les objets ont des méthodes et des propriétés internes**"
   ]
  },
  {
   "cell_type": "code",
   "execution_count": 36,
   "id": "f5c1d901",
   "metadata": {},
   "outputs": [
    {
     "data": {
      "text/plain": [
       "str"
      ]
     },
     "execution_count": 36,
     "metadata": {},
     "output_type": "execute_result"
    }
   ],
   "source": [
    "type(variable_texte)"
   ]
  },
  {
   "cell_type": "markdown",
   "id": "822b564d",
   "metadata": {},
   "source": [
    "## Quatrième ligne"
   ]
  },
  {
   "cell_type": "code",
   "execution_count": 37,
   "id": "75a27846",
   "metadata": {},
   "outputs": [],
   "source": [
    "liste_mots = phrase.split(\" \")"
   ]
  },
  {
   "cell_type": "code",
   "execution_count": 39,
   "id": "cb6e7a36",
   "metadata": {},
   "outputs": [
    {
     "data": {
      "text/plain": [
       "'CECI EST MA PHRASE'"
      ]
     },
     "execution_count": 39,
     "metadata": {},
     "output_type": "execute_result"
    }
   ],
   "source": [
    "phrase.upper()"
   ]
  },
  {
   "cell_type": "code",
   "execution_count": 40,
   "id": "c28a5b62",
   "metadata": {},
   "outputs": [
    {
     "data": {
      "text/plain": [
       "'ceci est ma phrase'"
      ]
     },
     "execution_count": 40,
     "metadata": {},
     "output_type": "execute_result"
    }
   ],
   "source": [
    "phrase.lower()"
   ]
  },
  {
   "cell_type": "code",
   "execution_count": 41,
   "id": "5d2518ac",
   "metadata": {},
   "outputs": [
    {
     "data": {
      "text/plain": [
       "['Ceci', 'est', 'ma', 'phrase']"
      ]
     },
     "execution_count": 41,
     "metadata": {},
     "output_type": "execute_result"
    }
   ],
   "source": [
    "phrase.split(\" \")"
   ]
  },
  {
   "cell_type": "code",
   "execution_count": 43,
   "id": "55e6499f",
   "metadata": {},
   "outputs": [],
   "source": [
    "#dir(phrase)"
   ]
  },
  {
   "cell_type": "markdown",
   "id": "329dc4ff",
   "metadata": {},
   "source": [
    "### Parenthèse : changement de type"
   ]
  },
  {
   "cell_type": "code",
   "execution_count": 45,
   "id": "dc274699",
   "metadata": {},
   "outputs": [
    {
     "data": {
      "text/plain": [
       "10"
      ]
     },
     "execution_count": 45,
     "metadata": {},
     "output_type": "execute_result"
    }
   ],
   "source": [
    "int(\"10\")"
   ]
  },
  {
   "cell_type": "code",
   "execution_count": 46,
   "id": "e59ab707",
   "metadata": {},
   "outputs": [
    {
     "data": {
      "text/plain": [
       "'100'"
      ]
     },
     "execution_count": 46,
     "metadata": {},
     "output_type": "execute_result"
    }
   ],
   "source": [
    "str(100)"
   ]
  },
  {
   "cell_type": "code",
   "execution_count": 47,
   "id": "bbb7d0c3",
   "metadata": {},
   "outputs": [
    {
     "ename": "TypeError",
     "evalue": "can only concatenate str (not \"int\") to str",
     "output_type": "error",
     "traceback": [
      "\u001b[0;31m---------------------------------------------------------------------------\u001b[0m",
      "\u001b[0;31mTypeError\u001b[0m                                 Traceback (most recent call last)",
      "Input \u001b[0;32mIn [47]\u001b[0m, in \u001b[0;36m<cell line: 1>\u001b[0;34m()\u001b[0m\n\u001b[0;32m----> 1\u001b[0m \u001b[38;5;124;43m\"\u001b[39;49m\u001b[38;5;124;43mCeci est un nombre : \u001b[39;49m\u001b[38;5;124;43m\"\u001b[39;49m\u001b[43m \u001b[49m\u001b[38;5;241;43m+\u001b[39;49m\u001b[43m \u001b[49m\u001b[38;5;241;43m10\u001b[39;49m\n",
      "\u001b[0;31mTypeError\u001b[0m: can only concatenate str (not \"int\") to str"
     ]
    }
   ],
   "source": [
    "\"Ceci est un nombre : \" + 10"
   ]
  },
  {
   "cell_type": "code",
   "execution_count": 48,
   "id": "64575cc2",
   "metadata": {},
   "outputs": [
    {
     "data": {
      "text/plain": [
       "'Ceci est un nombre : 10'"
      ]
     },
     "execution_count": 48,
     "metadata": {},
     "output_type": "execute_result"
    }
   ],
   "source": [
    "\"Ceci est un nombre : \" + str(10)"
   ]
  },
  {
   "cell_type": "code",
   "execution_count": 49,
   "id": "52179e88",
   "metadata": {},
   "outputs": [
    {
     "data": {
      "text/plain": [
       "['Ceci', 'est', 'ma', 'phrase']"
      ]
     },
     "execution_count": 49,
     "metadata": {},
     "output_type": "execute_result"
    }
   ],
   "source": [
    "liste_mots"
   ]
  },
  {
   "cell_type": "code",
   "execution_count": 50,
   "id": "c18dfaea",
   "metadata": {},
   "outputs": [
    {
     "data": {
      "text/plain": [
       "list"
      ]
     },
     "execution_count": 50,
     "metadata": {},
     "output_type": "execute_result"
    }
   ],
   "source": [
    "type(liste_mots)"
   ]
  },
  {
   "cell_type": "markdown",
   "id": "dd1bacef",
   "metadata": {},
   "source": [
    "Accéder à un élément de la liste"
   ]
  },
  {
   "cell_type": "code",
   "execution_count": 51,
   "id": "b6d7ef1b",
   "metadata": {},
   "outputs": [
    {
     "data": {
      "text/plain": [
       "'Ceci'"
      ]
     },
     "execution_count": 51,
     "metadata": {},
     "output_type": "execute_result"
    }
   ],
   "source": [
    "liste_mots[0]"
   ]
  },
  {
   "cell_type": "code",
   "execution_count": 52,
   "id": "26c93167",
   "metadata": {},
   "outputs": [
    {
     "data": {
      "text/plain": [
       "'est'"
      ]
     },
     "execution_count": 52,
     "metadata": {},
     "output_type": "execute_result"
    }
   ],
   "source": [
    "liste_mots[1]"
   ]
  },
  {
   "cell_type": "code",
   "execution_count": 53,
   "id": "65e2ba95",
   "metadata": {},
   "outputs": [],
   "source": [
    "autre_liste = [\"un\",\"chat\",3,\"DIX\"]"
   ]
  },
  {
   "cell_type": "code",
   "execution_count": 54,
   "id": "e7007baa",
   "metadata": {},
   "outputs": [
    {
     "data": {
      "text/plain": [
       "'DIX'"
      ]
     },
     "execution_count": 54,
     "metadata": {},
     "output_type": "execute_result"
    }
   ],
   "source": [
    "autre_liste[3]"
   ]
  },
  {
   "cell_type": "code",
   "execution_count": 55,
   "id": "9606072c",
   "metadata": {},
   "outputs": [],
   "source": [
    "autre_liste.append(\"nouvel élément\")"
   ]
  },
  {
   "cell_type": "code",
   "execution_count": 56,
   "id": "66f04f8c",
   "metadata": {},
   "outputs": [
    {
     "data": {
      "text/plain": [
       "['un', 'chat', 3, 'DIX', 'nouvel élément']"
      ]
     },
     "execution_count": 56,
     "metadata": {},
     "output_type": "execute_result"
    }
   ],
   "source": [
    "autre_liste"
   ]
  },
  {
   "cell_type": "code",
   "execution_count": 58,
   "id": "eec57931",
   "metadata": {},
   "outputs": [],
   "source": [
    "#dir(autre_liste)"
   ]
  },
  {
   "cell_type": "code",
   "execution_count": 59,
   "id": "4825cb25",
   "metadata": {},
   "outputs": [
    {
     "data": {
      "text/plain": [
       "['chat', 3]"
      ]
     },
     "execution_count": 59,
     "metadata": {},
     "output_type": "execute_result"
    }
   ],
   "source": [
    "autre_liste[1:3]"
   ]
  },
  {
   "cell_type": "markdown",
   "id": "a45c0c67",
   "metadata": {},
   "source": [
    "## Cinquième ligne"
   ]
  },
  {
   "cell_type": "code",
   "execution_count": 60,
   "id": "9b7532d7",
   "metadata": {},
   "outputs": [],
   "source": [
    "nombre_mots = len(liste_mots)"
   ]
  },
  {
   "cell_type": "code",
   "execution_count": 61,
   "id": "344ff54d",
   "metadata": {},
   "outputs": [
    {
     "data": {
      "text/plain": [
       "4"
      ]
     },
     "execution_count": 61,
     "metadata": {},
     "output_type": "execute_result"
    }
   ],
   "source": [
    "len(liste_mots)"
   ]
  },
  {
   "cell_type": "code",
   "execution_count": 62,
   "id": "fd43fee0",
   "metadata": {},
   "outputs": [
    {
     "data": {
      "text/plain": [
       "3"
      ]
     },
     "execution_count": 62,
     "metadata": {},
     "output_type": "execute_result"
    }
   ],
   "source": [
    "len([1,2,3])"
   ]
  },
  {
   "cell_type": "code",
   "execution_count": 63,
   "id": "743c6b76",
   "metadata": {},
   "outputs": [
    {
     "data": {
      "text/plain": [
       "6"
      ]
     },
     "execution_count": 63,
     "metadata": {},
     "output_type": "execute_result"
    }
   ],
   "source": [
    "len(\"Un mot\")"
   ]
  },
  {
   "cell_type": "markdown",
   "id": "5ffc3515",
   "metadata": {},
   "source": [
    "## Calcul logique et de condition"
   ]
  },
  {
   "cell_type": "code",
   "execution_count": 64,
   "id": "5e1d251b",
   "metadata": {},
   "outputs": [
    {
     "data": {
      "text/plain": [
       "False"
      ]
     },
     "execution_count": 64,
     "metadata": {},
     "output_type": "execute_result"
    }
   ],
   "source": [
    "1 == 10"
   ]
  },
  {
   "cell_type": "code",
   "execution_count": 65,
   "id": "c813ce03",
   "metadata": {},
   "outputs": [
    {
     "data": {
      "text/plain": [
       "True"
      ]
     },
     "execution_count": 65,
     "metadata": {},
     "output_type": "execute_result"
    }
   ],
   "source": [
    "1 < 10"
   ]
  },
  {
   "cell_type": "code",
   "execution_count": 66,
   "id": "dbb6432b",
   "metadata": {},
   "outputs": [
    {
     "data": {
      "text/plain": [
       "True"
      ]
     },
     "execution_count": 66,
     "metadata": {},
     "output_type": "execute_result"
    }
   ],
   "source": [
    "(10 > 100) or (10 > 1)"
   ]
  },
  {
   "cell_type": "code",
   "execution_count": 67,
   "id": "0ca7aaf0",
   "metadata": {},
   "outputs": [
    {
     "data": {
      "text/plain": [
       "True"
      ]
     },
     "execution_count": 67,
     "metadata": {},
     "output_type": "execute_result"
    }
   ],
   "source": [
    "1 in [1,2,3,4]"
   ]
  },
  {
   "cell_type": "code",
   "execution_count": null,
   "id": "a68355b6",
   "metadata": {},
   "outputs": [],
   "source": []
  },
  {
   "cell_type": "code",
   "execution_count": null,
   "id": "42c80758",
   "metadata": {},
   "outputs": [],
   "source": []
  }
 ],
 "metadata": {
  "kernelspec": {
   "display_name": "Python 3 (ipykernel)",
   "language": "python",
   "name": "python3"
  },
  "language_info": {
   "codemirror_mode": {
    "name": "ipython",
    "version": 3
   },
   "file_extension": ".py",
   "mimetype": "text/x-python",
   "name": "python",
   "nbconvert_exporter": "python",
   "pygments_lexer": "ipython3",
   "version": "3.8.12"
  }
 },
 "nbformat": 4,
 "nbformat_minor": 5
}
