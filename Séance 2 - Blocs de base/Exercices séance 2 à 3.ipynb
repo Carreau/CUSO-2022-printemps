{
 "cells": [
  {
   "cell_type": "markdown",
   "id": "e978d295",
   "metadata": {},
   "source": [
    "# Exercices entre la séance 2 et 3"
   ]
  },
  {
   "cell_type": "markdown",
   "id": "d731e557",
   "metadata": {},
   "source": [
    "## Exercice 0\n",
    "\n",
    "Calculer la somme des nombres entiers de 1 à 10000 (sans passer par une formule analytique ^^)"
   ]
  },
  {
   "cell_type": "markdown",
   "id": "17c02fc4",
   "metadata": {},
   "source": [
    "## Exercice 1\n",
    "\n",
    "- créez un dictionnaire contenant les paires clé:valeur suivantes : (\"letemps\":\"Une hausse des primes de 10% reste peu probable\") ; (\"lematin\":\"Le nom d’Anne-Sophie Lapix rejeté du débat de l’entre-deux tours\") ; (\"tdg\":\"DJ Mitch, 77 ans, face à un juge pour avoir fui à vélo\")\n",
    "- faites une boucle for sur le dictionnaire pour afficher toutes les valeurs avec print (prenez le temps de faire des tests)"
   ]
  },
  {
   "cell_type": "markdown",
   "id": "6417be2b",
   "metadata": {},
   "source": [
    "## Exercice 2\n",
    "\n",
    "Modifiez le script analysé dans la première séance pour effectuer l'opération sur chacun des textes contenu contenu dans le dictionnaire précédent "
   ]
  },
  {
   "cell_type": "markdown",
   "id": "13fd520e",
   "metadata": {},
   "source": [
    "## Exercice 3\n",
    "\n",
    "- Trouver deux manières de compter le nombre de fois où la lettre \"a\" apparaît dans une phrase (pensez à regarder sur internet)\n",
    "- Pour une phrase quelconque, construisez un dictionnaire de la fréquence de chaque lettre"
   ]
  }
 ],
 "metadata": {
  "kernelspec": {
   "display_name": "Python 3 (ipykernel)",
   "language": "python",
   "name": "python3"
  },
  "language_info": {
   "codemirror_mode": {
    "name": "ipython",
    "version": 3
   },
   "file_extension": ".py",
   "mimetype": "text/x-python",
   "name": "python",
   "nbconvert_exporter": "python",
   "pygments_lexer": "ipython3",
   "version": "3.8.12"
  }
 },
 "nbformat": 4,
 "nbformat_minor": 5
}
