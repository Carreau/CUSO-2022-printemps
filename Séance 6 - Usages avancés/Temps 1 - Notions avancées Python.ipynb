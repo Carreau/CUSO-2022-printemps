{
 "cells": [
  {
   "cell_type": "markdown",
   "metadata": {},
   "source": [
    "# Notions avancées en Python"
   ]
  },
  {
   "cell_type": "markdown",
   "metadata": {},
   "source": [
    "On aimerait améliorer notre chargement de données pour analyser uniquemement un pays\n",
    "\n",
    "Pour cela on va voir quelques notions qu'on a pas encore vu :\n",
    "\n",
    "- compréhension de liste\n",
    "- gestion des exceptions\n",
    "- création de class\n",
    "- construction d'un module\n",
    "\n",
    "Et si on a le temps les commandes magiques."
   ]
  },
  {
   "cell_type": "markdown",
   "metadata": {},
   "source": [
    "Notre point de départ : un script comme celui de la semaine dernière bricolé\n",
    "\n",
    "Notre point d'arrivé : cacher un peu tout ça"
   ]
  },
  {
   "cell_type": "markdown",
   "metadata": {},
   "source": [
    "## 0. Chargement des données & recodage"
   ]
  },
  {
   "cell_type": "code",
   "execution_count": 12,
   "metadata": {},
   "outputs": [],
   "source": [
    "import pandas as pd\n",
    "pd.options.mode.chained_assignment = None  # default='warn'\n",
    "import pyshs\n",
    "import matplotlib.pyplot as plt\n",
    "import pyreadstat\n",
    "\n",
    "def question(v,meta):\n",
    "    return meta.column_names_to_labels[v]\n",
    "\n",
    "def modalites(v,meta):\n",
    "    return meta.value_labels[meta.variable_to_label[v]]\n",
    "\n",
    "df, meta = pyreadstat.read_sav('./wgm-full-wave2-public-file.sav')\n",
    "\n",
    "# Sélection de la suisse\n",
    "data = df[df[\"COUNTRYNEW\"]==\"Switzerland\"]\n",
    "\n",
    "data[\"poids\"] = data[\"WGT\"]\n",
    "data[\"pays\"] = data[\"COUNTRYNEW\"]\n",
    "data[\"age\"] = data[\"Age\"].fillna(\"NA\")\n",
    "data[\"age_reco\"] = pd.cut(data['Age'],[0,35,45,55,65,100],\n",
    "                labels = [\"1-[15-35[\",\"2-[35-45[\",\"3-[45-55[\",\"4-[55-65[\",\"5-[65-75]\"])\n",
    "data[\"genre\"] = data[\"Gender\"].replace({1.0: '1-Male', 2.0: '2-Female'})\n",
    "data[\"education\"] = data[\"Education\"].replace(modalites('Education',meta))\n",
    "data[\"revenus\"] = data[\"Household_Income\"].replace({1.0: 'Q1', 2.0: 'Q2',3:\"Q3\",4:\"Q4\",5:\"Q5\"})\n",
    "\n",
    "\n",
    "reco = {1:\"1-A lot\", 2:\"2-Some\", 3:\"3-Not much/at all\",4:\"3-Not much/at all\",99:\"4-NA\"}\n",
    "data[\"connaissance_science\"] = data['W1'].replace(reco)\n",
    "data[\"comprendre_science\"] = data['W2'].replace(reco)\n",
    "data[\"education_science\"] = data[\"W3\"].replace(modalites('W3',meta))\n",
    "data[\"confiance_hopital\"] = data[\"W4\"].replace(reco)\n",
    "data[\"confiance_science\"] = data[\"W6\"].replace(reco)"
   ]
  },
  {
   "cell_type": "markdown",
   "metadata": {},
   "source": [
    "### Est-ce qu'un pays est dans la liste ?\n",
    "\n",
    "Notion de list comprehension"
   ]
  },
  {
   "cell_type": "code",
   "execution_count": 6,
   "metadata": {},
   "outputs": [],
   "source": [
    "pays = df[\"COUNTRYNEW\"].unique()"
   ]
  },
  {
   "cell_type": "code",
   "execution_count": 8,
   "metadata": {},
   "outputs": [
    {
     "data": {
      "text/plain": [
       "array(['United States', 'Egypt', 'Morocco', 'Lebanon', 'Saudi Arabia',\n",
       "       'Jordan', 'Turkey', 'Indonesia', 'Bangladesh', 'United Kingdom',\n",
       "       'France', 'Germany', 'Netherlands', 'Belgium', 'Spain', 'Italy',\n",
       "       'Poland', 'Hungary', 'Czech Republic', 'Romania', 'Sweden',\n",
       "       'Greece', 'Denmark', 'Iran', 'Hong Kong', 'Japan', 'China',\n",
       "       'India', 'Venezuela', 'Brazil', 'Mexico', 'Nigeria', 'Kenya',\n",
       "       'Tanzania', 'Israel', 'Ghana', 'Uganda', 'Benin', 'South Africa',\n",
       "       'Canada', 'Australia', 'Philippines', 'Sri Lanka', 'Vietnam',\n",
       "       'Thailand', 'Cambodia', 'Laos', 'Myanmar', 'New Zealand',\n",
       "       'Ethiopia', 'Mali', 'Senegal', 'Zambia', 'South Korea', 'Taiwan',\n",
       "       'Georgia', 'Kazakhstan', 'Kyrgyzstan', 'Moldova', 'Russia',\n",
       "       'Ukraine', 'Burkina Faso', 'Cameroon', 'Zimbabwe', 'Costa Rica',\n",
       "       'Albania', 'Algeria', 'Argentina', 'Austria', 'Bahrain', 'Bolivia',\n",
       "       'Bosnia Herzegovina', 'Bulgaria', 'Chile', 'Colombia',\n",
       "       'Congo Brazzaville', 'Croatia', 'Cyprus', 'Dominican Republic',\n",
       "       'Ecuador', 'El Salvador', 'Estonia', 'Finland', 'Gabon', 'Guinea',\n",
       "       'Iraq', 'Ireland', 'Ivory Coast', 'Latvia', 'Lithuania',\n",
       "       'North Macedonia', 'Malaysia', 'Malta', 'Mauritius', 'Mongolia',\n",
       "       'Montenegro', 'Namibia', 'Nepal', 'Nicaragua', 'Norway',\n",
       "       'Paraguay', 'Peru', 'Portugal', 'Serbia', 'Slovakia', 'Slovenia',\n",
       "       'Switzerland', 'Tajikistan', 'Tunisia', 'United Arab Emirates',\n",
       "       'Uruguay', 'Uzbekistan', 'Kosovo'], dtype=object)"
      ]
     },
     "execution_count": 8,
     "metadata": {},
     "output_type": "execute_result"
    }
   ],
   "source": [
    "pays"
   ]
  },
  {
   "cell_type": "raw",
   "metadata": {},
   "source": [
    "Pour parcourir une liste et filtrer par exemple que les pays qui ont dans le nom \"United\" on peut faire une boule mais on peut aussi utiliser la list comprehension"
   ]
  },
  {
   "cell_type": "code",
   "execution_count": 9,
   "metadata": {},
   "outputs": [
    {
     "data": {
      "text/plain": [
       "['United States', 'United Kingdom', 'United Arab Emirates']"
      ]
     },
     "execution_count": 9,
     "metadata": {},
     "output_type": "execute_result"
    }
   ],
   "source": [
    "[i for i in pays if \"united\" in i.lower()]"
   ]
  },
  {
   "cell_type": "markdown",
   "metadata": {},
   "source": [
    "### Gestion des erreurs"
   ]
  },
  {
   "cell_type": "markdown",
   "metadata": {},
   "source": [
    "SI maintenant on voulait faire un petit script qui prend en entrée le nom d'un pays et renvoie la statistique associée"
   ]
  },
  {
   "cell_type": "code",
   "execution_count": 22,
   "metadata": {},
   "outputs": [
    {
     "name": "stdout",
     "output_type": "stream",
     "text": [
      "Nom du pays :France\n",
      "Series([], Name: confiance_science, dtype: int64)\n"
     ]
    },
    {
     "ename": "AttributeError",
     "evalue": "'NoneType' object has no attribute 'loc'",
     "output_type": "error",
     "traceback": [
      "\u001b[0;31m---------------------------------------------------------------------------\u001b[0m",
      "\u001b[0;31mAttributeError\u001b[0m                            Traceback (most recent call last)",
      "Input \u001b[0;32mIn [22]\u001b[0m, in \u001b[0;36m<cell line: 2>\u001b[0;34m()\u001b[0m\n\u001b[1;32m      1\u001b[0m p \u001b[38;5;241m=\u001b[39m \u001b[38;5;28minput\u001b[39m(\u001b[38;5;124m\"\u001b[39m\u001b[38;5;124mNom du pays :\u001b[39m\u001b[38;5;124m\"\u001b[39m)\n\u001b[0;32m----> 2\u001b[0m \u001b[38;5;28;43mprint\u001b[39;49m\u001b[43m(\u001b[49m\u001b[43mdata\u001b[49m\u001b[43m[\u001b[49m\u001b[43mdata\u001b[49m\u001b[43m[\u001b[49m\u001b[38;5;124;43m\"\u001b[39;49m\u001b[38;5;124;43mCOUNTRYNEW\u001b[39;49m\u001b[38;5;124;43m\"\u001b[39;49m\u001b[43m]\u001b[49m\u001b[38;5;241;43m==\u001b[39;49m\u001b[43mp\u001b[49m\u001b[43m]\u001b[49m\u001b[43m[\u001b[49m\u001b[38;5;124;43m\"\u001b[39;49m\u001b[38;5;124;43mconfiance_science\u001b[39;49m\u001b[38;5;124;43m\"\u001b[39;49m\u001b[43m]\u001b[49m\u001b[38;5;241;43m.\u001b[39;49m\u001b[43mvalue_counts\u001b[49m\u001b[43m(\u001b[49m\u001b[43m)\u001b[49m\u001b[43m)\u001b[49m\u001b[38;5;241;43m.\u001b[39;49m\u001b[43mloc\u001b[49m[\u001b[38;5;124m\"\u001b[39m\u001b[38;5;124m1-A lot\u001b[39m\u001b[38;5;124m\"\u001b[39m]\n",
      "\u001b[0;31mAttributeError\u001b[0m: 'NoneType' object has no attribute 'loc'"
     ]
    }
   ],
   "source": [
    "p = input(\"Nom du pays :\")\n",
    "print(data[data[\"COUNTRYNEW\"]==p][\"confiance_science\"].value_counts()).loc[\"1-A lot\"]"
   ]
  },
  {
   "cell_type": "markdown",
   "metadata": {},
   "source": [
    "Il peut y avoir des erreurs dans un programme, comment les gérer ?\n",
    "\n",
    "- Les erreurs ont un type\n",
    "- il est possible de les \"attraper\""
   ]
  },
  {
   "cell_type": "code",
   "execution_count": 23,
   "metadata": {},
   "outputs": [
    {
     "name": "stdout",
     "output_type": "stream",
     "text": [
      "Nom du pays :qsqsd\n",
      "Series([], Name: confiance_science, dtype: int64)\n",
      "Un souci dans le code\n"
     ]
    }
   ],
   "source": [
    "p = input(\"Nom du pays :\")\n",
    "try:\n",
    "    print(data[data[\"COUNTRYNEW\"]==p][\"confiance_science\"].value_counts()).loc[\"1-A lot\"]\n",
    "except:\n",
    "    print(\"Un souci dans le code\")"
   ]
  },
  {
   "cell_type": "markdown",
   "metadata": {},
   "source": [
    "### Améliorer notre code : créer nos objets\n",
    "\n",
    "Dans le cas précédent on charge un fichier SPSS, on manipule les données et les métadonnées, et souvent on ne s'intéresse qu'à un pays. Est-ce qu'on pourrait faire directement un objet qui fait tout ça ?"
   ]
  },
  {
   "cell_type": "code",
   "execution_count": 25,
   "metadata": {},
   "outputs": [],
   "source": [
    "class stats_pays:\n",
    "    def __init__(self,name=\"Switzerland\"):\n",
    "        df, meta = pyreadstat.read_sav('./wgm-full-wave2-public-file.sav')\n",
    "        self.data = df[df[\"COUNTRYNEW\"]==name]\n",
    "        self.meta = meta"
   ]
  },
  {
   "cell_type": "markdown",
   "metadata": {},
   "source": [
    "On peut rajouter des méthodes à notre objet, par ex nos deux fonctions"
   ]
  },
  {
   "cell_type": "code",
   "execution_count": 33,
   "metadata": {},
   "outputs": [],
   "source": [
    "class stats_pays:\n",
    "    def __init__(self,name=\"Switzerland\"):\n",
    "        df, meta = pyreadstat.read_sav('./wgm-full-wave2-public-file.sav')\n",
    "        self.data = df[df[\"COUNTRYNEW\"]==name]\n",
    "        self.meta = meta\n",
    "        \n",
    "    def question(self, v):\n",
    "        return self.meta.column_names_to_labels[v]\n",
    "\n",
    "    def modalites(self, v):\n",
    "        return self.meta.value_labels[meta.variable_to_label[v]]"
   ]
  },
  {
   "cell_type": "code",
   "execution_count": 34,
   "metadata": {},
   "outputs": [],
   "source": [
    "suisse = stats_pays()"
   ]
  },
  {
   "cell_type": "code",
   "execution_count": 35,
   "metadata": {},
   "outputs": [
    {
     "data": {
      "text/plain": [
       "'How Much You Understand the Meaning of Science and Scientists'"
      ]
     },
     "execution_count": 35,
     "metadata": {},
     "output_type": "execute_result"
    }
   ],
   "source": [
    "suisse.question(\"W2\")"
   ]
  },
  {
   "cell_type": "markdown",
   "metadata": {},
   "source": [
    "On peut intégrer tous les recodages dans notre objet"
   ]
  },
  {
   "cell_type": "markdown",
   "metadata": {},
   "source": [
    "### Création d'un module"
   ]
  },
  {
   "cell_type": "markdown",
   "metadata": {},
   "source": [
    "tout le code qu'on a là, on le réutilise de fichier en fichier\n",
    "\n",
    "On peut le mettre dans un fichier .py et le charger, qui rend disponible notre objet"
   ]
  },
  {
   "cell_type": "markdown",
   "metadata": {},
   "source": [
    "## Les formules magiques"
   ]
  },
  {
   "cell_type": "markdown",
   "metadata": {},
   "source": [
    "Un mot sur les magics : https://ipython.readthedocs.io/en/stable/interactive/magics.html"
   ]
  },
  {
   "cell_type": "markdown",
   "metadata": {},
   "source": [
    "Cas de %time et %timeit pour le temps d'exécution"
   ]
  }
 ],
 "metadata": {
  "kernelspec": {
   "display_name": "Python 3 (ipykernel)",
   "language": "python",
   "name": "python3"
  },
  "language_info": {
   "codemirror_mode": {
    "name": "ipython",
    "version": 3
   },
   "file_extension": ".py",
   "mimetype": "text/x-python",
   "name": "python",
   "nbconvert_exporter": "python",
   "pygments_lexer": "ipython3",
   "version": "3.10.4"
  }
 },
 "nbformat": 4,
 "nbformat_minor": 4
}
