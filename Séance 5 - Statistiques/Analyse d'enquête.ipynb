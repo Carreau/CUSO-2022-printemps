{
 "cells": [
  {
   "cell_type": "markdown",
   "id": "dda2c847",
   "metadata": {},
   "source": [
    "# Analyse d'enquête"
   ]
  },
  {
   "cell_type": "code",
   "execution_count": 46,
   "id": "2a41328b",
   "metadata": {},
   "outputs": [],
   "source": [
    "import pandas as pd\n",
    "pd.options.mode.chained_assignment = None"
   ]
  },
  {
   "cell_type": "code",
   "execution_count": 4,
   "id": "cd2dc651",
   "metadata": {},
   "outputs": [
    {
     "data": {
      "text/plain": [
       "(119088, 89)"
      ]
     },
     "execution_count": 4,
     "metadata": {},
     "output_type": "execute_result"
    }
   ],
   "source": [
    "data = pd.read_spss(\"./wgm-full-wave2-public-file.sav\")\n",
    "data.shape"
   ]
  },
  {
   "cell_type": "markdown",
   "id": "a5090531",
   "metadata": {},
   "source": [
    "Utiliser une autre bibliothèque `pyreadstat`"
   ]
  },
  {
   "cell_type": "code",
   "execution_count": 6,
   "id": "67c08cac",
   "metadata": {},
   "outputs": [
    {
     "name": "stdout",
     "output_type": "stream",
     "text": [
      "Requirement already satisfied: pyreadstat in /Users/emilien/anaconda3/envs/geo_env/lib/python3.10/site-packages (1.1.5)\n",
      "Requirement already satisfied: pandas>=1.2.0 in /Users/emilien/anaconda3/envs/geo_env/lib/python3.10/site-packages (from pyreadstat) (1.4.2)\n",
      "Requirement already satisfied: python-dateutil>=2.8.1 in /Users/emilien/anaconda3/envs/geo_env/lib/python3.10/site-packages (from pandas>=1.2.0->pyreadstat) (2.8.2)\n",
      "Requirement already satisfied: pytz>=2020.1 in /Users/emilien/anaconda3/envs/geo_env/lib/python3.10/site-packages (from pandas>=1.2.0->pyreadstat) (2022.1)\n",
      "Requirement already satisfied: numpy>=1.21.0 in /Users/emilien/anaconda3/envs/geo_env/lib/python3.10/site-packages (from pandas>=1.2.0->pyreadstat) (1.22.3)\n",
      "Requirement already satisfied: six>=1.5 in /Users/emilien/anaconda3/envs/geo_env/lib/python3.10/site-packages (from python-dateutil>=2.8.1->pandas>=1.2.0->pyreadstat) (1.16.0)\n"
     ]
    }
   ],
   "source": [
    "!pip install pyreadstat"
   ]
  },
  {
   "cell_type": "code",
   "execution_count": 9,
   "id": "bd8c5825",
   "metadata": {},
   "outputs": [],
   "source": [
    "import pyreadstat\n",
    "\n",
    "data,meta = pyreadstat.read_sav(\"./wgm-full-wave2-public-file.sav\")"
   ]
  },
  {
   "cell_type": "markdown",
   "id": "81293aab",
   "metadata": {},
   "source": [
    "Créer des outils adaptés à mon analyse statistique"
   ]
  },
  {
   "cell_type": "code",
   "execution_count": 24,
   "id": "4ed15466",
   "metadata": {},
   "outputs": [],
   "source": [
    "def question(label,meta):\n",
    "    return meta.column_names_to_labels[label]\n",
    "\n",
    "def modalites(label,meta):\n",
    "    return meta.value_labels[meta.variable_to_label[label]]"
   ]
  },
  {
   "cell_type": "code",
   "execution_count": 25,
   "id": "1263e699",
   "metadata": {},
   "outputs": [
    {
     "data": {
      "text/plain": [
       "{1.0: 'A lot',\n",
       " 2.0: 'Some',\n",
       " 3.0: 'Not much',\n",
       " 4.0: 'Nothing at all',\n",
       " 99.0: 'DK/Refused'}"
      ]
     },
     "execution_count": 25,
     "metadata": {},
     "output_type": "execute_result"
    }
   ],
   "source": [
    "modalites(\"W1\",meta)"
   ]
  },
  {
   "cell_type": "markdown",
   "id": "6aac44e5",
   "metadata": {},
   "source": [
    "### Quelle a été l'attitude des suisses vis-à-vis de la sicence en 2020"
   ]
  },
  {
   "cell_type": "code",
   "execution_count": 26,
   "id": "8422e2db",
   "metadata": {},
   "outputs": [
    {
     "data": {
      "text/plain": [
       "'How Much You Know About Science'"
      ]
     },
     "execution_count": 26,
     "metadata": {},
     "output_type": "execute_result"
    }
   ],
   "source": [
    "question(\"W1\",meta)"
   ]
  },
  {
   "cell_type": "code",
   "execution_count": 27,
   "id": "12e2de4c",
   "metadata": {},
   "outputs": [
    {
     "data": {
      "text/plain": [
       "'How Much You Understand the Meaning of Science and Scientists'"
      ]
     },
     "execution_count": 27,
     "metadata": {},
     "output_type": "execute_result"
    }
   ],
   "source": [
    "question(\"W2\",meta)"
   ]
  },
  {
   "cell_type": "code",
   "execution_count": 28,
   "id": "51f97286",
   "metadata": {},
   "outputs": [
    {
     "data": {
      "text/plain": [
       "'Trust Science'"
      ]
     },
     "execution_count": 28,
     "metadata": {},
     "output_type": "execute_result"
    }
   ],
   "source": [
    "question(\"W6\",meta)"
   ]
  },
  {
   "cell_type": "markdown",
   "id": "80d2142b",
   "metadata": {},
   "source": [
    "On va se concentrer sur la suisse\n",
    "\n",
    "Dans le cas d'une réflexion qui porte sur le rapport à la science :\n",
    "\n",
    "Variables dépendantes d'intérêt:\n",
    "\n",
    "'W6': 'Trust Science'\n",
    "\n",
    "Variables indépendantes\n",
    "\n",
    "- 'Age': 'Age',\n",
    "- 'Gender': 'Gender',\n",
    "- 'Education': 'Education Level',\n",
    "- 'Household_Income': 'Per Capita Income Quintiles',\n",
    "- 'Global11Regions': 'Global regions used in report analysis',\n",
    "- 'wbi': 'Country income level -- World Bank most recent definition',\n",
    "\n",
    "\n",
    "Différents items sur la confiance : \n",
    "\n",
    "- 'W5A': 'Trust People in Neighborhood', \n",
    "- 'W5B': 'Trust the National Government in This Country', 'W5C': 'Trust Scientists in This Country', 'W5D': 'Trust Journalists in This Country', 'W5E': 'Trust Doctors and Nurses in This Country', 'W5F': 'Trust People Who Work at Charitable Organizations or NGOs in This Country', 'W5G': 'Trust Traditional Healers in This Country',"
   ]
  },
  {
   "cell_type": "markdown",
   "id": "223ef0bc",
   "metadata": {},
   "source": [
    "### Sous corpus pour la suisse"
   ]
  },
  {
   "cell_type": "code",
   "execution_count": 32,
   "id": "c0bd34cd",
   "metadata": {},
   "outputs": [
    {
     "data": {
      "text/plain": [
       "array(['United States', 'Egypt', 'Morocco', 'Lebanon', 'Saudi Arabia',\n",
       "       'Jordan', 'Turkey', 'Indonesia', 'Bangladesh', 'United Kingdom',\n",
       "       'France', 'Germany', 'Netherlands', 'Belgium', 'Spain', 'Italy',\n",
       "       'Poland', 'Hungary', 'Czech Republic', 'Romania', 'Sweden',\n",
       "       'Greece', 'Denmark', 'Iran', 'Hong Kong', 'Japan', 'China',\n",
       "       'India', 'Venezuela', 'Brazil', 'Mexico', 'Nigeria', 'Kenya',\n",
       "       'Tanzania', 'Israel', 'Ghana', 'Uganda', 'Benin', 'South Africa',\n",
       "       'Canada', 'Australia', 'Philippines', 'Sri Lanka', 'Vietnam',\n",
       "       'Thailand', 'Cambodia', 'Laos', 'Myanmar', 'New Zealand',\n",
       "       'Ethiopia', 'Mali', 'Senegal', 'Zambia', 'South Korea', 'Taiwan',\n",
       "       'Georgia', 'Kazakhstan', 'Kyrgyzstan', 'Moldova', 'Russia',\n",
       "       'Ukraine', 'Burkina Faso', 'Cameroon', 'Zimbabwe', 'Costa Rica',\n",
       "       'Albania', 'Algeria', 'Argentina', 'Austria', 'Bahrain', 'Bolivia',\n",
       "       'Bosnia Herzegovina', 'Bulgaria', 'Chile', 'Colombia',\n",
       "       'Congo Brazzaville', 'Croatia', 'Cyprus', 'Dominican Republic',\n",
       "       'Ecuador', 'El Salvador', 'Estonia', 'Finland', 'Gabon', 'Guinea',\n",
       "       'Iraq', 'Ireland', 'Ivory Coast', 'Latvia', 'Lithuania',\n",
       "       'North Macedonia', 'Malaysia', 'Malta', 'Mauritius', 'Mongolia',\n",
       "       'Montenegro', 'Namibia', 'Nepal', 'Nicaragua', 'Norway',\n",
       "       'Paraguay', 'Peru', 'Portugal', 'Serbia', 'Slovakia', 'Slovenia',\n",
       "       'Switzerland', 'Tajikistan', 'Tunisia', 'United Arab Emirates',\n",
       "       'Uruguay', 'Uzbekistan', 'Kosovo'], dtype=object)"
      ]
     },
     "execution_count": 32,
     "metadata": {},
     "output_type": "execute_result"
    }
   ],
   "source": [
    "data[\"COUNTRYNEW\"].unique()"
   ]
  },
  {
   "cell_type": "code",
   "execution_count": 36,
   "id": "0acd3a15",
   "metadata": {},
   "outputs": [],
   "source": [
    "suisse = data[data[\"COUNTRYNEW\"]==\"Switzerland\"]"
   ]
  },
  {
   "cell_type": "code",
   "execution_count": 39,
   "id": "8e283007",
   "metadata": {},
   "outputs": [
    {
     "data": {
      "text/plain": [
       "1.0     490\n",
       "2.0     419\n",
       "3.0      67\n",
       "4.0      16\n",
       "99.0      8\n",
       "Name: W6, dtype: int64"
      ]
     },
     "execution_count": 39,
     "metadata": {},
     "output_type": "execute_result"
    }
   ],
   "source": [
    "suisse[\"W6\"].value_counts()"
   ]
  },
  {
   "cell_type": "code",
   "execution_count": 40,
   "id": "31e7a13d",
   "metadata": {},
   "outputs": [
    {
     "data": {
      "text/plain": [
       "{1.0: 'A lot',\n",
       " 2.0: 'Some',\n",
       " 3.0: 'Not much',\n",
       " 4.0: 'Not at all',\n",
       " 99.0: 'DK/Refused'}"
      ]
     },
     "execution_count": 40,
     "metadata": {},
     "output_type": "execute_result"
    }
   ],
   "source": [
    "modalites(\"W6\",meta)"
   ]
  },
  {
   "cell_type": "code",
   "execution_count": 42,
   "id": "3602b263",
   "metadata": {},
   "outputs": [
    {
     "data": {
      "text/plain": [
       "A lot         490\n",
       "Some          419\n",
       "Not much       67\n",
       "Not at all     16\n",
       "DK/Refused      8\n",
       "Name: W6, dtype: int64"
      ]
     },
     "execution_count": 42,
     "metadata": {},
     "output_type": "execute_result"
    }
   ],
   "source": [
    "suisse[\"W6\"].replace(modalites(\"W6\",meta)).value_counts()"
   ]
  },
  {
   "cell_type": "markdown",
   "id": "06006512",
   "metadata": {},
   "source": [
    "### Une phrase de recodage"
   ]
  },
  {
   "cell_type": "code",
   "execution_count": 43,
   "id": "07a5547e",
   "metadata": {},
   "outputs": [
    {
     "data": {
      "text/plain": [
       "{1.0: 'A lot',\n",
       " 2.0: 'Some',\n",
       " 3.0: 'Not much',\n",
       " 4.0: 'Not at all',\n",
       " 99.0: 'DK/Refused'}"
      ]
     },
     "execution_count": 43,
     "metadata": {},
     "output_type": "execute_result"
    }
   ],
   "source": [
    "modalites(\"W6\",meta)"
   ]
  },
  {
   "cell_type": "code",
   "execution_count": 47,
   "id": "3d433b8b",
   "metadata": {},
   "outputs": [],
   "source": [
    "suisse[\"confiance_science\"] = suisse[\"W6\"].replace({1:\"1-Beaucoup\",\n",
    "                                                    2:\"2-Un peu\",\n",
    "                                                    3:\"3-Pas\",\n",
    "                                                    4:\"3-Pas\",\n",
    "                                                    99:\"4-NA\"})"
   ]
  },
  {
   "cell_type": "code",
   "execution_count": 49,
   "id": "7f3eb131",
   "metadata": {},
   "outputs": [],
   "source": [
    "import pyshs"
   ]
  },
  {
   "cell_type": "code",
   "execution_count": 51,
   "id": "4275710d",
   "metadata": {},
   "outputs": [],
   "source": [
    "#pyshs.verification_recodage(suisse,\"W6\",\"confiance_science\")"
   ]
  },
  {
   "cell_type": "code",
   "execution_count": 48,
   "id": "fecbfb93",
   "metadata": {},
   "outputs": [
    {
     "data": {
      "text/plain": [
       "1-Beaucoup    490\n",
       "2-Un peu      419\n",
       "3-Pas          83\n",
       "4-NA            8\n",
       "Name: confiance_science, dtype: int64"
      ]
     },
     "execution_count": 48,
     "metadata": {},
     "output_type": "execute_result"
    }
   ],
   "source": [
    "suisse[\"confiance_science\"].value_counts()"
   ]
  }
 ],
 "metadata": {
  "kernelspec": {
   "display_name": "Python 3 (ipykernel)",
   "language": "python",
   "name": "python3"
  },
  "language_info": {
   "codemirror_mode": {
    "name": "ipython",
    "version": 3
   },
   "file_extension": ".py",
   "mimetype": "text/x-python",
   "name": "python",
   "nbconvert_exporter": "python",
   "pygments_lexer": "ipython3",
   "version": "3.10.4"
  }
 },
 "nbformat": 4,
 "nbformat_minor": 5
}
