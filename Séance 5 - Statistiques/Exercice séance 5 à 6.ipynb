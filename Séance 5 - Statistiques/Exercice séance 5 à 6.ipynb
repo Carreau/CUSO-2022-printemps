{
 "cells": [
  {
   "cell_type": "markdown",
   "id": "b440fb74",
   "metadata": {},
   "source": [
    "# Exercices séances 5 à 6\n",
    "\n",
    "Pour ces exercices, nous nous baserons sur les données https://wellcome.org/reports/wellcome-global-monitor-covid-19/2020"
   ]
  },
  {
   "cell_type": "markdown",
   "id": "04779ce7",
   "metadata": {},
   "source": [
    "## Charger les données\n",
    "\n",
    "(télécharger les données avant et les mettre dans le répertoire courant)"
   ]
  },
  {
   "cell_type": "code",
   "execution_count": 1,
   "id": "8843a261",
   "metadata": {},
   "outputs": [],
   "source": [
    "import pyreadstat\n",
    "df, meta = pyreadstat.read_sav('./wgm-full-wave2-public-file.sav')\n",
    "df.shape\n",
    "\n",
    "def question(v, meta):\n",
    "    return meta.column_names_to_labels[v]\n",
    "\n",
    "def modalites(v, meta):\n",
    "    return meta.value_labels[meta.variable_to_label[v]]"
   ]
  },
  {
   "cell_type": "markdown",
   "id": "08fcfe5c",
   "metadata": {},
   "source": [
    "## Exercice 1\n",
    "\n",
    "Qui sont les gens en Suisse qui ne comprennent pas le sens de \"science\" et \"scientifique\" ('W2')\n",
    "\n",
    "- Construisez le tableau de données uniquement pour la Suisse\n",
    "- Recodez la variable 'W2' en regroupant les deux modalités 3 et 4 et donnez des noms explicites aux modalités\n",
    "- Recodez les variables âge, genre, éducation, revenus de manière interprétable (vous pouvez faire des choix)\n",
    "- Faites le tri à plat de la variable avec la Pandas puis avec la bibliothèque PySHS\n",
    "- Faites un diagramme en barres de la distribution des réponses en pourcentage\n",
    "- Faites les tableaux croisés de la variable avec l'âge, le genre, l'éducation et les revenus"
   ]
  },
  {
   "cell_type": "code",
   "execution_count": 3,
   "id": "c7c259a2",
   "metadata": {},
   "outputs": [
    {
     "data": {
      "text/plain": [
       "{1.0: 'All of it',\n",
       " 2.0: 'Some of it',\n",
       " 3.0: 'Not much of it',\n",
       " 4.0: 'None of it',\n",
       " 98.0: '',\n",
       " 99.0: 'DK/Refused'}"
      ]
     },
     "execution_count": 3,
     "metadata": {},
     "output_type": "execute_result"
    }
   ],
   "source": [
    "modalites(\"W2\",meta)"
   ]
  },
  {
   "cell_type": "markdown",
   "id": "98dbf325",
   "metadata": {},
   "source": [
    "## Exercice 2\n",
    "\n",
    "Sur l'ensemble du corpus :\n",
    "\n",
    "- Calculez par pays le pourcentage de personnes qui disent comprendre ce que veux dire \"science\" et \"scientifique\"\n",
    "- Proposez une représentation de taille adaptée\n",
    "- Choisissez les couleurs lisibles\n",
    "- Mettez un titre et des axes claires"
   ]
  },
  {
   "cell_type": "markdown",
   "id": "da531986",
   "metadata": {},
   "source": [
    "## Exercice 3\n",
    "\n",
    "On veut comparer la France et la Suisse sur la confiance. Pour la série de questions W5A, W5B, ... sur la confiance, proposez une représentation visuelle qui compare les réponses des suisses et des français sur les différentes dimensions. \n",
    "\n",
    "Sauvegardez là sous forme .png"
   ]
  },
  {
   "cell_type": "markdown",
   "id": "fd19b6d3",
   "metadata": {},
   "source": [
    "## Exercice bonus\n",
    "\n",
    "(si vous avez des notions de statistiques sur les régressions logistiques)\n",
    "\n",
    "A partir de la bibliothèques Statsmodels, construisez une régression logistique sur la variable indicatrice 1 = ne pas (trop) savoir ce qu'est la science/les scientifiques, 0 sinon en prenant comme variables indépendantes le genre, l'âge divisé en 4 catégories, les revenus et le diplome"
   ]
  }
 ],
 "metadata": {
  "kernelspec": {
   "display_name": "Python 3 (ipykernel)",
   "language": "python",
   "name": "python3"
  },
  "language_info": {
   "codemirror_mode": {
    "name": "ipython",
    "version": 3
   },
   "file_extension": ".py",
   "mimetype": "text/x-python",
   "name": "python",
   "nbconvert_exporter": "python",
   "pygments_lexer": "ipython3",
   "version": "3.10.4"
  }
 },
 "nbformat": 4,
 "nbformat_minor": 5
}
