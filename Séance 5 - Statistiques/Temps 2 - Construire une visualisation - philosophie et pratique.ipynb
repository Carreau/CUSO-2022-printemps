{
 "cells": [
  {
   "cell_type": "markdown",
   "metadata": {},
   "source": [
    "# Visualiser les données"
   ]
  },
  {
   "cell_type": "markdown",
   "metadata": {},
   "source": [
    "## 0. Chargement des données & recodage"
   ]
  },
  {
   "cell_type": "code",
   "execution_count": 1,
   "metadata": {},
   "outputs": [],
   "source": [
    "import pandas as pd\n",
    "pd.options.mode.chained_assignment = None  # default='warn'\n",
    "import pyshs\n",
    "import matplotlib.pyplot as plt\n",
    "import pyreadstat\n",
    "\n",
    "def question(v,meta):\n",
    "    return meta.column_names_to_labels[v]\n",
    "\n",
    "def modalites(v,meta):\n",
    "    return meta.value_labels[meta.variable_to_label[v]]\n",
    "\n",
    "df, meta = pyreadstat.read_sav('./wgm-full-wave2-public-file.sav')\n",
    "\n",
    "data = df[df[\"COUNTRYNEW\"]==\"Switzerland\"]\n",
    "\n",
    "data[\"poids\"] = data[\"WGT\"]\n",
    "\n",
    "data[\"pays\"] = data[\"COUNTRYNEW\"]\n",
    "data[\"age\"] = data[\"Age\"].fillna(\"NA\")\n",
    "data[\"age_reco\"] = pd.cut(data['Age'],[0,35,45,55,65,100],\n",
    "                labels = [\"1-[15-35[\",\"2-[35-45[\",\"3-[45-55[\",\"4-[55-65[\",\"5-[65-75]\"])\n",
    "data[\"genre\"] = data[\"Gender\"].replace({1.0: '1-Male', 2.0: '2-Female'})\n",
    "data[\"education\"] = data[\"Education\"].replace(modalites('Education',meta))\n",
    "data[\"revenus\"] = data[\"Household_Income\"].replace({1.0: 'Q1', 2.0: 'Q2',3:\"Q3\",4:\"Q4\",5:\"Q5\"})\n",
    "data[\"region\"] = data[\"Global11Regions\"].replace(modalites(\"Global11Regions\",meta))\n",
    "data[\"revenus_avis\"] = data[\"Subjective_Income\"].replace(modalites(\"Subjective_Income\",meta))\n",
    "\n",
    "reco = {1:\"1-A lot\", 2:\"2-Some\", 3:\"3-Not much/at all\",4:\"3-Not much/at all\",99:\"4-NA\"}\n",
    "data[\"connaissance_science\"] = data['W1'].replace(reco)\n",
    "data[\"comprendre_science\"] = data['W2'].replace(reco)\n",
    "data[\"education_science\"] = data[\"W3\"].replace(modalites('W3',meta))\n",
    "data[\"confiance_hopital\"] = data[\"W4\"].replace(reco)\n",
    "data[\"confiance_science\"] = data[\"W6\"].replace(reco)\n",
    "data[\"confiance_gouvernement\"] = data[\"W5B\"].replace(reco)\n",
    "data[\"confiance_scientifiques\"] = data[\"W5C\"].replace(reco)\n",
    "data[\"confiance_journalistes\"] = data[\"W5D\"].replace(reco)\n",
    "data[\"confiance_medecins\"] = data[\"W5E\"].replace(reco)\n",
    "data[\"confiance_rebouteux\"] = data[\"W5G\"].replace(reco)\n",
    "data[\"recherche_cancer\"] = data['MH4A'].replace(modalites(\"MH4A\",meta)).fillna(\"NA\")\n",
    "\n",
    "reco = {1:\"1-A lot\", 2:\"2-Some\", 3:\"3-Not much/at all\",4:\"3-DK\",8:\"3-DK\",9:\"3-DK\"}\n",
    "data[\"covid_impact\"] = data[\"WP21757\"].replace(reco)\n",
    "\n",
    "\n",
    "data[\"gouvernants_valorisent_scientifiques\"] = data[\"W7C\"].replace(reco)\n",
    "\n",
    "data[\"socialmedia_month\"] = data[\"W27\"].replace(modalites(\"W27\",meta))\n",
    "reco = {1.0: '1-Almost every hour',2.0: '1-Almost every hour',3.0: '2-At least once a day',\n",
    " 4.0: '2-At least once a day', 5.0: '3-A few days a week', 6.0: '4-Less frequently', 99.0: '5-DK/Refused'}\n",
    "data[\"socialmedia_freq\"] = data[\"W28\"].replace(reco)\n",
    "reco = {1:\"1-Très souvent ou tout le temps\",2:\"1-Très souvent ou tout le temps\",3:\"2-Parfois\",4:\"3-Jamais\",99:\"NA\"}\n",
    "data[\"socialmedia_healthinfo\"] = data[\"W29\"].replace(reco)\n",
    "\n",
    "data[\"science_religion\"] = data[\"W30\"].replace(modalites(\"W30\",meta))\n",
    "data[\"vaccin\"] = data[\"WP21768\"].replace(modalites(\"WP21768\",meta))\n",
    "\n",
    "data[\"scientists_benefits_people\"] = data[\"W8\"].replace({1:\"1-Yes\",2:\"2-Some\",3:\"3-No\",99:\"4-NA\"})\n",
    "data[\"scientists_benefits_you\"] = data[\"W9\"].replace({1:\"1-Yes\",2:\"2-Some\",3:\"3-No\",99:\"4-NA\"})"
   ]
  },
  {
   "cell_type": "markdown",
   "metadata": {},
   "source": [
    "Une partie importante du travail se fait en amont sur la préparation des données"
   ]
  },
  {
   "cell_type": "markdown",
   "metadata": {},
   "source": [
    "## 1. visualisations"
   ]
  },
  {
   "cell_type": "markdown",
   "metadata": {},
   "source": [
    "### 1.1 Logique générale de Matplotlib"
   ]
  },
  {
   "cell_type": "markdown",
   "metadata": {},
   "source": [
    "Une philosophie de la visualisation : expliquer les différents niveaux qui composent une figure"
   ]
  },
  {
   "cell_type": "markdown",
   "metadata": {},
   "source": [
    "![Structure d'une visualisation](matplotlib.png)\n"
   ]
  },
  {
   "cell_type": "markdown",
   "metadata": {},
   "source": [
    "Quand on utilise Pandas, déclaration de la figure implicitement + beaucoup de paramètres fixés"
   ]
  },
  {
   "cell_type": "code",
   "execution_count": 2,
   "metadata": {},
   "outputs": [
    {
     "data": {
      "text/plain": [
       "<AxesSubplot:>"
      ]
     },
     "execution_count": 2,
     "metadata": {},
     "output_type": "execute_result"
    },
    {
     "data": {
      "image/png": "[encoded data removed]",
      "text/plain": [
       "<Figure size 432x288 with 1 Axes>"
      ]
     },
     "metadata": {
      "needs_background": "light"
     },
     "output_type": "display_data"
    }
   ],
   "source": [
    "data[\"confiance_hopital\"].value_counts().plot(kind=\"bar\", )"
   ]
  },
  {
   "cell_type": "markdown",
   "metadata": {},
   "source": [
    "### 1.2 Même visualisation avec Matplotlib"
   ]
  },
  {
   "cell_type": "code",
   "execution_count": 15,
   "metadata": {},
   "outputs": [
    {
     "data": {
      "image/png": "[encoded data removed]",
      "text/plain": [
       "<Figure size 432x288 with 1 Axes>"
      ]
     },
     "metadata": {
      "needs_background": "light"
     },
     "output_type": "display_data"
    }
   ],
   "source": [
    "fig, ax = plt.subplots()"
   ]
  },
  {
   "cell_type": "code",
   "execution_count": 16,
   "metadata": {},
   "outputs": [
    {
     "data": {
      "text/plain": [
       "<BarContainer object of 3 artists>"
      ]
     },
     "execution_count": 16,
     "metadata": {},
     "output_type": "execute_result"
    },
    {
     "data": {
      "image/png": "[encoded data removed]",
      "text/plain": [
       "<Figure size 432x288 with 1 Axes>"
      ]
     },
     "metadata": {
      "needs_background": "light"
     },
     "output_type": "display_data"
    }
   ],
   "source": [
    "fig, ax = plt.subplots()\n",
    "ax.bar([1,2,3],[3,4,5])"
   ]
  },
  {
   "cell_type": "markdown",
   "metadata": {},
   "source": [
    "Ajouter un titre et sauvegarder la figure"
   ]
  },
  {
   "cell_type": "code",
   "execution_count": 17,
   "metadata": {},
   "outputs": [
    {
     "data": {
      "image/png": "[encoded data removed]",
      "text/plain": [
       "<Figure size 432x288 with 1 Axes>"
      ]
     },
     "metadata": {
      "needs_background": "light"
     },
     "output_type": "display_data"
    }
   ],
   "source": [
    "fig,ax = plt.subplots()\n",
    "ax.bar([1,2,3],[3,4,5])\n",
    "ax.set_title(\"Un titre\")\n",
    "fig.savefig(\"fig.png\")"
   ]
  },
  {
   "cell_type": "markdown",
   "metadata": {},
   "source": [
    "D'autres figures possibles : plot, hist, etc. Pour se repérer et voir tout ce qu'il est possible de faire :https://matplotlib.org/stable/gallery/index.html"
   ]
  },
  {
   "cell_type": "markdown",
   "metadata": {},
   "source": [
    "Tout l'enjeu est maintenant d'améliorer...\n",
    "\n",
    "- modifier les paramètres\n",
    "- ajouter des noms d'axes\n",
    "- changer la taille\n",
    "- changer la couleur\n",
    "- faire des figures plus complexes"
   ]
  },
  {
   "cell_type": "markdown",
   "metadata": {},
   "source": [
    "Modifier la figure généré par Pandas"
   ]
  },
  {
   "cell_type": "code",
   "execution_count": 18,
   "metadata": {},
   "outputs": [
    {
     "data": {
      "text/plain": [
       "Text(0.5, 1.0, 'Nouveau titre')"
      ]
     },
     "execution_count": 18,
     "metadata": {},
     "output_type": "execute_result"
    },
    {
     "data": {
      "image/png": "[encoded data removed]",
      "text/plain": [
       "<Figure size 432x288 with 1 Axes>"
      ]
     },
     "metadata": {
      "needs_background": "light"
     },
     "output_type": "display_data"
    }
   ],
   "source": [
    "ax = data[\"confiance_hopital\"].value_counts().plot(kind=\"bar\")\n",
    "ax.set_title(\"Nouveau titre\")"
   ]
  },
  {
   "cell_type": "markdown",
   "metadata": {},
   "source": [
    "### 1.3 Faire une figure un peu plus complexe\n",
    "\n",
    "Expliquer la logique de construction de la figure"
   ]
  },
  {
   "cell_type": "code",
   "execution_count": 19,
   "metadata": {},
   "outputs": [
    {
     "data": {
      "image/png": "[encoded data removed]",
      "text/plain": [
       "<Figure size 576x720 with 6 Axes>"
      ]
     },
     "metadata": {
      "needs_background": "light"
     },
     "output_type": "display_data"
    }
   ],
   "source": [
    "# Définir en amont les variables\n",
    "variables = {\"confiance_hopital\":\"Confiance hopital\",\n",
    "             \"confiance_science\":\"Confiance Science\",\n",
    "            \"confiance_gouvernement\":\"Confiance gouvernement\",\n",
    "            \"confiance_scientifiques\":\"confiance scientifiques\",\n",
    "            \"confiance_journalistes\":\"Confiance journalistes\",\"confiance_medecins\":\"Confiance médecins\"}\n",
    "\n",
    "# Définir une nouvelle figure\n",
    "fig,axes = plt.subplots(3,2,figsize=(8,10),\n",
    "                      sharex=True,sharey=True)\n",
    "\n",
    "# passer le tableau de 2 dimensions à 1\n",
    "flat_axes = axes.flatten()\n",
    "#colors = [\"green\", \"orange\", \"red\", \"gray\"]\n",
    "colors = [\"C0\", \"C1\", \"C2\", \"C3\"]\n",
    "# Pour chaque variable à tracer\n",
    "for var,ax in zip(variables,flat_axes):\n",
    "    t = pyshs.tri_a_plat(data, var ,\"poids\")[\"Pourcentage (%)\"].drop(\"Total\")\n",
    "    t.plot(kind='bar', ax=ax, color=colors , alpha=0.5)\n",
    "    ax.set_title(variables[i])\n",
    "    \n",
    "fig.suptitle(\"Confiance des répondants du pays\")\n",
    "\n",
    "fig.savefig(\"savefig.png\", bbox_inches=\"tight\")"
   ]
  },
  {
   "cell_type": "code",
   "execution_count": 35,
   "metadata": {},
   "outputs": [
    {
     "data": {
      "text/plain": [
       "Text(0.5, 1.0, 'Science')"
      ]
     },
     "execution_count": 35,
     "metadata": {},
     "output_type": "execute_result"
    },
    {
     "data": {
      "image/png": "[encoded data removed]",
      "text/plain": [
       "<Figure size 432x288 with 3 Axes>"
      ]
     },
     "metadata": {
      "needs_background": "light"
     },
     "output_type": "display_data"
    }
   ],
   "source": [
    "fig, axes = plt.subplot_mosaic(\n",
    "'''\\\n",
    "HHHSS\n",
    "...SS\n",
    "G..SS''')\n",
    "\n",
    "data[\"confiance_hopital\"].value_counts().plot(kind=\"bar\", ax=axes['H'])\n",
    "data[\"confiance_science\"].value_counts().plot(kind=\"bar\", ax=axes['S'])\n",
    "data[\"confiance_gouvernement\"].value_counts().plot(kind=\"bar\", ax=axes['G'])\n",
    "\n",
    "axes['H'].set_title('hopital')\n",
    "axes['S'].set_title('Science')"
   ]
  },
  {
   "cell_type": "code",
   "execution_count": null,
   "metadata": {},
   "outputs": [],
   "source": []
  }
 ],
 "metadata": {
  "kernelspec": {
   "display_name": "Python 3 (ipykernel)",
   "language": "python",
   "name": "python3"
  },
  "language_info": {
   "codemirror_mode": {
    "name": "ipython",
    "version": 3
   },
   "file_extension": ".py",
   "mimetype": "text/x-python",
   "name": "python",
   "nbconvert_exporter": "python",
   "pygments_lexer": "ipython3",
   "version": "3.10.4"
  }
 },
 "nbformat": 4,
 "nbformat_minor": 4
}
