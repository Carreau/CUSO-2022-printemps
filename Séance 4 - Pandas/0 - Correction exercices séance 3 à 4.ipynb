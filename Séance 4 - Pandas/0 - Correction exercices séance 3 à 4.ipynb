{
 "cells": [
  {
   "cell_type": "markdown",
   "id": "e978d295",
   "metadata": {},
   "source": [
    "# Exercices entre la séance 3 et 4"
   ]
  },
  {
   "cell_type": "markdown",
   "id": "d731e557",
   "metadata": {},
   "source": [
    "## Exercice 1\n",
    "\n",
    "Écrire une fonction qui prend comme entrée une chaîne de caractères (une phrase) et un nombre seuil S (comme le script vu dans la séance 2) et renvoie la proportion de mots qui ont plus de lettre que le seuil S."
   ]
  },
  {
   "cell_type": "markdown",
   "id": "16660265",
   "metadata": {},
   "source": [
    "    Il suffit de reprendre les lignes du script et les mettre dans une fonction"
   ]
  },
  {
   "cell_type": "code",
   "execution_count": 5,
   "id": "36158b40",
   "metadata": {},
   "outputs": [],
   "source": [
    "def proportion_mots_seuil(phrase, seuil):\n",
    "    \"\"\"calcul la proportion de mots plus longs  qu'un seuil\n",
    "    \n",
    "    Parameters\n",
    "    ----------\n",
    "    phrase : str\n",
    "        La pharse qui sera coupée au niveau des espaces. \n",
    "    seuil : int\n",
    "        Seuil de la longueur des mots à compter (inclusif)\n",
    "        \n",
    "    Returns\n",
    "    -------\n",
    "    pourcentage : float\n",
    "        Pourcentage de mots plus long ou égaux au `seuil`.\n",
    "        \n",
    "        \n",
    "    Notes\n",
    "    -----\n",
    "    La notion de phrase/mots est un peu imprécise. Ici on coupe\n",
    "    au niveaux des espaces. Pour être plus précis il faudrait prendre\n",
    "    en compte la ponctuation, plusieurs espace consécutifs...\n",
    "    \n",
    "    Examples\n",
    "    --------\n",
    "    \n",
    "    >>> proportion_mots_seuil(\"Ceci est une grande phrase\", 10)\n",
    "    0.0\n",
    "    \n",
    "    \n",
    "    \"\"\"\n",
    "    liste_mots = phrase.split(\" \")\n",
    "    nombre_mots = len(liste_mots)\n",
    "    if nombre_mots == 0:\n",
    "        print(\"Cette phrase n'a pas de mots\")\n",
    "    else:\n",
    "        compteur = 0\n",
    "        for mot in liste_mots:\n",
    "            if len(mot) >= seuil:\n",
    "                compteur = compteur + 1\n",
    "        proportion = 100 * compteur / nombre_mots\n",
    "    return proportion"
   ]
  },
  {
   "cell_type": "code",
   "execution_count": 6,
   "id": "6002a202",
   "metadata": {},
   "outputs": [
    {
     "data": {
      "text/plain": [
       "0.0"
      ]
     },
     "execution_count": 6,
     "metadata": {},
     "output_type": "execute_result"
    }
   ],
   "source": [
    "proportion_mots_seuil(\"Ceci est une grande phrase\", 10)"
   ]
  },
  {
   "cell_type": "markdown",
   "id": "0a156a0f",
   "metadata": {},
   "source": [
    "## Exercice 2\n",
    "\n",
    "- Créer un fichier .txt dans le répertoire courant du Notebook (tapper `pwd` pour le connaitre) contenant plusieurs phrases\n",
    "- Lire le fichier avec le bloc `with`, le mode lecture `\"r\"` et la méthode `readlines`\n",
    "- Appliquer la fonction de l'exercice 1 sur chaque phrase"
   ]
  },
  {
   "cell_type": "markdown",
   "id": "7bb1b095",
   "metadata": {},
   "source": [
    "On peut le faire automatiquement"
   ]
  },
  {
   "cell_type": "code",
   "execution_count": 7,
   "id": "0fac1db0",
   "metadata": {},
   "outputs": [],
   "source": [
    "with open(\"mon_fichier.txt\", \"w\") as f:\n",
    "    f.write(\"Une phrase qui commence par une.\\nUne autre phrase à la ligne.\")"
   ]
  },
  {
   "cell_type": "markdown",
   "id": "caaca9eb",
   "metadata": {},
   "source": [
    "## Zoologie"
   ]
  },
  {
   "cell_type": "code",
   "execution_count": 10,
   "id": "71336641",
   "metadata": {},
   "outputs": [],
   "source": [
    "with open(\"mon_fichier.txt\", \"w\") as f:\n",
    "    f.writelines('\\n'.join([\"Une phrase qui commence par une.\",\"Une autre phrase à la ligne.\"]))"
   ]
  },
  {
   "cell_type": "markdown",
   "id": "f0b2e678",
   "metadata": {},
   "source": [
    "`f.readlines()`, et `f.writelines(...)` ont des opération opposées. Similaire `f.read()`, et `f.write()`.\n",
    "\n",
    "`'\\n'.join(...)` et `str.split('\\n')` sont aussi des opérations opposées.\n",
    "\n",
    "`str.strip()` peut être utilisé pour enlever les espace blancs (espace, nouvelle ligne,...), au début et a la fin de chaines de caractères."
   ]
  },
  {
   "cell_type": "markdown",
   "id": "265e81cb",
   "metadata": {},
   "source": [
    "### Jupyter: spéciales commands\n",
    "\n",
    "`cat` vas afficher le contenu d'un fichier."
   ]
  },
  {
   "cell_type": "code",
   "execution_count": 15,
   "id": "376349c9",
   "metadata": {},
   "outputs": [
    {
     "name": "stdout",
     "output_type": "stream",
     "text": [
      "Une phrase qui commence par une.\r\n",
      "Une autre phrase à la ligne."
     ]
    }
   ],
   "source": [
    "!cat mon_fichier.txt"
   ]
  },
  {
   "cell_type": "markdown",
   "id": "4d50309a",
   "metadata": {},
   "source": [
    "Lire et appliquer la fonction"
   ]
  },
  {
   "cell_type": "code",
   "execution_count": 16,
   "id": "a76fdc85",
   "metadata": {},
   "outputs": [
    {
     "data": {
      "text/plain": [
       "['Une phrase qui commence par une.\\n', 'Une autre phrase à la ligne.']"
      ]
     },
     "execution_count": 16,
     "metadata": {},
     "output_type": "execute_result"
    }
   ],
   "source": [
    "with open(\"mon_fichier.txt\", \"r\") as f:\n",
    "    lignes = f.readlines()\n",
    "lignes"
   ]
  },
  {
   "cell_type": "markdown",
   "id": "a1595eb5",
   "metadata": {},
   "source": [
    "Remarque sur le caractère \"\\n\""
   ]
  },
  {
   "cell_type": "markdown",
   "id": "6e60b31d",
   "metadata": {},
   "source": [
    "Appliquer la fonction"
   ]
  },
  {
   "cell_type": "code",
   "execution_count": 18,
   "id": "3e00fb2e",
   "metadata": {},
   "outputs": [
    {
     "name": "stdout",
     "output_type": "stream",
     "text": [
      "50.0\n",
      "50.0\n"
     ]
    }
   ],
   "source": [
    "for l in lignes:\n",
    "    print(proportion_mots_seuil(l, seuil=4))"
   ]
  },
  {
   "cell_type": "markdown",
   "id": "ff0c6f00",
   "metadata": {},
   "source": [
    "remarque: On peut appeler ue fonction avec le nom du paramètre. `proportion_mots_seuil(l, seuil=4)` est identique à `proportion_mots_seuil(l, 4)`, mais parfois plus lisible."
   ]
  },
  {
   "cell_type": "markdown",
   "id": "b886df02",
   "metadata": {},
   "source": [
    "On a automatisé..."
   ]
  },
  {
   "cell_type": "markdown",
   "id": "17c02fc4",
   "metadata": {},
   "source": [
    "## Exercice 3\n",
    "\n",
    "Pour une phrase quelconque, construisez un dictionnaire de la fréquence de chaque lettre en utilisant l'objet `Counter` du module `collections` (`import collections`) de la bibliothèque standard"
   ]
  },
  {
   "cell_type": "code",
   "execution_count": 20,
   "id": "b034d84d",
   "metadata": {},
   "outputs": [
    {
     "data": {
      "text/plain": [
       "Counter({'C': 1,\n",
       "         'e': 7,\n",
       "         'c': 2,\n",
       "         'i': 4,\n",
       "         ' ': 8,\n",
       "         's': 7,\n",
       "         't': 3,\n",
       "         'u': 3,\n",
       "         'n': 2,\n",
       "         'p': 1,\n",
       "         'h': 1,\n",
       "         'r': 1,\n",
       "         'a': 3,\n",
       "         'm': 1,\n",
       "         \"'\": 1,\n",
       "         'l': 1})"
      ]
     },
     "execution_count": 20,
     "metadata": {},
     "output_type": "execute_result"
    }
   ],
   "source": [
    "from collections import Counter\n",
    "\n",
    "c = Counter(\"Ceci est une phrase mais c'est aussi une liste\")\n",
    "c"
   ]
  },
  {
   "cell_type": "markdown",
   "id": "f0e5a121",
   "metadata": {},
   "source": [
    "Zoologie:"
   ]
  },
  {
   "cell_type": "code",
   "execution_count": 21,
   "id": "8cd197b4",
   "metadata": {},
   "outputs": [
    {
     "data": {
      "text/plain": [
       "[(' ', 8), ('e', 7), ('s', 7), ('i', 4), ('t', 3)]"
      ]
     },
     "execution_count": 21,
     "metadata": {},
     "output_type": "execute_result"
    }
   ],
   "source": [
    "c.most_common(5)"
   ]
  },
  {
   "cell_type": "code",
   "execution_count": 22,
   "id": "70d46b92",
   "metadata": {},
   "outputs": [
    {
     "data": {
      "text/plain": [
       "Counter({'C': 1,\n",
       "         'e': 12,\n",
       "         'c': 4,\n",
       "         'i': 5,\n",
       "         ' ': 13,\n",
       "         's': 10,\n",
       "         't': 7,\n",
       "         'u': 5,\n",
       "         'n': 3,\n",
       "         'p': 3,\n",
       "         'h': 2,\n",
       "         'r': 3,\n",
       "         'a': 5,\n",
       "         'm': 2,\n",
       "         \"'\": 1,\n",
       "         'l': 1,\n",
       "         'o': 2,\n",
       "         'v': 1})"
      ]
     },
     "execution_count": 22,
     "metadata": {},
     "output_type": "execute_result"
    }
   ],
   "source": [
    "c.update(Counter('on veut aussi compter cette phrase'))\n",
    "c"
   ]
  },
  {
   "cell_type": "markdown",
   "id": "db9c56c3",
   "metadata": {},
   "source": [
    "## Exercice 4 \n",
    "\n",
    "Écrire une fonction qui prend en entrée une url et un mot clé et renvoie le nombre de fois où ce mot est présent sur la page"
   ]
  },
  {
   "cell_type": "markdown",
   "id": "40217839",
   "metadata": {},
   "source": [
    "On utilise la bibliothèque requests"
   ]
  },
  {
   "cell_type": "code",
   "execution_count": 23,
   "id": "e5ff3a1b",
   "metadata": {},
   "outputs": [
    {
     "data": {
      "text/plain": [
       "1"
      ]
     },
     "execution_count": 23,
     "metadata": {},
     "output_type": "execute_result"
    }
   ],
   "source": [
    "import requests\n",
    "\n",
    "url = \"https://www.lemonde.fr/\"\n",
    "mot = \"Suisse\"\n",
    "\n",
    "page = requests.get(url)\n",
    "page.text.count(mot)"
   ]
  },
  {
   "cell_type": "markdown",
   "id": "42d70785",
   "metadata": {},
   "source": [
    "## Exercice 5\n",
    "\n",
    "- Recherche et installer la bibliothèque `wikipedia` et récupérer le contenu de la page Suisse en Français et en Anglais (Méthode `page` pour obtenir une page ; attribut `content` et `wikipedia.set_lang(\"fr\")` pour la lange). \n",
    "- Identifier les 10 mots les plus fréquents sur chacune des pages (pensez à `Counter` et la méthode `most_common`)"
   ]
  },
  {
   "cell_type": "code",
   "execution_count": 2,
   "id": "b0a4abff",
   "metadata": {},
   "outputs": [
    {
     "name": "stdout",
     "output_type": "stream",
     "text": [
      "Collecting wikipedia\n",
      "  Using cached wikipedia-1.4.0-py3-none-any.whl\n",
      "Requirement already satisfied: requests<3.0.0,>=2.0.0 in /Users/bussonniermatthias/miniforge3/envs/inplace_restarter/lib/python3.10/site-packages (from wikipedia) (2.27.1)\n",
      "Requirement already satisfied: beautifulsoup4 in /Users/bussonniermatthias/miniforge3/envs/inplace_restarter/lib/python3.10/site-packages (from wikipedia) (4.11.1)\n",
      "Requirement already satisfied: certifi>=2017.4.17 in /Users/bussonniermatthias/miniforge3/envs/inplace_restarter/lib/python3.10/site-packages (from requests<3.0.0,>=2.0.0->wikipedia) (2021.10.8)\n",
      "Requirement already satisfied: urllib3<1.27,>=1.21.1 in /Users/bussonniermatthias/miniforge3/envs/inplace_restarter/lib/python3.10/site-packages (from requests<3.0.0,>=2.0.0->wikipedia) (1.26.9)\n",
      "Requirement already satisfied: charset-normalizer~=2.0.0 in /Users/bussonniermatthias/miniforge3/envs/inplace_restarter/lib/python3.10/site-packages (from requests<3.0.0,>=2.0.0->wikipedia) (2.0.12)\n",
      "Requirement already satisfied: idna<4,>=2.5 in /Users/bussonniermatthias/miniforge3/envs/inplace_restarter/lib/python3.10/site-packages (from requests<3.0.0,>=2.0.0->wikipedia) (3.3)\n",
      "Requirement already satisfied: soupsieve>1.2 in /Users/bussonniermatthias/miniforge3/envs/inplace_restarter/lib/python3.10/site-packages (from beautifulsoup4->wikipedia) (2.3.1)\n",
      "Installing collected packages: wikipedia\n",
      "Successfully installed wikipedia-1.4.0\n",
      "Note: you may need to restart the kernel to use updated packages.\n"
     ]
    }
   ],
   "source": [
    "# Avant : lire la documentation\n",
    "\n",
    "# Installer\n",
    "%pip install wikipedia"
   ]
  },
  {
   "cell_type": "code",
   "execution_count": 25,
   "id": "0daa382d",
   "metadata": {},
   "outputs": [
    {
     "data": {
      "text/plain": [
       "[('de', 900),\n",
       " ('la', 616),\n",
       " ('le', 496),\n",
       " ('et', 412),\n",
       " ('l', 368),\n",
       " ('les', 344),\n",
       " ('en', 341),\n",
       " ('des', 302),\n",
       " ('à', 266),\n",
       " ('du', 256)]"
      ]
     },
     "execution_count": 25,
     "metadata": {},
     "output_type": "execute_result"
    }
   ],
   "source": [
    "# Importer\n",
    "import wikipedia\n",
    "from collections import Counter\n",
    "import string\n",
    "\n",
    "# Définir la langue\n",
    "wikipedia.set_lang(\"fr\")\n",
    "\n",
    "page = wikipedia.page(\"Suisse\")\n",
    "\n",
    "content = page.content.lower()\n",
    "for punct in string.punctuation:\n",
    "    content = content.replace(punct, ' ')\n",
    "\n",
    "frequences = Counter(content.split())\n",
    "frequences.most_common(10)"
   ]
  }
 ],
 "metadata": {
  "kernelspec": {
   "display_name": "Python 3 (ipykernel)",
   "language": "python",
   "name": "python3"
  },
  "language_info": {
   "codemirror_mode": {
    "name": "ipython",
    "version": 3
   },
   "file_extension": ".py",
   "mimetype": "text/x-python",
   "name": "python",
   "nbconvert_exporter": "python",
   "pygments_lexer": "ipython3",
   "version": "3.8.12"
  }
 },
 "nbformat": 4,
 "nbformat_minor": 5
}
