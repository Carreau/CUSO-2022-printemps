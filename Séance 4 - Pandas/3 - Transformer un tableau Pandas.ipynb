{
 "cells": [
  {
   "cell_type": "markdown",
   "metadata": {},
   "source": [
    "# Transformer un tableau\n",
    "\n",
    "Une partie importante du travail est souvent de transformer les données\n",
    "\n",
    "- Partir de données brutes\n",
    "- Ajouter / recoder des éléments\n",
    "- Produire des statistiques / visualisations finalisées "
   ]
  },
  {
   "cell_type": "markdown",
   "metadata": {},
   "source": [
    "## Charger les données\n",
    "\n",
    "(avant recodage des modalités)"
   ]
  },
  {
   "cell_type": "code",
   "execution_count": 1,
   "metadata": {},
   "outputs": [
    {
     "data": {
      "text/html": [
       "<div>\n",
       "<style scoped>\n",
       "    .dataframe tbody tr th:only-of-type {\n",
       "        vertical-align: middle;\n",
       "    }\n",
       "\n",
       "    .dataframe tbody tr th {\n",
       "        vertical-align: top;\n",
       "    }\n",
       "\n",
       "    .dataframe thead th {\n",
       "        text-align: right;\n",
       "    }\n",
       "</style>\n",
       "<table border=\"1\" class=\"dataframe\">\n",
       "  <thead>\n",
       "    <tr style=\"text-align: right;\">\n",
       "      <th></th>\n",
       "      <th>Date</th>\n",
       "      <th>Titre</th>\n",
       "      <th>Journal</th>\n",
       "      <th>Contenu</th>\n",
       "      <th>Auteur</th>\n",
       "      <th>Journaux-reco</th>\n",
       "      <th>Freq_chloro</th>\n",
       "    </tr>\n",
       "    <tr>\n",
       "      <th>Date_reco</th>\n",
       "      <th></th>\n",
       "      <th></th>\n",
       "      <th></th>\n",
       "      <th></th>\n",
       "      <th></th>\n",
       "      <th></th>\n",
       "      <th></th>\n",
       "    </tr>\n",
       "  </thead>\n",
       "  <tbody>\n",
       "    <tr>\n",
       "      <th>2021-07-02</th>\n",
       "      <td>International,  vendredi 2 juillet 2021 860 m...</td>\n",
       "      <td>La stratégie covid brésilienne, un acharnemen...</td>\n",
       "      <td>Le Temps</td>\n",
       "      <td>7056    @fabiengoubet   Avec Donald Trump en...</td>\n",
       "      <td>FABIEN GOUBET</td>\n",
       "      <td>Le Temps</td>\n",
       "      <td>4</td>\n",
       "    </tr>\n",
       "    <tr>\n",
       "      <th>2020-03-26</th>\n",
       "      <td>Science,  jeudi 26 mars 2020 2170 mots, p. 9</td>\n",
       "      <td>Chloroquine: une recherche controversée</td>\n",
       "      <td>Le Temps</td>\n",
       "      <td>6675    @fabiengoubet   Voilà un peu plus d'...</td>\n",
       "      <td>FABIEN GOUBET</td>\n",
       "      <td>Le Temps</td>\n",
       "      <td>19</td>\n",
       "    </tr>\n",
       "    <tr>\n",
       "      <th>2020-06-16</th>\n",
       "      <td>Économie,  mardi 16 juin 2020 1192 mots, p. 15</td>\n",
       "      <td>[Transport aérien...]</td>\n",
       "      <td>Tribune de Genève, no. 5326</td>\n",
       "      <td>Transport aérien   Qatar Airways va réduire ...</td>\n",
       "      <td>NaN</td>\n",
       "      <td>Tribune de Genève</td>\n",
       "      <td>20</td>\n",
       "    </tr>\n",
       "    <tr>\n",
       "      <th>2020-03-18</th>\n",
       "      <td>Science,  mercredi 18 mars 2020 1022 mots, p. 9</td>\n",
       "      <td>Une piste pour lutter contre le SARS-CoV-2</td>\n",
       "      <td>Le Temps</td>\n",
       "      <td>6668    (LE MONDE)   La course aux traitemen...</td>\n",
       "      <td>SANDRINE CABUT</td>\n",
       "      <td>Le Temps</td>\n",
       "      <td>18</td>\n",
       "    </tr>\n",
       "    <tr>\n",
       "      <th>2020-03-20</th>\n",
       "      <td>Point fort,  vendredi 20 mars 2020 1558 mots,...</td>\n",
       "      <td>[Coronavirus...]</td>\n",
       "      <td>24 Heures (Suisse), no. 4306  Région, Lausanne</td>\n",
       "      <td>Coronavirus   De la chloroquine contre le vi...</td>\n",
       "      <td>NaN</td>\n",
       "      <td>24 Heures</td>\n",
       "      <td>16</td>\n",
       "    </tr>\n",
       "  </tbody>\n",
       "</table>\n",
       "</div>"
      ],
      "text/plain": [
       "                                                         Date  \\\n",
       "Date_reco                                                       \n",
       "2021-07-02   International,  vendredi 2 juillet 2021 860 m...   \n",
       "2020-03-26      Science,  jeudi 26 mars 2020 2170 mots, p. 9    \n",
       "2020-06-16    Économie,  mardi 16 juin 2020 1192 mots, p. 15    \n",
       "2020-03-18   Science,  mercredi 18 mars 2020 1022 mots, p. 9    \n",
       "2020-03-20   Point fort,  vendredi 20 mars 2020 1558 mots,...   \n",
       "\n",
       "                                                        Titre  \\\n",
       "Date_reco                                                       \n",
       "2021-07-02   La stratégie covid brésilienne, un acharnemen...   \n",
       "2020-03-26           Chloroquine: une recherche controversée    \n",
       "2020-06-16                             [Transport aérien...]    \n",
       "2020-03-18        Une piste pour lutter contre le SARS-CoV-2    \n",
       "2020-03-20                                  [Coronavirus...]    \n",
       "\n",
       "                                                     Journal  \\\n",
       "Date_reco                                                      \n",
       "2021-07-02                                       Le Temps      \n",
       "2020-03-26                                       Le Temps      \n",
       "2020-06-16                    Tribune de Genève, no. 5326      \n",
       "2020-03-18                                       Le Temps      \n",
       "2020-03-20   24 Heures (Suisse), no. 4306  Région, Lausanne    \n",
       "\n",
       "                                                      Contenu          Auteur  \\\n",
       "Date_reco                                                                       \n",
       "2021-07-02    7056    @fabiengoubet   Avec Donald Trump en...   FABIEN GOUBET   \n",
       "2020-03-26    6675    @fabiengoubet   Voilà un peu plus d'...   FABIEN GOUBET   \n",
       "2020-06-16    Transport aérien   Qatar Airways va réduire ...             NaN   \n",
       "2020-03-18    6668    (LE MONDE)   La course aux traitemen...  SANDRINE CABUT   \n",
       "2020-03-20    Coronavirus   De la chloroquine contre le vi...             NaN   \n",
       "\n",
       "                Journaux-reco  Freq_chloro  \n",
       "Date_reco                                   \n",
       "2021-07-02           Le Temps            4  \n",
       "2020-03-26           Le Temps           19  \n",
       "2020-06-16  Tribune de Genève           20  \n",
       "2020-03-18           Le Temps           18  \n",
       "2020-03-20          24 Heures           16  "
      ]
     },
     "execution_count": 1,
     "metadata": {},
     "output_type": "execute_result"
    }
   ],
   "source": [
    "import pandas as pd\n",
    "\n",
    "corpus = pd.read_csv(\"Data/europresse_HC_suisse_mod.csv\")\n",
    "corpus = corpus.drop(\"Unnamed: 0\", axis=1).set_index(\"Date_reco\")\n",
    "corpus.head()"
   ]
  },
  {
   "cell_type": "markdown",
   "metadata": {},
   "source": [
    "Si on fait toujours: `corpus.drop(\"Unnamed: 0\", axis=1)`, on peut penser a enregistrer le CSV sans cette colonne."
   ]
  },
  {
   "cell_type": "markdown",
   "metadata": {},
   "source": [
    "## Remplacer des modalités"
   ]
  },
  {
   "cell_type": "markdown",
   "metadata": {},
   "source": [
    "Quali quali"
   ]
  },
  {
   "cell_type": "code",
   "execution_count": 2,
   "metadata": {},
   "outputs": [
    {
     "data": {
      "text/plain": [
       "Le Temps             110\n",
       "Tribune de Genève     55\n",
       "24 Heures             30\n",
       "Le Matin              17\n",
       "Bilan                 13\n",
       "Autre                  7\n",
       "La Liberté             5\n",
       "Name: Journaux-reco, dtype: int64"
      ]
     },
     "execution_count": 2,
     "metadata": {},
     "output_type": "execute_result"
    }
   ],
   "source": [
    "corpus[\"Journaux-reco\"].value_counts()"
   ]
  },
  {
   "cell_type": "markdown",
   "metadata": {},
   "source": [
    "Regrouper les quatre derniers ?"
   ]
  },
  {
   "cell_type": "code",
   "execution_count": 3,
   "metadata": {},
   "outputs": [
    {
     "data": {
      "text/plain": [
       "Le Temps             110\n",
       "Tribune de Genève     55\n",
       "24 Heures             30\n",
       "Autre                 25\n",
       "Le Matin              17\n",
       "Name: Journaux-reco, dtype: int64"
      ]
     },
     "execution_count": 3,
     "metadata": {},
     "output_type": "execute_result"
    }
   ],
   "source": [
    "corpus[\"Journaux-reco\"] = corpus[\"Journaux-reco\"].replace(\n",
    "    {\"La Liberté\": \"Autre\", \"Bilan\": \"Autre\"}\n",
    ")\n",
    "corpus[\"Journaux-reco\"].value_counts()"
   ]
  },
  {
   "cell_type": "markdown",
   "metadata": {},
   "source": [
    "Quanti Quali"
   ]
  },
  {
   "cell_type": "code",
   "execution_count": 7,
   "metadata": {},
   "outputs": [
    {
     "data": {
      "text/plain": [
       "Date_reco\n",
       "2021-07-02       (2.0, 5.0]\n",
       "2020-03-26    (10.0, 100.0]\n",
       "2020-06-16    (10.0, 100.0]\n",
       "2020-03-18    (10.0, 100.0]\n",
       "2020-03-20    (10.0, 100.0]\n",
       "                  ...      \n",
       "2000-05-17     (-0.01, 2.0]\n",
       "2001-09-11     (-0.01, 2.0]\n",
       "2005-01-03     (-0.01, 2.0]\n",
       "NaN            (-0.01, 2.0]\n",
       "2008-04-23     (-0.01, 2.0]\n",
       "Name: Freq_chloro, Length: 237, dtype: category\n",
       "Categories (4, interval[float64, right]): [(-0.01, 2.0] < (2.0, 5.0] < (5.0, 10.0] < (10.0, 100.0]]"
      ]
     },
     "execution_count": 7,
     "metadata": {},
     "output_type": "execute_result"
    }
   ],
   "source": [
    "pd.cut(corpus[\"Freq_chloro\"], bins=[-0.01, 2, 5, 10, 100])"
   ]
  },
  {
   "cell_type": "code",
   "execution_count": 8,
   "metadata": {},
   "outputs": [],
   "source": [
    "corpus[\"cat_freq\"] = pd.cut(\n",
    "    corpus[\"Freq_chloro\"],\n",
    "    bins=[-0.01, 2, 5, 10, 100],\n",
    "    labels=[\"0-2\", \"2-5\", \"5-10\", \">10\"],\n",
    ")"
   ]
  },
  {
   "cell_type": "markdown",
   "metadata": {},
   "source": [
    "Possible aussi les quantiles"
   ]
  },
  {
   "cell_type": "code",
   "execution_count": 9,
   "metadata": {
    "scrolled": true
   },
   "outputs": [
    {
     "data": {
      "text/plain": [
       "(-0.001, 1.0]    143\n",
       "(2.0, 20.0]       50\n",
       "(1.0, 2.0]        44\n",
       "Name: Freq_chloro, dtype: int64"
      ]
     },
     "execution_count": 9,
     "metadata": {},
     "output_type": "execute_result"
    }
   ],
   "source": [
    "pd.qcut(corpus[\"Freq_chloro\"], 3).value_counts()"
   ]
  },
  {
   "cell_type": "markdown",
   "metadata": {},
   "source": [
    "## Ajouter des modalités"
   ]
  },
  {
   "cell_type": "markdown",
   "metadata": {},
   "source": [
    "Pour les chaines de caractères tout un ensemble de méthodes. Par ex : chloroquine dans le titre ?"
   ]
  },
  {
   "cell_type": "code",
   "execution_count": 10,
   "metadata": {},
   "outputs": [],
   "source": [
    "corpus[\"Titre_min\"] = corpus[\"Titre\"].str.lower()"
   ]
  },
  {
   "cell_type": "code",
   "execution_count": 11,
   "metadata": {},
   "outputs": [
    {
     "data": {
      "text/plain": [
       "14"
      ]
     },
     "execution_count": 11,
     "metadata": {},
     "output_type": "execute_result"
    }
   ],
   "source": [
    "corpus[\"Titre_min\"].str.contains(\"chloroquine\").sum()"
   ]
  },
  {
   "cell_type": "markdown",
   "metadata": {},
   "source": [
    "Possible aussi d'utiliser des conditions"
   ]
  },
  {
   "cell_type": "code",
   "execution_count": 12,
   "metadata": {},
   "outputs": [],
   "source": [
    "corpus[\"Freq_sup_10\"] = corpus[\"Freq_chloro\"] > 10"
   ]
  },
  {
   "cell_type": "code",
   "execution_count": 13,
   "metadata": {},
   "outputs": [
    {
     "data": {
      "text/plain": [
       "False    232\n",
       "True       5\n",
       "Name: Freq_sup_10, dtype: int64"
      ]
     },
     "execution_count": 13,
     "metadata": {},
     "output_type": "execute_result"
    }
   ],
   "source": [
    "corpus[\"Freq_sup_10\"].value_counts()"
   ]
  },
  {
   "cell_type": "markdown",
   "metadata": {},
   "source": [
    "## Appliquer des traitements plus complexes\n",
    "\n",
    "- méthode apply\n",
    "- création de fonctions ad hoc"
   ]
  },
  {
   "cell_type": "markdown",
   "metadata": {},
   "source": [
    "La méthode apply permet d'appliquer une fonction sur chaque cellule"
   ]
  },
  {
   "cell_type": "code",
   "execution_count": 14,
   "metadata": {},
   "outputs": [],
   "source": [
    "corpus[\"nb_lettres\"] = corpus[\"Contenu\"].apply(len)"
   ]
  },
  {
   "cell_type": "markdown",
   "metadata": {},
   "source": [
    "comment faire pour avoir le nombre de mots ?\n",
    "\n",
    "- Définir une fonction pour une case\n",
    "- L'appliquer"
   ]
  },
  {
   "cell_type": "code",
   "execution_count": 15,
   "metadata": {},
   "outputs": [],
   "source": [
    "def nb_mots(x):\n",
    "    return len(x.split(\" \"))"
   ]
  },
  {
   "cell_type": "code",
   "execution_count": 16,
   "metadata": {},
   "outputs": [],
   "source": [
    "corpus[\"nb_mots\"] = corpus[\"Contenu\"].apply(nb_mots)"
   ]
  },
  {
   "cell_type": "markdown",
   "metadata": {},
   "source": [
    "Et si maintenant on voulait la densité freq_chloroquine/nb_mots ? Il existe aussi apply sur un tableau (pas que sur une série) mais il faut indiquer dans quel sens parcourir le tableau"
   ]
  },
  {
   "cell_type": "code",
   "execution_count": 17,
   "metadata": {},
   "outputs": [],
   "source": [
    "def calcul(ligne):\n",
    "    return ligne[\"Freq_chloro\"] / ligne[\"nb_mots\"]\n",
    "\n",
    "\n",
    "corpus[\"densite\"] = corpus.apply(calcul, axis=1)"
   ]
  },
  {
   "cell_type": "markdown",
   "metadata": {},
   "source": [
    "Faire l'histogramme"
   ]
  },
  {
   "cell_type": "code",
   "execution_count": 18,
   "metadata": {},
   "outputs": [
    {
     "data": {
      "text/plain": [
       "<AxesSubplot:>"
      ]
     },
     "execution_count": 18,
     "metadata": {},
     "output_type": "execute_result"
    },
    {
     "data": {
      "image/png": "[encoded data removed]",
      "text/plain": [
       "<Figure size 432x288 with 1 Axes>"
      ]
     },
     "metadata": {
      "needs_background": "light"
     },
     "output_type": "display_data"
    }
   ],
   "source": [
    "corpus[\"densite\"].hist()"
   ]
  },
  {
   "cell_type": "markdown",
   "metadata": {},
   "source": [
    "Filtrer les articles les plus \"denses\""
   ]
  },
  {
   "cell_type": "code",
   "execution_count": 19,
   "metadata": {},
   "outputs": [
    {
     "data": {
      "text/plain": [
       "Date_reco\n",
       "2020-06-16                                     [États-Unis...] \n",
       "2021-11-03     \"Le marché illégal s'adapte rapidement aux ru...\n",
       "2020-04-18                                         MAIS ENCORE \n",
       "2020-06-04                                         MAIS ENCORE \n",
       "2020-03-24                                             EN BREF \n",
       "2020-07-11                                         MAIS ENCORE \n",
       "2020-06-24                 Covid-19, deux pays et un cauchemar \n",
       "2020-04-03             Didier Raoult, une visite au « druide » \n",
       "2020-05-20                  L'OMS face à l'ultimatum américain \n",
       "Name: Titre, dtype: object"
      ]
     },
     "execution_count": 19,
     "metadata": {},
     "output_type": "execute_result"
    }
   ],
   "source": [
    "corpus[corpus[\"densite\"] > 0.02][\"Titre\"]"
   ]
  },
  {
   "cell_type": "markdown",
   "metadata": {},
   "source": [
    "## Exercice d'application\n",
    "\n",
    "Créer une colonne avec les 10 mots les plus fréquents de plus de 5 lettres pour chaque article"
   ]
  },
  {
   "cell_type": "markdown",
   "metadata": {},
   "source": [
    "## Aller plus loin (si temps)\n",
    "\n",
    "- notion de fonction anonyme\n",
    "- séries temporelles\n",
    "- groupby\n",
    "- tableaux croisés\n",
    "- comprehension de liste"
   ]
  }
 ],
 "metadata": {
  "kernelspec": {
   "display_name": "Python 3",
   "language": "python",
   "name": "python3"
  },
  "language_info": {
   "codemirror_mode": {
    "name": "ipython",
    "version": 3
   },
   "file_extension": ".py",
   "mimetype": "text/x-python",
   "name": "python",
   "nbconvert_exporter": "python",
   "pygments_lexer": "ipython3",
   "version": "3.7.11"
  }
 },
 "nbformat": 4,
 "nbformat_minor": 4
}
