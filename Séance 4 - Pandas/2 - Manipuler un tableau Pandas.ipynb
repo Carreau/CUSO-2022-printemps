{
 "cells": [
  {
   "cell_type": "markdown",
   "metadata": {},
   "source": [
    "# Manipuler un tableau\n",
    "\n",
    "Pandas a différentes méthodes pour manipuler un tableau :\n",
    "\n",
    "- sur les colonnes\n",
    "- sur le tableau en entier\n",
    "\n",
    "En particulier la possibilité de sélectionner des sous éléments"
   ]
  },
  {
   "cell_type": "markdown",
   "metadata": {},
   "source": [
    "## Importer Pandas et les données"
   ]
  },
  {
   "cell_type": "code",
   "execution_count": 1,
   "metadata": {},
   "outputs": [],
   "source": [
    "import pandas as pd\n",
    "\n",
    "corpus = pd.read_csv(\"Data/europresse_HC_suisse_mod.csv\").drop(columns=\"Unnamed: 0\")"
   ]
  },
  {
   "cell_type": "code",
   "execution_count": 2,
   "metadata": {},
   "outputs": [
    {
     "data": {
      "text/html": [
       "<div>\n",
       "<style scoped>\n",
       "    .dataframe tbody tr th:only-of-type {\n",
       "        vertical-align: middle;\n",
       "    }\n",
       "\n",
       "    .dataframe tbody tr th {\n",
       "        vertical-align: top;\n",
       "    }\n",
       "\n",
       "    .dataframe thead th {\n",
       "        text-align: right;\n",
       "    }\n",
       "</style>\n",
       "<table border=\"1\" class=\"dataframe\">\n",
       "  <thead>\n",
       "    <tr style=\"text-align: right;\">\n",
       "      <th></th>\n",
       "      <th>Date_reco</th>\n",
       "      <th>Date</th>\n",
       "      <th>Titre</th>\n",
       "      <th>Journal</th>\n",
       "      <th>Contenu</th>\n",
       "      <th>Auteur</th>\n",
       "      <th>Journaux-reco</th>\n",
       "      <th>Freq_chloro</th>\n",
       "    </tr>\n",
       "  </thead>\n",
       "  <tbody>\n",
       "    <tr>\n",
       "      <th>0</th>\n",
       "      <td>2021-07-02</td>\n",
       "      <td>International,  vendredi 2 juillet 2021 860 m...</td>\n",
       "      <td>La stratégie covid brésilienne, un acharnemen...</td>\n",
       "      <td>Le Temps</td>\n",
       "      <td>7056    @fabiengoubet   Avec Donald Trump en...</td>\n",
       "      <td>FABIEN GOUBET</td>\n",
       "      <td>Le Temps</td>\n",
       "      <td>4</td>\n",
       "    </tr>\n",
       "    <tr>\n",
       "      <th>1</th>\n",
       "      <td>2020-03-26</td>\n",
       "      <td>Science,  jeudi 26 mars 2020 2170 mots, p. 9</td>\n",
       "      <td>Chloroquine: une recherche controversée</td>\n",
       "      <td>Le Temps</td>\n",
       "      <td>6675    @fabiengoubet   Voilà un peu plus d'...</td>\n",
       "      <td>FABIEN GOUBET</td>\n",
       "      <td>Le Temps</td>\n",
       "      <td>19</td>\n",
       "    </tr>\n",
       "    <tr>\n",
       "      <th>2</th>\n",
       "      <td>2020-06-16</td>\n",
       "      <td>Économie,  mardi 16 juin 2020 1192 mots, p. 15</td>\n",
       "      <td>[Transport aérien...]</td>\n",
       "      <td>Tribune de Genève, no. 5326</td>\n",
       "      <td>Transport aérien   Qatar Airways va réduire ...</td>\n",
       "      <td>NaN</td>\n",
       "      <td>Tribune de Genève</td>\n",
       "      <td>20</td>\n",
       "    </tr>\n",
       "    <tr>\n",
       "      <th>3</th>\n",
       "      <td>2020-03-18</td>\n",
       "      <td>Science,  mercredi 18 mars 2020 1022 mots, p. 9</td>\n",
       "      <td>Une piste pour lutter contre le SARS-CoV-2</td>\n",
       "      <td>Le Temps</td>\n",
       "      <td>6668    (LE MONDE)   La course aux traitemen...</td>\n",
       "      <td>SANDRINE CABUT</td>\n",
       "      <td>Le Temps</td>\n",
       "      <td>18</td>\n",
       "    </tr>\n",
       "    <tr>\n",
       "      <th>4</th>\n",
       "      <td>2020-03-20</td>\n",
       "      <td>Point fort,  vendredi 20 mars 2020 1558 mots,...</td>\n",
       "      <td>[Coronavirus...]</td>\n",
       "      <td>24 Heures (Suisse), no. 4306  Région, Lausanne</td>\n",
       "      <td>Coronavirus   De la chloroquine contre le vi...</td>\n",
       "      <td>NaN</td>\n",
       "      <td>24 Heures</td>\n",
       "      <td>16</td>\n",
       "    </tr>\n",
       "  </tbody>\n",
       "</table>\n",
       "</div>"
      ],
      "text/plain": [
       "    Date_reco                                               Date  \\\n",
       "0  2021-07-02   International,  vendredi 2 juillet 2021 860 m...   \n",
       "1  2020-03-26      Science,  jeudi 26 mars 2020 2170 mots, p. 9    \n",
       "2  2020-06-16    Économie,  mardi 16 juin 2020 1192 mots, p. 15    \n",
       "3  2020-03-18   Science,  mercredi 18 mars 2020 1022 mots, p. 9    \n",
       "4  2020-03-20   Point fort,  vendredi 20 mars 2020 1558 mots,...   \n",
       "\n",
       "                                               Titre  \\\n",
       "0   La stratégie covid brésilienne, un acharnemen...   \n",
       "1           Chloroquine: une recherche controversée    \n",
       "2                             [Transport aérien...]    \n",
       "3        Une piste pour lutter contre le SARS-CoV-2    \n",
       "4                                  [Coronavirus...]    \n",
       "\n",
       "                                            Journal  \\\n",
       "0                                       Le Temps      \n",
       "1                                       Le Temps      \n",
       "2                    Tribune de Genève, no. 5326      \n",
       "3                                       Le Temps      \n",
       "4   24 Heures (Suisse), no. 4306  Région, Lausanne    \n",
       "\n",
       "                                             Contenu          Auteur  \\\n",
       "0    7056    @fabiengoubet   Avec Donald Trump en...   FABIEN GOUBET   \n",
       "1    6675    @fabiengoubet   Voilà un peu plus d'...   FABIEN GOUBET   \n",
       "2    Transport aérien   Qatar Airways va réduire ...             NaN   \n",
       "3    6668    (LE MONDE)   La course aux traitemen...  SANDRINE CABUT   \n",
       "4    Coronavirus   De la chloroquine contre le vi...             NaN   \n",
       "\n",
       "       Journaux-reco  Freq_chloro  \n",
       "0           Le Temps            4  \n",
       "1           Le Temps           19  \n",
       "2  Tribune de Genève           20  \n",
       "3           Le Temps           18  \n",
       "4          24 Heures           16  "
      ]
     },
     "execution_count": 2,
     "metadata": {},
     "output_type": "execute_result"
    }
   ],
   "source": [
    "corpus.head()"
   ]
  },
  {
   "cell_type": "markdown",
   "metadata": {},
   "source": [
    "## Accéder à un élément avec des conditions"
   ]
  },
  {
   "cell_type": "markdown",
   "metadata": {},
   "source": [
    "Sélection de plusieurs éléments"
   ]
  },
  {
   "cell_type": "code",
   "execution_count": 3,
   "metadata": {},
   "outputs": [
    {
     "data": {
      "text/html": [
       "<div>\n",
       "<style scoped>\n",
       "    .dataframe tbody tr th:only-of-type {\n",
       "        vertical-align: middle;\n",
       "    }\n",
       "\n",
       "    .dataframe tbody tr th {\n",
       "        vertical-align: top;\n",
       "    }\n",
       "\n",
       "    .dataframe thead th {\n",
       "        text-align: right;\n",
       "    }\n",
       "</style>\n",
       "<table border=\"1\" class=\"dataframe\">\n",
       "  <thead>\n",
       "    <tr style=\"text-align: right;\">\n",
       "      <th></th>\n",
       "      <th>Date</th>\n",
       "      <th>Journal</th>\n",
       "    </tr>\n",
       "  </thead>\n",
       "  <tbody>\n",
       "    <tr>\n",
       "      <th>0</th>\n",
       "      <td>International,  vendredi 2 juillet 2021 860 m...</td>\n",
       "      <td>Le Temps</td>\n",
       "    </tr>\n",
       "    <tr>\n",
       "      <th>1</th>\n",
       "      <td>Science,  jeudi 26 mars 2020 2170 mots, p. 9</td>\n",
       "      <td>Le Temps</td>\n",
       "    </tr>\n",
       "    <tr>\n",
       "      <th>2</th>\n",
       "      <td>Économie,  mardi 16 juin 2020 1192 mots, p. 15</td>\n",
       "      <td>Tribune de Genève, no. 5326</td>\n",
       "    </tr>\n",
       "    <tr>\n",
       "      <th>3</th>\n",
       "      <td>Science,  mercredi 18 mars 2020 1022 mots, p. 9</td>\n",
       "      <td>Le Temps</td>\n",
       "    </tr>\n",
       "    <tr>\n",
       "      <th>4</th>\n",
       "      <td>Point fort,  vendredi 20 mars 2020 1558 mots,...</td>\n",
       "      <td>24 Heures (Suisse), no. 4306  Région, Lausanne</td>\n",
       "    </tr>\n",
       "    <tr>\n",
       "      <th>...</th>\n",
       "      <td>...</td>\n",
       "      <td>...</td>\n",
       "    </tr>\n",
       "    <tr>\n",
       "      <th>232</th>\n",
       "      <td>International,  mercredi 17 mai 2000 1204 mots</td>\n",
       "      <td>Le Temps, no. 706</td>\n",
       "    </tr>\n",
       "    <tr>\n",
       "      <th>233</th>\n",
       "      <td>Sciences &amp; multimédia,  mardi 11 septembre 20...</td>\n",
       "      <td>Le Temps, no. 1122</td>\n",
       "    </tr>\n",
       "    <tr>\n",
       "      <th>234</th>\n",
       "      <td>Temps fort,  lundi 3 janvier 2005 581 mots</td>\n",
       "      <td>Le Temps, no. 2140</td>\n",
       "    </tr>\n",
       "    <tr>\n",
       "      <th>235</th>\n",
       "      <td>Wednesday, December 5, 2018 1280 mots, p. NA</td>\n",
       "      <td>IRIN Africa</td>\n",
       "    </tr>\n",
       "    <tr>\n",
       "      <th>236</th>\n",
       "      <td>BILAN;,  mercredi 23 avril 2008 1160 mots, p....</td>\n",
       "      <td>Bilan</td>\n",
       "    </tr>\n",
       "  </tbody>\n",
       "</table>\n",
       "<p>237 rows × 2 columns</p>\n",
       "</div>"
      ],
      "text/plain": [
       "                                                  Date  \\\n",
       "0     International,  vendredi 2 juillet 2021 860 m...   \n",
       "1        Science,  jeudi 26 mars 2020 2170 mots, p. 9    \n",
       "2      Économie,  mardi 16 juin 2020 1192 mots, p. 15    \n",
       "3     Science,  mercredi 18 mars 2020 1022 mots, p. 9    \n",
       "4     Point fort,  vendredi 20 mars 2020 1558 mots,...   \n",
       "..                                                 ...   \n",
       "232    International,  mercredi 17 mai 2000 1204 mots    \n",
       "233   Sciences & multimédia,  mardi 11 septembre 20...   \n",
       "234        Temps fort,  lundi 3 janvier 2005 581 mots    \n",
       "235      Wednesday, December 5, 2018 1280 mots, p. NA    \n",
       "236   BILAN;,  mercredi 23 avril 2008 1160 mots, p....   \n",
       "\n",
       "                                              Journal  \n",
       "0                                         Le Temps     \n",
       "1                                         Le Temps     \n",
       "2                      Tribune de Genève, no. 5326     \n",
       "3                                         Le Temps     \n",
       "4     24 Heures (Suisse), no. 4306  Région, Lausanne   \n",
       "..                                                ...  \n",
       "232                              Le Temps, no. 706     \n",
       "233                             Le Temps, no. 1122     \n",
       "234                             Le Temps, no. 2140     \n",
       "235                                    IRIN Africa     \n",
       "236                                          Bilan     \n",
       "\n",
       "[237 rows x 2 columns]"
      ]
     },
     "execution_count": 3,
     "metadata": {},
     "output_type": "execute_result"
    }
   ],
   "source": [
    "corpus[[\"Date\", \"Journal\"]]"
   ]
  },
  {
   "cell_type": "markdown",
   "metadata": {},
   "source": [
    "Principe de la sélection booléenne"
   ]
  },
  {
   "cell_type": "code",
   "execution_count": 4,
   "metadata": {},
   "outputs": [
    {
     "data": {
      "text/plain": [
       "0       True\n",
       "1       True\n",
       "2      False\n",
       "3       True\n",
       "4      False\n",
       "       ...  \n",
       "232     True\n",
       "233     True\n",
       "234     True\n",
       "235    False\n",
       "236    False\n",
       "Name: Journaux-reco, Length: 237, dtype: bool"
      ]
     },
     "execution_count": 4,
     "metadata": {},
     "output_type": "execute_result"
    }
   ],
   "source": [
    "corpus[\"Journaux-reco\"] == \"Le Temps\""
   ]
  },
  {
   "cell_type": "markdown",
   "metadata": {},
   "source": [
    "utiliser pour indexer"
   ]
  },
  {
   "cell_type": "code",
   "execution_count": 5,
   "metadata": {},
   "outputs": [
    {
     "data": {
      "text/html": [
       "<div>\n",
       "<style scoped>\n",
       "    .dataframe tbody tr th:only-of-type {\n",
       "        vertical-align: middle;\n",
       "    }\n",
       "\n",
       "    .dataframe tbody tr th {\n",
       "        vertical-align: top;\n",
       "    }\n",
       "\n",
       "    .dataframe thead th {\n",
       "        text-align: right;\n",
       "    }\n",
       "</style>\n",
       "<table border=\"1\" class=\"dataframe\">\n",
       "  <thead>\n",
       "    <tr style=\"text-align: right;\">\n",
       "      <th></th>\n",
       "      <th>Date_reco</th>\n",
       "      <th>Date</th>\n",
       "      <th>Titre</th>\n",
       "      <th>Journal</th>\n",
       "      <th>Contenu</th>\n",
       "      <th>Auteur</th>\n",
       "      <th>Journaux-reco</th>\n",
       "      <th>Freq_chloro</th>\n",
       "    </tr>\n",
       "  </thead>\n",
       "  <tbody>\n",
       "    <tr>\n",
       "      <th>0</th>\n",
       "      <td>2021-07-02</td>\n",
       "      <td>International,  vendredi 2 juillet 2021 860 m...</td>\n",
       "      <td>La stratégie covid brésilienne, un acharnemen...</td>\n",
       "      <td>Le Temps</td>\n",
       "      <td>7056    @fabiengoubet   Avec Donald Trump en...</td>\n",
       "      <td>FABIEN GOUBET</td>\n",
       "      <td>Le Temps</td>\n",
       "      <td>4</td>\n",
       "    </tr>\n",
       "    <tr>\n",
       "      <th>1</th>\n",
       "      <td>2020-03-26</td>\n",
       "      <td>Science,  jeudi 26 mars 2020 2170 mots, p. 9</td>\n",
       "      <td>Chloroquine: une recherche controversée</td>\n",
       "      <td>Le Temps</td>\n",
       "      <td>6675    @fabiengoubet   Voilà un peu plus d'...</td>\n",
       "      <td>FABIEN GOUBET</td>\n",
       "      <td>Le Temps</td>\n",
       "      <td>19</td>\n",
       "    </tr>\n",
       "    <tr>\n",
       "      <th>3</th>\n",
       "      <td>2020-03-18</td>\n",
       "      <td>Science,  mercredi 18 mars 2020 1022 mots, p. 9</td>\n",
       "      <td>Une piste pour lutter contre le SARS-CoV-2</td>\n",
       "      <td>Le Temps</td>\n",
       "      <td>6668    (LE MONDE)   La course aux traitemen...</td>\n",
       "      <td>SANDRINE CABUT</td>\n",
       "      <td>Le Temps</td>\n",
       "      <td>18</td>\n",
       "    </tr>\n",
       "    <tr>\n",
       "      <th>5</th>\n",
       "      <td>2020-10-10</td>\n",
       "      <td>Science,  samedi 10 octobre 2020 461 mots, p....</td>\n",
       "      <td>Recovery persiste et signe concernant la  chl...</td>\n",
       "      <td>Le Temps</td>\n",
       "      <td>6838    @fabiengoubet   L'hydroxychloroquine...</td>\n",
       "      <td>FABIEN GOUBET</td>\n",
       "      <td>Le Temps</td>\n",
       "      <td>5</td>\n",
       "    </tr>\n",
       "    <tr>\n",
       "      <th>11</th>\n",
       "      <td>2020-07-08</td>\n",
       "      <td>Science,  mercredi 8 juillet 2020 343 mots, p...</td>\n",
       "      <td>EN BREF</td>\n",
       "      <td>Le Temps</td>\n",
       "      <td>6760   L'immunité collective loin d'être att...</td>\n",
       "      <td>NaN</td>\n",
       "      <td>Le Temps</td>\n",
       "      <td>5</td>\n",
       "    </tr>\n",
       "    <tr>\n",
       "      <th>...</th>\n",
       "      <td>...</td>\n",
       "      <td>...</td>\n",
       "      <td>...</td>\n",
       "      <td>...</td>\n",
       "      <td>...</td>\n",
       "      <td>...</td>\n",
       "      <td>...</td>\n",
       "      <td>...</td>\n",
       "    </tr>\n",
       "    <tr>\n",
       "      <th>229</th>\n",
       "      <td>2002-10-03</td>\n",
       "      <td>Société,  jeudi 3 octobre 2002 734 mots</td>\n",
       "      <td>Les génomes du moustique anophèle et du paras...</td>\n",
       "      <td>Le Temps, no. 1452</td>\n",
       "      <td>Mis à nus, le Plasmodium falciparum et l'Ano...</td>\n",
       "      <td>Anton Vos</td>\n",
       "      <td>Le Temps</td>\n",
       "      <td>1</td>\n",
       "    </tr>\n",
       "    <tr>\n",
       "      <th>231</th>\n",
       "      <td>2010-06-25</td>\n",
       "      <td>Eclairages,  vendredi 25 juin 2010 1219 mots</td>\n",
       "      <td>Le défi zambien contre la malaria Le gouverne...</td>\n",
       "      <td>Le Temps</td>\n",
       "      <td>La piste est mauvaise. Le minibus de fabrica...</td>\n",
       "      <td>Willy Boder, de retour de Zambie</td>\n",
       "      <td>Le Temps</td>\n",
       "      <td>1</td>\n",
       "    </tr>\n",
       "    <tr>\n",
       "      <th>232</th>\n",
       "      <td>2000-05-17</td>\n",
       "      <td>International,  mercredi 17 mai 2000 1204 mots</td>\n",
       "      <td>Un groupe incontrôlé d'Abu Sayyaf joue un mau...</td>\n",
       "      <td>Le Temps, no. 706</td>\n",
       "      <td>Un groupe d'une douzaine de civils armés de ...</td>\n",
       "      <td>Arnaud Dubus, envoyé spécial sur l'île de Jolo</td>\n",
       "      <td>Le Temps</td>\n",
       "      <td>0</td>\n",
       "    </tr>\n",
       "    <tr>\n",
       "      <th>233</th>\n",
       "      <td>2001-09-11</td>\n",
       "      <td>Sciences &amp; multimédia,  mardi 11 septembre 20...</td>\n",
       "      <td>L'avenir des plantes médicinales Trois cents ...</td>\n",
       "      <td>Le Temps, no. 1122</td>\n",
       "      <td>Fabriquer un nouveau médicament, aujourd'hui...</td>\n",
       "      <td>Anne Crisinel</td>\n",
       "      <td>Le Temps</td>\n",
       "      <td>0</td>\n",
       "    </tr>\n",
       "    <tr>\n",
       "      <th>234</th>\n",
       "      <td>2005-01-03</td>\n",
       "      <td>Temps fort,  lundi 3 janvier 2005 581 mots</td>\n",
       "      <td>L'impossible décompte des morts à Banda Aceh ...</td>\n",
       "      <td>Le Temps, no. 2140</td>\n",
       "      <td>S'il n'y avait eu que l'eau, lance Ibrahim, ...</td>\n",
       "      <td>Alain Lallemand, envoyé spécial à Banda Aceh</td>\n",
       "      <td>Le Temps</td>\n",
       "      <td>1</td>\n",
       "    </tr>\n",
       "  </tbody>\n",
       "</table>\n",
       "<p>110 rows × 8 columns</p>\n",
       "</div>"
      ],
      "text/plain": [
       "      Date_reco                                               Date  \\\n",
       "0    2021-07-02   International,  vendredi 2 juillet 2021 860 m...   \n",
       "1    2020-03-26      Science,  jeudi 26 mars 2020 2170 mots, p. 9    \n",
       "3    2020-03-18   Science,  mercredi 18 mars 2020 1022 mots, p. 9    \n",
       "5    2020-10-10   Science,  samedi 10 octobre 2020 461 mots, p....   \n",
       "11   2020-07-08   Science,  mercredi 8 juillet 2020 343 mots, p...   \n",
       "..          ...                                                ...   \n",
       "229  2002-10-03           Société,  jeudi 3 octobre 2002 734 mots    \n",
       "231  2010-06-25      Eclairages,  vendredi 25 juin 2010 1219 mots    \n",
       "232  2000-05-17    International,  mercredi 17 mai 2000 1204 mots    \n",
       "233  2001-09-11   Sciences & multimédia,  mardi 11 septembre 20...   \n",
       "234  2005-01-03        Temps fort,  lundi 3 janvier 2005 581 mots    \n",
       "\n",
       "                                                 Titre  \\\n",
       "0     La stratégie covid brésilienne, un acharnemen...   \n",
       "1             Chloroquine: une recherche controversée    \n",
       "3          Une piste pour lutter contre le SARS-CoV-2    \n",
       "5     Recovery persiste et signe concernant la  chl...   \n",
       "11                                            EN BREF    \n",
       "..                                                 ...   \n",
       "229   Les génomes du moustique anophèle et du paras...   \n",
       "231   Le défi zambien contre la malaria Le gouverne...   \n",
       "232   Un groupe incontrôlé d'Abu Sayyaf joue un mau...   \n",
       "233   L'avenir des plantes médicinales Trois cents ...   \n",
       "234   L'impossible décompte des morts à Banda Aceh ...   \n",
       "\n",
       "                    Journal  \\\n",
       "0               Le Temps      \n",
       "1               Le Temps      \n",
       "3               Le Temps      \n",
       "5               Le Temps      \n",
       "11              Le Temps      \n",
       "..                      ...   \n",
       "229   Le Temps, no. 1452      \n",
       "231             Le Temps      \n",
       "232    Le Temps, no. 706      \n",
       "233   Le Temps, no. 1122      \n",
       "234   Le Temps, no. 2140      \n",
       "\n",
       "                                               Contenu  \\\n",
       "0      7056    @fabiengoubet   Avec Donald Trump en...   \n",
       "1      6675    @fabiengoubet   Voilà un peu plus d'...   \n",
       "3      6668    (LE MONDE)   La course aux traitemen...   \n",
       "5      6838    @fabiengoubet   L'hydroxychloroquine...   \n",
       "11     6760   L'immunité collective loin d'être att...   \n",
       "..                                                 ...   \n",
       "229    Mis à nus, le Plasmodium falciparum et l'Ano...   \n",
       "231    La piste est mauvaise. Le minibus de fabrica...   \n",
       "232    Un groupe d'une douzaine de civils armés de ...   \n",
       "233    Fabriquer un nouveau médicament, aujourd'hui...   \n",
       "234    S'il n'y avait eu que l'eau, lance Ibrahim, ...   \n",
       "\n",
       "                                             Auteur Journaux-reco  Freq_chloro  \n",
       "0                                     FABIEN GOUBET      Le Temps            4  \n",
       "1                                     FABIEN GOUBET      Le Temps           19  \n",
       "3                                    SANDRINE CABUT      Le Temps           18  \n",
       "5                                     FABIEN GOUBET      Le Temps            5  \n",
       "11                                              NaN      Le Temps            5  \n",
       "..                                              ...           ...          ...  \n",
       "229                                       Anton Vos      Le Temps            1  \n",
       "231                Willy Boder, de retour de Zambie      Le Temps            1  \n",
       "232  Arnaud Dubus, envoyé spécial sur l'île de Jolo      Le Temps            0  \n",
       "233                                   Anne Crisinel      Le Temps            0  \n",
       "234    Alain Lallemand, envoyé spécial à Banda Aceh      Le Temps            1  \n",
       "\n",
       "[110 rows x 8 columns]"
      ]
     },
     "execution_count": 5,
     "metadata": {},
     "output_type": "execute_result"
    }
   ],
   "source": [
    "f = (corpus[\"Journaux-reco\"] == \"Le Temps\")\n",
    "corpus[f]"
   ]
  },
  {
   "cell_type": "markdown",
   "metadata": {},
   "source": [
    "Combiner les éléments booléens"
   ]
  },
  {
   "cell_type": "code",
   "execution_count": 6,
   "metadata": {},
   "outputs": [
    {
     "data": {
      "text/html": [
       "<div>\n",
       "<style scoped>\n",
       "    .dataframe tbody tr th:only-of-type {\n",
       "        vertical-align: middle;\n",
       "    }\n",
       "\n",
       "    .dataframe tbody tr th {\n",
       "        vertical-align: top;\n",
       "    }\n",
       "\n",
       "    .dataframe thead th {\n",
       "        text-align: right;\n",
       "    }\n",
       "</style>\n",
       "<table border=\"1\" class=\"dataframe\">\n",
       "  <thead>\n",
       "    <tr style=\"text-align: right;\">\n",
       "      <th></th>\n",
       "      <th>Date_reco</th>\n",
       "      <th>Date</th>\n",
       "      <th>Titre</th>\n",
       "      <th>Journal</th>\n",
       "      <th>Contenu</th>\n",
       "      <th>Auteur</th>\n",
       "      <th>Journaux-reco</th>\n",
       "      <th>Freq_chloro</th>\n",
       "    </tr>\n",
       "  </thead>\n",
       "  <tbody>\n",
       "    <tr>\n",
       "      <th>0</th>\n",
       "      <td>2021-07-02</td>\n",
       "      <td>International,  vendredi 2 juillet 2021 860 m...</td>\n",
       "      <td>La stratégie covid brésilienne, un acharnemen...</td>\n",
       "      <td>Le Temps</td>\n",
       "      <td>7056    @fabiengoubet   Avec Donald Trump en...</td>\n",
       "      <td>FABIEN GOUBET</td>\n",
       "      <td>Le Temps</td>\n",
       "      <td>4</td>\n",
       "    </tr>\n",
       "    <tr>\n",
       "      <th>16</th>\n",
       "      <td>2021-05-21</td>\n",
       "      <td>Science,  vendredi 21 mai 2021 688 mots, p. 11</td>\n",
       "      <td>Plus de 100 études en lien avec le Covid-19 d...</td>\n",
       "      <td>Le Temps</td>\n",
       "      <td>7021    @MarieMaurisse   Des effets du Covid...</td>\n",
       "      <td>MARIE MAURISSE</td>\n",
       "      <td>Le Temps</td>\n",
       "      <td>2</td>\n",
       "    </tr>\n",
       "    <tr>\n",
       "      <th>23</th>\n",
       "      <td>2021-05-14</td>\n",
       "      <td>Science,  vendredi 14 mai 2021 1667 mots, p. 12</td>\n",
       "      <td>« La Suisse a misé sur les bons vaccins » INT...</td>\n",
       "      <td>Le Temps</td>\n",
       "      <td>7015   PROPOS RECUEILLIS PAR , ZURICH @celin...</td>\n",
       "      <td>CÉLINE ZÜND</td>\n",
       "      <td>Le Temps</td>\n",
       "      <td>4</td>\n",
       "    </tr>\n",
       "    <tr>\n",
       "      <th>51</th>\n",
       "      <td>2021-09-10</td>\n",
       "      <td>Science,  vendredi 10 septembre 2021 694 mots...</td>\n",
       "      <td>L'ivermectine pour soigner le covid, un pari ...</td>\n",
       "      <td>Le Temps</td>\n",
       "      <td>7115    @fabiengoubet   Les traitements inut...</td>\n",
       "      <td>FABIEN GOUBET</td>\n",
       "      <td>Le Temps</td>\n",
       "      <td>2</td>\n",
       "    </tr>\n",
       "    <tr>\n",
       "      <th>67</th>\n",
       "      <td>2021-10-05</td>\n",
       "      <td>Suisse,  mardi 5 octobre 2021 526 mots, p. 9</td>\n",
       "      <td>« On peut dire que j'ai un parcours atypique »</td>\n",
       "      <td>Le Temps</td>\n",
       "      <td>7135   PROPOS RECUEILLIS PAR  @fabiengoubet ...</td>\n",
       "      <td>FABIEN GOUBET</td>\n",
       "      <td>Le Temps</td>\n",
       "      <td>1</td>\n",
       "    </tr>\n",
       "    <tr>\n",
       "      <th>71</th>\n",
       "      <td>2021-07-02</td>\n",
       "      <td>International,  vendredi 2 juillet 2021 801 m...</td>\n",
       "      <td>Haro sur Jair Bolsonaro</td>\n",
       "      <td>Le Temps</td>\n",
       "      <td>7056   , @mgmleclercq   Luis Ricardo Miranda...</td>\n",
       "      <td>MICHEL LECLERCQ; RIO DE JANEIRO</td>\n",
       "      <td>Le Temps</td>\n",
       "      <td>1</td>\n",
       "    </tr>\n",
       "    <tr>\n",
       "      <th>78</th>\n",
       "      <td>2021-01-15</td>\n",
       "      <td>Débats,  vendredi 15 janvier 2021 59 mots, p. 2</td>\n",
       "      <td>La pandéminéologie SUR LES BLOGS</td>\n",
       "      <td>Le Temps</td>\n",
       "      <td>6916    « Néologuons... nous invite le pense...</td>\n",
       "      <td>NaN</td>\n",
       "      <td>Le Temps</td>\n",
       "      <td>1</td>\n",
       "    </tr>\n",
       "    <tr>\n",
       "      <th>86</th>\n",
       "      <td>2022-01-10</td>\n",
       "      <td>Débats,  lundi 10 janvier 2022 954 mots, p. 2</td>\n",
       "      <td>Malgré la loi de Brandolini, continuer de lut...</td>\n",
       "      <td>Le Temps</td>\n",
       "      <td>7214OPINION    ANCIEN CONSEILLER NATIONAL PD...</td>\n",
       "      <td>JACQUES NEIRYNCK</td>\n",
       "      <td>Le Temps</td>\n",
       "      <td>1</td>\n",
       "    </tr>\n",
       "    <tr>\n",
       "      <th>88</th>\n",
       "      <td>2021-07-10</td>\n",
       "      <td>Science,  samedi 10 juillet 2021 52 mots, p. 18</td>\n",
       "      <td>MAIS ENCORE</td>\n",
       "      <td>Le Temps</td>\n",
       "      <td>7063   France Le professeur Didier Raoult s'...</td>\n",
       "      <td>NaN</td>\n",
       "      <td>Le Temps</td>\n",
       "      <td>1</td>\n",
       "    </tr>\n",
       "    <tr>\n",
       "      <th>93</th>\n",
       "      <td>2021-11-09</td>\n",
       "      <td>Science,  mardi 9 novembre 2021 1825 mots, p....</td>\n",
       "      <td>Les pistes prometteuses contre le covid</td>\n",
       "      <td>Le Temps</td>\n",
       "      <td>7165    @sylvielogean   L'arrivée d'un vacci...</td>\n",
       "      <td>SYLVIE LOGEAN</td>\n",
       "      <td>Le Temps</td>\n",
       "      <td>1</td>\n",
       "    </tr>\n",
       "    <tr>\n",
       "      <th>94</th>\n",
       "      <td>2021-08-20</td>\n",
       "      <td>Actualité,  vendredi 20 août 2021 501 mots, p...</td>\n",
       "      <td>Didier Raoult poussé vers la retraite</td>\n",
       "      <td>Le Temps</td>\n",
       "      <td>7098   , PARIS @behache3   Les opposants au ...</td>\n",
       "      <td>BÉATRICE HOUCHARD</td>\n",
       "      <td>Le Temps</td>\n",
       "      <td>1</td>\n",
       "    </tr>\n",
       "    <tr>\n",
       "      <th>95</th>\n",
       "      <td>2021-05-14</td>\n",
       "      <td>Temps fort,  vendredi 14 mai 2021 6348 mots, ...</td>\n",
       "      <td>Ce coup d'Etat dont nous ne parlons pas</td>\n",
       "      <td>Le Temps</td>\n",
       "      <td>7015    shoshanazuboff    « C'était il y a v...</td>\n",
       "      <td>SHOSHANA ZUBOFF</td>\n",
       "      <td>Le Temps</td>\n",
       "      <td>1</td>\n",
       "    </tr>\n",
       "    <tr>\n",
       "      <th>96</th>\n",
       "      <td>2021-11-24</td>\n",
       "      <td>Science,  mercredi 24 novembre 2021 120 mots,...</td>\n",
       "      <td>EN BREF</td>\n",
       "      <td>Le Temps</td>\n",
       "      <td>7178   L'IHU cherche un successeur à Didier ...</td>\n",
       "      <td>NaN</td>\n",
       "      <td>Le Temps</td>\n",
       "      <td>1</td>\n",
       "    </tr>\n",
       "    <tr>\n",
       "      <th>97</th>\n",
       "      <td>2021-06-24</td>\n",
       "      <td>Débats,  jeudi 24 juin 2021 710 mots, p. 2</td>\n",
       "      <td>Raoult et Tapie, deux pyromanes dans le brasi...</td>\n",
       "      <td>Le Temps</td>\n",
       "      <td>7049HEXAGONE EXPRESS   Quelle chance! Même s...</td>\n",
       "      <td>RICHARD WERLY</td>\n",
       "      <td>Le Temps</td>\n",
       "      <td>1</td>\n",
       "    </tr>\n",
       "    <tr>\n",
       "      <th>98</th>\n",
       "      <td>2021-12-04</td>\n",
       "      <td>International,  samedi 4 décembre 2021 176 mo...</td>\n",
       "      <td>EN BREF</td>\n",
       "      <td>Le Temps</td>\n",
       "      <td>7187   Le prochain chancelier d'Autriche dés...</td>\n",
       "      <td>NaN</td>\n",
       "      <td>Le Temps</td>\n",
       "      <td>1</td>\n",
       "    </tr>\n",
       "    <tr>\n",
       "      <th>111</th>\n",
       "      <td>2021-10-21</td>\n",
       "      <td>International,  jeudi 21 octobre 2021 775 mot...</td>\n",
       "      <td>Bolsonaro accusé de crimes contre l'humanité</td>\n",
       "      <td>Le Temps</td>\n",
       "      <td>7149   ,  @RayesChantal   L'heure de Jair Bo...</td>\n",
       "      <td>CHANTAL RAYES; SÃO PAULO</td>\n",
       "      <td>Le Temps</td>\n",
       "      <td>1</td>\n",
       "    </tr>\n",
       "    <tr>\n",
       "      <th>112</th>\n",
       "      <td>2021-09-11</td>\n",
       "      <td>Vingt ans après,  samedi 11 septembre 2021 87...</td>\n",
       "      <td>Qui a planifié les attentats? Aux origines du...</td>\n",
       "      <td>Le Temps</td>\n",
       "      <td>7116    @SimonPetite   L'association « 11 se...</td>\n",
       "      <td>SIMON PETITE</td>\n",
       "      <td>Le Temps</td>\n",
       "      <td>1</td>\n",
       "    </tr>\n",
       "    <tr>\n",
       "      <th>115</th>\n",
       "      <td>2021-04-27</td>\n",
       "      <td>Temps fort,  mardi 27 avril 2021 1001 mots, p...</td>\n",
       "      <td>La solidarité internationale s'organise pour ...</td>\n",
       "      <td>Le Temps</td>\n",
       "      <td>7001    @rametwareea   Un vol d'Air India a ...</td>\n",
       "      <td>RAM ETWAREEA</td>\n",
       "      <td>Le Temps</td>\n",
       "      <td>1</td>\n",
       "    </tr>\n",
       "    <tr>\n",
       "      <th>117</th>\n",
       "      <td>2021-04-28</td>\n",
       "      <td>Science,  mercredi 28 avril 2021 446 mots, p. 8</td>\n",
       "      <td>Des chercheurs au chevet de l'Afrique</td>\n",
       "      <td>Le Temps</td>\n",
       "      <td>7002    @SylvieLogean   Alors que de nombreu...</td>\n",
       "      <td>SYLVIE LOGEAN</td>\n",
       "      <td>Le Temps</td>\n",
       "      <td>1</td>\n",
       "    </tr>\n",
       "    <tr>\n",
       "      <th>118</th>\n",
       "      <td>2021-01-27</td>\n",
       "      <td>Temps fort,  mercredi 27 janvier 2021 2707 mo...</td>\n",
       "      <td>Un an après, les dix énigmes du covid demeurent</td>\n",
       "      <td>Le Temps</td>\n",
       "      <td>6926   , , @fabiengoubet @sylvielogean @pasc...</td>\n",
       "      <td>FABIEN GOUBET; SYLVIE LOGEAN; PASCALINE MINET</td>\n",
       "      <td>Le Temps</td>\n",
       "      <td>1</td>\n",
       "    </tr>\n",
       "  </tbody>\n",
       "</table>\n",
       "</div>"
      ],
      "text/plain": [
       "      Date_reco                                               Date  \\\n",
       "0    2021-07-02   International,  vendredi 2 juillet 2021 860 m...   \n",
       "16   2021-05-21    Science,  vendredi 21 mai 2021 688 mots, p. 11    \n",
       "23   2021-05-14   Science,  vendredi 14 mai 2021 1667 mots, p. 12    \n",
       "51   2021-09-10   Science,  vendredi 10 septembre 2021 694 mots...   \n",
       "67   2021-10-05      Suisse,  mardi 5 octobre 2021 526 mots, p. 9    \n",
       "71   2021-07-02   International,  vendredi 2 juillet 2021 801 m...   \n",
       "78   2021-01-15   Débats,  vendredi 15 janvier 2021 59 mots, p. 2    \n",
       "86   2022-01-10     Débats,  lundi 10 janvier 2022 954 mots, p. 2    \n",
       "88   2021-07-10   Science,  samedi 10 juillet 2021 52 mots, p. 18    \n",
       "93   2021-11-09   Science,  mardi 9 novembre 2021 1825 mots, p....   \n",
       "94   2021-08-20   Actualité,  vendredi 20 août 2021 501 mots, p...   \n",
       "95   2021-05-14   Temps fort,  vendredi 14 mai 2021 6348 mots, ...   \n",
       "96   2021-11-24   Science,  mercredi 24 novembre 2021 120 mots,...   \n",
       "97   2021-06-24        Débats,  jeudi 24 juin 2021 710 mots, p. 2    \n",
       "98   2021-12-04   International,  samedi 4 décembre 2021 176 mo...   \n",
       "111  2021-10-21   International,  jeudi 21 octobre 2021 775 mot...   \n",
       "112  2021-09-11   Vingt ans après,  samedi 11 septembre 2021 87...   \n",
       "115  2021-04-27   Temps fort,  mardi 27 avril 2021 1001 mots, p...   \n",
       "117  2021-04-28   Science,  mercredi 28 avril 2021 446 mots, p. 8    \n",
       "118  2021-01-27   Temps fort,  mercredi 27 janvier 2021 2707 mo...   \n",
       "\n",
       "                                                 Titre       Journal  \\\n",
       "0     La stratégie covid brésilienne, un acharnemen...   Le Temps      \n",
       "16    Plus de 100 études en lien avec le Covid-19 d...   Le Temps      \n",
       "23    « La Suisse a misé sur les bons vaccins » INT...   Le Temps      \n",
       "51    L'ivermectine pour soigner le covid, un pari ...   Le Temps      \n",
       "67     « On peut dire que j'ai un parcours atypique »    Le Temps      \n",
       "71                            Haro sur Jair Bolsonaro    Le Temps      \n",
       "78                   La pandéminéologie SUR LES BLOGS    Le Temps      \n",
       "86    Malgré la loi de Brandolini, continuer de lut...   Le Temps      \n",
       "88                                        MAIS ENCORE    Le Temps      \n",
       "93            Les pistes prometteuses contre le covid    Le Temps      \n",
       "94              Didier Raoult poussé vers la retraite    Le Temps      \n",
       "95            Ce coup d'Etat dont nous ne parlons pas    Le Temps      \n",
       "96                                            EN BREF    Le Temps      \n",
       "97    Raoult et Tapie, deux pyromanes dans le brasi...   Le Temps      \n",
       "98                                            EN BREF    Le Temps      \n",
       "111      Bolsonaro accusé de crimes contre l'humanité    Le Temps      \n",
       "112   Qui a planifié les attentats? Aux origines du...   Le Temps      \n",
       "115   La solidarité internationale s'organise pour ...   Le Temps      \n",
       "117             Des chercheurs au chevet de l'Afrique    Le Temps      \n",
       "118   Un an après, les dix énigmes du covid demeurent    Le Temps      \n",
       "\n",
       "                                               Contenu  \\\n",
       "0      7056    @fabiengoubet   Avec Donald Trump en...   \n",
       "16     7021    @MarieMaurisse   Des effets du Covid...   \n",
       "23     7015   PROPOS RECUEILLIS PAR , ZURICH @celin...   \n",
       "51     7115    @fabiengoubet   Les traitements inut...   \n",
       "67     7135   PROPOS RECUEILLIS PAR  @fabiengoubet ...   \n",
       "71     7056   , @mgmleclercq   Luis Ricardo Miranda...   \n",
       "78     6916    « Néologuons... nous invite le pense...   \n",
       "86     7214OPINION    ANCIEN CONSEILLER NATIONAL PD...   \n",
       "88     7063   France Le professeur Didier Raoult s'...   \n",
       "93     7165    @sylvielogean   L'arrivée d'un vacci...   \n",
       "94     7098   , PARIS @behache3   Les opposants au ...   \n",
       "95     7015    shoshanazuboff    « C'était il y a v...   \n",
       "96     7178   L'IHU cherche un successeur à Didier ...   \n",
       "97     7049HEXAGONE EXPRESS   Quelle chance! Même s...   \n",
       "98     7187   Le prochain chancelier d'Autriche dés...   \n",
       "111    7149   ,  @RayesChantal   L'heure de Jair Bo...   \n",
       "112    7116    @SimonPetite   L'association « 11 se...   \n",
       "115    7001    @rametwareea   Un vol d'Air India a ...   \n",
       "117    7002    @SylvieLogean   Alors que de nombreu...   \n",
       "118    6926   , , @fabiengoubet @sylvielogean @pasc...   \n",
       "\n",
       "                                            Auteur Journaux-reco  Freq_chloro  \n",
       "0                                    FABIEN GOUBET      Le Temps            4  \n",
       "16                                  MARIE MAURISSE      Le Temps            2  \n",
       "23                                     CÉLINE ZÜND      Le Temps            4  \n",
       "51                                   FABIEN GOUBET      Le Temps            2  \n",
       "67                                   FABIEN GOUBET      Le Temps            1  \n",
       "71                 MICHEL LECLERCQ; RIO DE JANEIRO      Le Temps            1  \n",
       "78                                             NaN      Le Temps            1  \n",
       "86                                JACQUES NEIRYNCK      Le Temps            1  \n",
       "88                                             NaN      Le Temps            1  \n",
       "93                                   SYLVIE LOGEAN      Le Temps            1  \n",
       "94                               BÉATRICE HOUCHARD      Le Temps            1  \n",
       "95                                 SHOSHANA ZUBOFF      Le Temps            1  \n",
       "96                                             NaN      Le Temps            1  \n",
       "97                                   RICHARD WERLY      Le Temps            1  \n",
       "98                                             NaN      Le Temps            1  \n",
       "111                       CHANTAL RAYES; SÃO PAULO      Le Temps            1  \n",
       "112                                   SIMON PETITE      Le Temps            1  \n",
       "115                                   RAM ETWAREEA      Le Temps            1  \n",
       "117                                  SYLVIE LOGEAN      Le Temps            1  \n",
       "118  FABIEN GOUBET; SYLVIE LOGEAN; PASCALINE MINET      Le Temps            1  "
      ]
     },
     "execution_count": 6,
     "metadata": {},
     "output_type": "execute_result"
    }
   ],
   "source": [
    "f = (corpus[\"Date_reco\"] > \"2021-01-01\") & (corpus[\"Journaux-reco\"] == \"Le Temps\")\n",
    "corpus[f]"
   ]
  },
  {
   "cell_type": "markdown",
   "metadata": {},
   "source": [
    "## Méthodes d'analyse sur les colonnes"
   ]
  },
  {
   "cell_type": "markdown",
   "metadata": {},
   "source": [
    "### Statistiques de base sur la colonne numériques \n",
    "\n",
    "nombre de fois où chloroquine est mentionné"
   ]
  },
  {
   "cell_type": "code",
   "execution_count": 7,
   "metadata": {},
   "outputs": [
    {
     "data": {
      "text/plain": [
       "2.1772151898734178"
      ]
     },
     "execution_count": 7,
     "metadata": {},
     "output_type": "execute_result"
    }
   ],
   "source": [
    "corpus[\"Freq_chloro\"].mean()"
   ]
  },
  {
   "cell_type": "code",
   "execution_count": 8,
   "metadata": {},
   "outputs": [
    {
     "data": {
      "text/plain": [
       "1.0"
      ]
     },
     "execution_count": 8,
     "metadata": {},
     "output_type": "execute_result"
    }
   ],
   "source": [
    "corpus[\"Freq_chloro\"].median()"
   ]
  },
  {
   "cell_type": "code",
   "execution_count": 9,
   "metadata": {},
   "outputs": [
    {
     "data": {
      "text/plain": [
       "2.737496197679672"
      ]
     },
     "execution_count": 9,
     "metadata": {},
     "output_type": "execute_result"
    }
   ],
   "source": [
    "corpus[\"Freq_chloro\"].std()"
   ]
  },
  {
   "cell_type": "code",
   "execution_count": 10,
   "metadata": {},
   "outputs": [
    {
     "data": {
      "text/plain": [
       "count    237.000000\n",
       "mean       2.177215\n",
       "std        2.737496\n",
       "min        0.000000\n",
       "25%        1.000000\n",
       "50%        1.000000\n",
       "75%        2.000000\n",
       "max       20.000000\n",
       "Name: Freq_chloro, dtype: float64"
      ]
     },
     "execution_count": 10,
     "metadata": {},
     "output_type": "execute_result"
    }
   ],
   "source": [
    "corpus[\"Freq_chloro\"].describe()"
   ]
  },
  {
   "cell_type": "markdown",
   "metadata": {},
   "source": [
    "sommer"
   ]
  },
  {
   "cell_type": "code",
   "execution_count": 11,
   "metadata": {},
   "outputs": [
    {
     "data": {
      "text/plain": [
       "516"
      ]
     },
     "execution_count": 11,
     "metadata": {},
     "output_type": "execute_result"
    }
   ],
   "source": [
    "corpus[\"Freq_chloro\"].sum()"
   ]
  },
  {
   "cell_type": "markdown",
   "metadata": {},
   "source": [
    "### Catégories"
   ]
  },
  {
   "cell_type": "markdown",
   "metadata": {},
   "source": [
    "Modalités uniques"
   ]
  },
  {
   "cell_type": "code",
   "execution_count": 12,
   "metadata": {},
   "outputs": [
    {
     "data": {
      "text/plain": [
       "array(['Le Temps', 'Tribune de Genève', '24 Heures', 'Le Matin', 'Bilan',\n",
       "       'La Liberté', 'Autre'], dtype=object)"
      ]
     },
     "execution_count": 12,
     "metadata": {},
     "output_type": "execute_result"
    }
   ],
   "source": [
    "corpus[\"Journaux-reco\"].unique()"
   ]
  },
  {
   "cell_type": "code",
   "execution_count": 13,
   "metadata": {},
   "outputs": [
    {
     "data": {
      "text/plain": [
       "Le Temps             110\n",
       "Tribune de Genève     55\n",
       "24 Heures             30\n",
       "Le Matin              17\n",
       "Bilan                 13\n",
       "Autre                  7\n",
       "La Liberté             5\n",
       "Name: Journaux-reco, dtype: int64"
      ]
     },
     "execution_count": 13,
     "metadata": {},
     "output_type": "execute_result"
    }
   ],
   "source": [
    "corpus[\"Journaux-reco\"].value_counts()"
   ]
  },
  {
   "cell_type": "markdown",
   "metadata": {},
   "source": [
    "En combinant avec la sélection il est possible de faire des choses..."
   ]
  },
  {
   "cell_type": "code",
   "execution_count": 14,
   "metadata": {},
   "outputs": [
    {
     "name": "stdout",
     "output_type": "stream",
     "text": [
      "            Le Temps : 1.9363636363636363\n",
      "   Tribune de Genève : 2.727272727272727\n",
      "           24 Heures : 2.8666666666666667\n",
      "            Le Matin : 2.0588235294117645\n",
      "               Bilan : 1.7692307692307692\n",
      "          La Liberté : 0.4\n",
      "               Autre : 1.0\n"
     ]
    }
   ],
   "source": [
    "for j in corpus[\"Journaux-reco\"].unique():\n",
    "    print(f\"{j:>20} :\", corpus[corpus[\"Journaux-reco\"] == j][\"Freq_chloro\"].mean())"
   ]
  },
  {
   "cell_type": "markdown",
   "metadata": {},
   "source": [
    "### Les valeurs manquantes"
   ]
  },
  {
   "cell_type": "code",
   "execution_count": 15,
   "metadata": {},
   "outputs": [
    {
     "data": {
      "text/plain": [
       "0"
      ]
     },
     "execution_count": 15,
     "metadata": {},
     "output_type": "execute_result"
    }
   ],
   "source": [
    "pd.isnull(corpus[\"Freq_chloro\"]).sum()"
   ]
  },
  {
   "cell_type": "code",
   "execution_count": 16,
   "metadata": {},
   "outputs": [
    {
     "data": {
      "text/plain": [
       "0       4\n",
       "1      19\n",
       "2      20\n",
       "3      18\n",
       "4      16\n",
       "       ..\n",
       "232     0\n",
       "233     0\n",
       "234     1\n",
       "235     1\n",
       "236     1\n",
       "Name: Freq_chloro, Length: 237, dtype: int64"
      ]
     },
     "execution_count": 16,
     "metadata": {},
     "output_type": "execute_result"
    }
   ],
   "source": [
    "corpus[\"Freq_chloro\"].dropna()"
   ]
  },
  {
   "cell_type": "markdown",
   "metadata": {},
   "source": [
    "## Les visualisations \"out of the box\"\n",
    "\n",
    "(on verra les paramétrages plus tard)"
   ]
  },
  {
   "cell_type": "code",
   "execution_count": 17,
   "metadata": {},
   "outputs": [
    {
     "data": {
      "text/plain": [
       "<AxesSubplot:>"
      ]
     },
     "execution_count": 17,
     "metadata": {},
     "output_type": "execute_result"
    },
    {
     "data": {
      "image/png": "[encoded data removed]",
      "text/plain": [
       "<Figure size 432x288 with 1 Axes>"
      ]
     },
     "metadata": {
      "needs_background": "light"
     },
     "output_type": "display_data"
    }
   ],
   "source": [
    "corpus[\"Freq_chloro\"].hist()"
   ]
  },
  {
   "cell_type": "code",
   "execution_count": 18,
   "metadata": {},
   "outputs": [
    {
     "data": {
      "text/plain": [
       "<AxesSubplot:>"
      ]
     },
     "execution_count": 18,
     "metadata": {},
     "output_type": "execute_result"
    },
    {
     "data": {
      "image/png": "[encoded data removed]",
      "text/plain": [
       "<Figure size 432x288 with 1 Axes>"
      ]
     },
     "metadata": {
      "needs_background": "light"
     },
     "output_type": "display_data"
    }
   ],
   "source": [
    "corpus[\"Journaux-reco\"].value_counts().plot(kind=\"bar\", rot=45)"
   ]
  },
  {
   "cell_type": "code",
   "execution_count": 19,
   "metadata": {},
   "outputs": [
    {
     "data": {
      "text/plain": [
       "<AxesSubplot:ylabel='Journaux-reco'>"
      ]
     },
     "execution_count": 19,
     "metadata": {},
     "output_type": "execute_result"
    },
    {
     "data": {
      "image/png": "[encoded data removed]",
      "text/plain": [
       "<Figure size 432x288 with 1 Axes>"
      ]
     },
     "metadata": {},
     "output_type": "display_data"
    }
   ],
   "source": [
    "corpus[\"Journaux-reco\"].value_counts().plot(kind=\"pie\", rot=45)"
   ]
  },
  {
   "cell_type": "code",
   "execution_count": 20,
   "metadata": {},
   "outputs": [
    {
     "data": {
      "text/plain": [
       "<AxesSubplot:xlabel='Date_reco'>"
      ]
     },
     "execution_count": 20,
     "metadata": {},
     "output_type": "execute_result"
    },
    {
     "data": {
      "image/png": "[encoded data removed]",
      "text/plain": [
       "<Figure size 432x288 with 1 Axes>"
      ]
     },
     "metadata": {
      "needs_background": "light"
     },
     "output_type": "display_data"
    }
   ],
   "source": [
    "corpus.set_index(\"Date_reco\")[\"Freq_chloro\"].sort_index().plot()"
   ]
  },
  {
   "cell_type": "markdown",
   "metadata": {},
   "source": [
    "C'est pas parfait ... il faudra creuser la manière d'analyser les séries temporelles"
   ]
  },
  {
   "cell_type": "markdown",
   "metadata": {},
   "source": [
    "### Garder \"groupby\" sous le coude pour la fin de la séance ..."
   ]
  }
 ],
 "metadata": {
  "kernelspec": {
   "display_name": "Python 3 (ipykernel)",
   "language": "python",
   "name": "python3"
  },
  "language_info": {
   "codemirror_mode": {
    "name": "ipython",
    "version": 3
   },
   "file_extension": ".py",
   "mimetype": "text/x-python",
   "name": "python",
   "nbconvert_exporter": "python",
   "pygments_lexer": "ipython3",
   "version": "3.10.0"
  }
 },
 "nbformat": 4,
 "nbformat_minor": 4
}
