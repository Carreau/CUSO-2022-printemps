{
 "cells": [
  {
   "cell_type": "markdown",
   "id": "4cef0f95",
   "metadata": {},
   "source": [
    "# Exercices suite à la séance Pandas"
   ]
  },
  {
   "cell_type": "markdown",
   "id": "b14494f7",
   "metadata": {},
   "source": [
    "Tous les exercices utilisent les données du fichier europresse_HC_suisse_mod.csv aussi disponible ici : https://raw.githubusercontent.com/pyshs/CUSO-2022-printemps/main/Data/europresse_HC_suisse_mod.csv"
   ]
  },
  {
   "cell_type": "code",
   "execution_count": 4,
   "id": "ea735ea5",
   "metadata": {},
   "outputs": [],
   "source": [
    "import pandas as pd\n",
    "df = pd.read_csv(\"https://raw.githubusercontent.com/pyshs/CUSO-2022-printemps/main/Data/europresse_HC_suisse_mod.csv\")"
   ]
  },
  {
   "cell_type": "markdown",
   "id": "6cab289f",
   "metadata": {},
   "source": [
    "## Exercice 1\n",
    "\n",
    "La colonne 'Freq_chloro' contient la fréquence de la présence du terme \"chloroquine\" dans le contenu des articles\n",
    "\n",
    "- renommez le nom de la colonne pour ne pas avoir de majuscules\n",
    "- faites des statistiques descriptives de ce paramètre (min, max, moyenne, médiane)\n",
    "- tracer l'histogramme de la distribution de cette colonne avec 10 barres distinctes\n",
    "- filtrez le tableau pour ne garder que les articles qui ont la fréquence la plus forte du terme \"chloroquine\""
   ]
  },
  {
   "cell_type": "markdown",
   "id": "1c337dd6",
   "metadata": {},
   "source": [
    "## Exercice 2\n",
    "\n",
    "- créez une nouvelle colonne du tableau qui contient l'information du nombre de mots de l'article (contenu dans la colonne 'Contenu') - *indice, pensez à procéder en deux temps avec la méthode \"apply\".*\n",
    "- regardez la documentation de la méthode plot de Pandas pour faire un nuage de point (scatter) des deux colonnes numériques nombre de mots et nombre d'occurence de chloroquine\n",
    "- Utilisez la méthode \"corr\" d'un DataFrame pour calculer le coefficient de corrélation linéaire entre ces deux données numériques"
   ]
  },
  {
   "cell_type": "markdown",
   "id": "36b09e61",
   "metadata": {},
   "source": [
    "## Exercice 3\n",
    "\n",
    "La méthode \"groupeby\" d'un DataFrame permet de regrouper le tableau par les modalités d'une colonne. \n",
    "\n",
    "- En l'utilisant, calculez la moyenne du nombre de mots par journal.\n",
    "- Faites une représentation graphique adaptée avec \"plot\""
   ]
  },
  {
   "cell_type": "markdown",
   "id": "604ccd98",
   "metadata": {},
   "source": [
    "## Exercice 4\n",
    "\n",
    "\n",
    "Comment calculer une nouvelle colonne avec la densité du mot chloroquine, avec la densité définie comme $\\frac{n_{terme}}{n_{total}}$ où $n_{terme}$ est la fréquence du mot et $n_{total}$ est le nombre total de mots de l'article ?\n",
    "\n",
    "Indice A : La méthode 'apply' existe sur une Series mais aussi sur un DataFrame, avec un comportement différent qui permet d'appliquer une fonction sur chaque colonne (axis=0) ou sur chacune des lignes (axis=1), la ligne/colonne étant alors passées comme argument sous la forme d'un dictionnaire."
   ]
  },
  {
   "cell_type": "markdown",
   "id": "f1d049cc",
   "metadata": {},
   "source": [
    "## Exercice Bonus\n",
    "\n",
    "Comment feriez-vous pour recréer la colonne \"Journaux_reco\" à partir de la colonne \"Journal\" contenant les données \"brutes\" ?"
   ]
  }
 ],
 "metadata": {
  "kernelspec": {
   "display_name": "Python 3 (ipykernel)",
   "language": "python",
   "name": "python3"
  },
  "language_info": {
   "codemirror_mode": {
    "name": "ipython",
    "version": 3
   },
   "file_extension": ".py",
   "mimetype": "text/x-python",
   "name": "python",
   "nbconvert_exporter": "python",
   "pygments_lexer": "ipython3",
   "version": "3.9.7"
  }
 },
 "nbformat": 4,
 "nbformat_minor": 5
}
