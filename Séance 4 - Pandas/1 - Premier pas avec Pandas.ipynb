{
 "cells": [
  {
   "cell_type": "markdown",
   "id": "e5436e2d",
   "metadata": {},
   "source": [
    "# Pandas"
   ]
  },
  {
   "cell_type": "code",
   "execution_count": 1,
   "id": "77b321eb",
   "metadata": {},
   "outputs": [
    {
     "name": "stdout",
     "output_type": "stream",
     "text": [
      "Requirement already satisfied: pandas in /Users/emilien/anaconda3/envs/p38/lib/python3.8/site-packages (1.4.1)\n",
      "Requirement already satisfied: pytz>=2020.1 in /Users/emilien/anaconda3/envs/p38/lib/python3.8/site-packages (from pandas) (2022.1)\n",
      "Requirement already satisfied: numpy>=1.18.5 in /Users/emilien/anaconda3/envs/p38/lib/python3.8/site-packages (from pandas) (1.19.0)\n",
      "Requirement already satisfied: python-dateutil>=2.8.1 in /Users/emilien/anaconda3/envs/p38/lib/python3.8/site-packages (from pandas) (2.8.2)\n",
      "Requirement already satisfied: six>=1.5 in /Users/emilien/anaconda3/envs/p38/lib/python3.8/site-packages (from python-dateutil>=2.8.1->pandas) (1.16.0)\n",
      "Note: you may need to restart the kernel to use updated packages.\n"
     ]
    }
   ],
   "source": [
    "pip install pandas"
   ]
  },
  {
   "cell_type": "code",
   "execution_count": 2,
   "id": "5143d77b",
   "metadata": {},
   "outputs": [],
   "source": [
    "import pandas as pd"
   ]
  },
  {
   "cell_type": "code",
   "execution_count": 3,
   "id": "b777091d",
   "metadata": {},
   "outputs": [
    {
     "data": {
      "text/plain": [
       "<module 'pandas' from '/Users/emilien/anaconda3/envs/p38/lib/python3.8/site-packages/pandas/__init__.py'>"
      ]
     },
     "execution_count": 3,
     "metadata": {},
     "output_type": "execute_result"
    }
   ],
   "source": [
    "pd"
   ]
  },
  {
   "cell_type": "markdown",
   "id": "a49aed9c",
   "metadata": {},
   "source": [
    "## Créer un objet DataFrame"
   ]
  },
  {
   "cell_type": "code",
   "execution_count": 5,
   "id": "c7563a0e",
   "metadata": {},
   "outputs": [],
   "source": [
    "df = pd.DataFrame({\"Colonne 1\":[\"Dix\",\"20\",\"trente\"],\"Colonne 2\":[10,40,23]})"
   ]
  },
  {
   "cell_type": "code",
   "execution_count": 6,
   "id": "bae15a65",
   "metadata": {},
   "outputs": [
    {
     "data": {
      "text/plain": [
       "pandas.core.frame.DataFrame"
      ]
     },
     "execution_count": 6,
     "metadata": {},
     "output_type": "execute_result"
    }
   ],
   "source": [
    "type(df)"
   ]
  },
  {
   "cell_type": "code",
   "execution_count": 7,
   "id": "48cf45d6",
   "metadata": {},
   "outputs": [
    {
     "data": {
      "text/html": [
       "<div>\n",
       "<style scoped>\n",
       "    .dataframe tbody tr th:only-of-type {\n",
       "        vertical-align: middle;\n",
       "    }\n",
       "\n",
       "    .dataframe tbody tr th {\n",
       "        vertical-align: top;\n",
       "    }\n",
       "\n",
       "    .dataframe thead th {\n",
       "        text-align: right;\n",
       "    }\n",
       "</style>\n",
       "<table border=\"1\" class=\"dataframe\">\n",
       "  <thead>\n",
       "    <tr style=\"text-align: right;\">\n",
       "      <th></th>\n",
       "      <th>Colonne 1</th>\n",
       "      <th>Colonne 2</th>\n",
       "    </tr>\n",
       "  </thead>\n",
       "  <tbody>\n",
       "    <tr>\n",
       "      <th>0</th>\n",
       "      <td>Dix</td>\n",
       "      <td>10</td>\n",
       "    </tr>\n",
       "    <tr>\n",
       "      <th>1</th>\n",
       "      <td>20</td>\n",
       "      <td>40</td>\n",
       "    </tr>\n",
       "    <tr>\n",
       "      <th>2</th>\n",
       "      <td>trente</td>\n",
       "      <td>23</td>\n",
       "    </tr>\n",
       "  </tbody>\n",
       "</table>\n",
       "</div>"
      ],
      "text/plain": [
       "  Colonne 1  Colonne 2\n",
       "0       Dix         10\n",
       "1        20         40\n",
       "2    trente         23"
      ]
     },
     "execution_count": 7,
     "metadata": {},
     "output_type": "execute_result"
    }
   ],
   "source": [
    "df"
   ]
  },
  {
   "cell_type": "code",
   "execution_count": 8,
   "id": "e7326c81",
   "metadata": {},
   "outputs": [
    {
     "data": {
      "text/plain": [
       "Index(['Colonne 1', 'Colonne 2'], dtype='object')"
      ]
     },
     "execution_count": 8,
     "metadata": {},
     "output_type": "execute_result"
    }
   ],
   "source": [
    "df.columns"
   ]
  },
  {
   "cell_type": "markdown",
   "id": "19f85a1b",
   "metadata": {},
   "source": [
    "## Travailler sur des données réelles"
   ]
  },
  {
   "cell_type": "code",
   "execution_count": null,
   "id": "cd7faab9",
   "metadata": {},
   "outputs": [],
   "source": [
    "pd.read_csv(\"../Data/europresse_HC_suisse_mod.csv\")"
   ]
  },
  {
   "cell_type": "markdown",
   "id": "2520aac3",
   "metadata": {},
   "source": [
    "Architecture de dossier"
   ]
  },
  {
   "cell_type": "code",
   "execution_count": 10,
   "id": "d01f0e93",
   "metadata": {},
   "outputs": [
    {
     "data": {
      "text/plain": [
       "'/Users/emilien/Dropbox/Python pour les SHS/Formations/2022-04-04 CUSO/Séance 4 - Pandas'"
      ]
     },
     "execution_count": 10,
     "metadata": {},
     "output_type": "execute_result"
    }
   ],
   "source": [
    "pwd"
   ]
  },
  {
   "cell_type": "code",
   "execution_count": 12,
   "id": "0eec2088",
   "metadata": {},
   "outputs": [],
   "source": [
    "df = pd.read_csv(\"https://raw.githubusercontent.com/pyshs/CUSO-2022-printemps/main/Data/europresse_HC_suisse_mod.csv\")"
   ]
  },
  {
   "cell_type": "code",
   "execution_count": 14,
   "id": "e920eba5",
   "metadata": {},
   "outputs": [
    {
     "data": {
      "text/plain": [
       "(237, 9)"
      ]
     },
     "execution_count": 14,
     "metadata": {},
     "output_type": "execute_result"
    }
   ],
   "source": [
    "df.shape"
   ]
  },
  {
   "cell_type": "code",
   "execution_count": 15,
   "id": "1dae38a4",
   "metadata": {},
   "outputs": [
    {
     "data": {
      "text/plain": [
       "Index(['Unnamed: 0', 'Date_reco', 'Date', 'Titre', 'Journal', 'Contenu',\n",
       "       'Auteur', 'Journaux-reco', 'Freq_chloro'],\n",
       "      dtype='object')"
      ]
     },
     "execution_count": 15,
     "metadata": {},
     "output_type": "execute_result"
    }
   ],
   "source": [
    "df.columns"
   ]
  },
  {
   "cell_type": "code",
   "execution_count": 16,
   "id": "bbd44ad9",
   "metadata": {},
   "outputs": [
    {
     "data": {
      "text/plain": [
       "RangeIndex(start=0, stop=237, step=1)"
      ]
     },
     "execution_count": 16,
     "metadata": {},
     "output_type": "execute_result"
    }
   ],
   "source": [
    "df.index"
   ]
  },
  {
   "cell_type": "code",
   "execution_count": 19,
   "id": "a3263056",
   "metadata": {},
   "outputs": [
    {
     "data": {
      "text/plain": [
       "pandas.core.series.Series"
      ]
     },
     "execution_count": 19,
     "metadata": {},
     "output_type": "execute_result"
    }
   ],
   "source": [
    "type(df[\"Date_reco\"])"
   ]
  },
  {
   "cell_type": "code",
   "execution_count": 20,
   "id": "0e8711b2",
   "metadata": {},
   "outputs": [
    {
     "data": {
      "text/html": [
       "<div>\n",
       "<style scoped>\n",
       "    .dataframe tbody tr th:only-of-type {\n",
       "        vertical-align: middle;\n",
       "    }\n",
       "\n",
       "    .dataframe tbody tr th {\n",
       "        vertical-align: top;\n",
       "    }\n",
       "\n",
       "    .dataframe thead th {\n",
       "        text-align: right;\n",
       "    }\n",
       "</style>\n",
       "<table border=\"1\" class=\"dataframe\">\n",
       "  <thead>\n",
       "    <tr style=\"text-align: right;\">\n",
       "      <th></th>\n",
       "      <th>Date</th>\n",
       "      <th>Date_reco</th>\n",
       "    </tr>\n",
       "  </thead>\n",
       "  <tbody>\n",
       "    <tr>\n",
       "      <th>0</th>\n",
       "      <td>International,  vendredi 2 juillet 2021 860 m...</td>\n",
       "      <td>2021-07-02</td>\n",
       "    </tr>\n",
       "    <tr>\n",
       "      <th>1</th>\n",
       "      <td>Science,  jeudi 26 mars 2020 2170 mots, p. 9</td>\n",
       "      <td>2020-03-26</td>\n",
       "    </tr>\n",
       "    <tr>\n",
       "      <th>2</th>\n",
       "      <td>Économie,  mardi 16 juin 2020 1192 mots, p. 15</td>\n",
       "      <td>2020-06-16</td>\n",
       "    </tr>\n",
       "    <tr>\n",
       "      <th>3</th>\n",
       "      <td>Science,  mercredi 18 mars 2020 1022 mots, p. 9</td>\n",
       "      <td>2020-03-18</td>\n",
       "    </tr>\n",
       "    <tr>\n",
       "      <th>4</th>\n",
       "      <td>Point fort,  vendredi 20 mars 2020 1558 mots,...</td>\n",
       "      <td>2020-03-20</td>\n",
       "    </tr>\n",
       "    <tr>\n",
       "      <th>...</th>\n",
       "      <td>...</td>\n",
       "      <td>...</td>\n",
       "    </tr>\n",
       "    <tr>\n",
       "      <th>232</th>\n",
       "      <td>International,  mercredi 17 mai 2000 1204 mots</td>\n",
       "      <td>2000-05-17</td>\n",
       "    </tr>\n",
       "    <tr>\n",
       "      <th>233</th>\n",
       "      <td>Sciences &amp; multimédia,  mardi 11 septembre 20...</td>\n",
       "      <td>2001-09-11</td>\n",
       "    </tr>\n",
       "    <tr>\n",
       "      <th>234</th>\n",
       "      <td>Temps fort,  lundi 3 janvier 2005 581 mots</td>\n",
       "      <td>2005-01-03</td>\n",
       "    </tr>\n",
       "    <tr>\n",
       "      <th>235</th>\n",
       "      <td>Wednesday, December 5, 2018 1280 mots, p. NA</td>\n",
       "      <td>NaN</td>\n",
       "    </tr>\n",
       "    <tr>\n",
       "      <th>236</th>\n",
       "      <td>BILAN;,  mercredi 23 avril 2008 1160 mots, p....</td>\n",
       "      <td>2008-04-23</td>\n",
       "    </tr>\n",
       "  </tbody>\n",
       "</table>\n",
       "<p>237 rows × 2 columns</p>\n",
       "</div>"
      ],
      "text/plain": [
       "                                                  Date   Date_reco\n",
       "0     International,  vendredi 2 juillet 2021 860 m...  2021-07-02\n",
       "1        Science,  jeudi 26 mars 2020 2170 mots, p. 9   2020-03-26\n",
       "2      Économie,  mardi 16 juin 2020 1192 mots, p. 15   2020-06-16\n",
       "3     Science,  mercredi 18 mars 2020 1022 mots, p. 9   2020-03-18\n",
       "4     Point fort,  vendredi 20 mars 2020 1558 mots,...  2020-03-20\n",
       "..                                                 ...         ...\n",
       "232    International,  mercredi 17 mai 2000 1204 mots   2000-05-17\n",
       "233   Sciences & multimédia,  mardi 11 septembre 20...  2001-09-11\n",
       "234        Temps fort,  lundi 3 janvier 2005 581 mots   2005-01-03\n",
       "235      Wednesday, December 5, 2018 1280 mots, p. NA          NaN\n",
       "236   BILAN;,  mercredi 23 avril 2008 1160 mots, p....  2008-04-23\n",
       "\n",
       "[237 rows x 2 columns]"
      ]
     },
     "execution_count": 20,
     "metadata": {},
     "output_type": "execute_result"
    }
   ],
   "source": [
    "df[[\"Date\",\"Date_reco\"]]"
   ]
  },
  {
   "cell_type": "code",
   "execution_count": 21,
   "id": "525044c4",
   "metadata": {},
   "outputs": [
    {
     "data": {
      "text/plain": [
       "Unnamed: 0                                                     233\n",
       "Date_reco                                               2001-09-11\n",
       "Date              Sciences & multimédia,  mardi 11 septembre 20...\n",
       "Titre             L'avenir des plantes médicinales Trois cents ...\n",
       "Journal                                      Le Temps, no. 1122   \n",
       "Contenu            Fabriquer un nouveau médicament, aujourd'hui...\n",
       "Auteur                                               Anne Crisinel\n",
       "Journaux-reco                                             Le Temps\n",
       "Freq_chloro                                                      0\n",
       "Name: 233, dtype: object"
      ]
     },
     "execution_count": 21,
     "metadata": {},
     "output_type": "execute_result"
    }
   ],
   "source": [
    "df.loc[233]"
   ]
  },
  {
   "cell_type": "markdown",
   "id": "eb7fe6a3",
   "metadata": {},
   "source": [
    "## Mettre en forme\n",
    "\n",
    "- nettoyer les colonnes inutiles (Date et Unnamed:0 et Journal)\n",
    "- mettre la date en index"
   ]
  },
  {
   "cell_type": "code",
   "execution_count": 25,
   "id": "9aa86006",
   "metadata": {},
   "outputs": [],
   "source": [
    "df = df.drop([\"Unnamed: 0\",\"Date\",\"Journal\"],axis=1)"
   ]
  },
  {
   "cell_type": "code",
   "execution_count": 28,
   "id": "fdd0f16c",
   "metadata": {},
   "outputs": [],
   "source": [
    "df = df.set_index(\"Date_reco\")"
   ]
  },
  {
   "cell_type": "code",
   "execution_count": 29,
   "id": "da854510",
   "metadata": {},
   "outputs": [
    {
     "data": {
      "text/html": [
       "<div>\n",
       "<style scoped>\n",
       "    .dataframe tbody tr th:only-of-type {\n",
       "        vertical-align: middle;\n",
       "    }\n",
       "\n",
       "    .dataframe tbody tr th {\n",
       "        vertical-align: top;\n",
       "    }\n",
       "\n",
       "    .dataframe thead th {\n",
       "        text-align: right;\n",
       "    }\n",
       "</style>\n",
       "<table border=\"1\" class=\"dataframe\">\n",
       "  <thead>\n",
       "    <tr style=\"text-align: right;\">\n",
       "      <th></th>\n",
       "      <th>Titre</th>\n",
       "      <th>Contenu</th>\n",
       "      <th>Auteur</th>\n",
       "      <th>Journaux-reco</th>\n",
       "      <th>Freq_chloro</th>\n",
       "    </tr>\n",
       "    <tr>\n",
       "      <th>Date_reco</th>\n",
       "      <th></th>\n",
       "      <th></th>\n",
       "      <th></th>\n",
       "      <th></th>\n",
       "      <th></th>\n",
       "    </tr>\n",
       "  </thead>\n",
       "  <tbody>\n",
       "    <tr>\n",
       "      <th>2021-07-02</th>\n",
       "      <td>La stratégie covid brésilienne, un acharnemen...</td>\n",
       "      <td>7056    @fabiengoubet   Avec Donald Trump en...</td>\n",
       "      <td>FABIEN GOUBET</td>\n",
       "      <td>Le Temps</td>\n",
       "      <td>4</td>\n",
       "    </tr>\n",
       "    <tr>\n",
       "      <th>2020-03-26</th>\n",
       "      <td>Chloroquine: une recherche controversée</td>\n",
       "      <td>6675    @fabiengoubet   Voilà un peu plus d'...</td>\n",
       "      <td>FABIEN GOUBET</td>\n",
       "      <td>Le Temps</td>\n",
       "      <td>19</td>\n",
       "    </tr>\n",
       "    <tr>\n",
       "      <th>2020-06-16</th>\n",
       "      <td>[Transport aérien...]</td>\n",
       "      <td>Transport aérien   Qatar Airways va réduire ...</td>\n",
       "      <td>NaN</td>\n",
       "      <td>Tribune de Genève</td>\n",
       "      <td>20</td>\n",
       "    </tr>\n",
       "    <tr>\n",
       "      <th>2020-03-18</th>\n",
       "      <td>Une piste pour lutter contre le SARS-CoV-2</td>\n",
       "      <td>6668    (LE MONDE)   La course aux traitemen...</td>\n",
       "      <td>SANDRINE CABUT</td>\n",
       "      <td>Le Temps</td>\n",
       "      <td>18</td>\n",
       "    </tr>\n",
       "    <tr>\n",
       "      <th>2020-03-20</th>\n",
       "      <td>[Coronavirus...]</td>\n",
       "      <td>Coronavirus   De la chloroquine contre le vi...</td>\n",
       "      <td>NaN</td>\n",
       "      <td>24 Heures</td>\n",
       "      <td>16</td>\n",
       "    </tr>\n",
       "    <tr>\n",
       "      <th>...</th>\n",
       "      <td>...</td>\n",
       "      <td>...</td>\n",
       "      <td>...</td>\n",
       "      <td>...</td>\n",
       "      <td>...</td>\n",
       "    </tr>\n",
       "    <tr>\n",
       "      <th>2000-05-17</th>\n",
       "      <td>Un groupe incontrôlé d'Abu Sayyaf joue un mau...</td>\n",
       "      <td>Un groupe d'une douzaine de civils armés de ...</td>\n",
       "      <td>Arnaud Dubus, envoyé spécial sur l'île de Jolo</td>\n",
       "      <td>Le Temps</td>\n",
       "      <td>0</td>\n",
       "    </tr>\n",
       "    <tr>\n",
       "      <th>2001-09-11</th>\n",
       "      <td>L'avenir des plantes médicinales Trois cents ...</td>\n",
       "      <td>Fabriquer un nouveau médicament, aujourd'hui...</td>\n",
       "      <td>Anne Crisinel</td>\n",
       "      <td>Le Temps</td>\n",
       "      <td>0</td>\n",
       "    </tr>\n",
       "    <tr>\n",
       "      <th>2005-01-03</th>\n",
       "      <td>L'impossible décompte des morts à Banda Aceh ...</td>\n",
       "      <td>S'il n'y avait eu que l'eau, lance Ibrahim, ...</td>\n",
       "      <td>Alain Lallemand, envoyé spécial à Banda Aceh</td>\n",
       "      <td>Le Temps</td>\n",
       "      <td>1</td>\n",
       "    </tr>\n",
       "    <tr>\n",
       "      <th>NaN</th>\n",
       "      <td>Venezuela gold rush feeds a growing malaria e...</td>\n",
       "      <td>Handsome and with neatly slicked hair, Victo...</td>\n",
       "      <td>NaN</td>\n",
       "      <td>Autre</td>\n",
       "      <td>1</td>\n",
       "    </tr>\n",
       "    <tr>\n",
       "      <th>2008-04-23</th>\n",
       "      <td>3 En Tanzanie, sur les traces du capitaliste-...</td>\n",
       "      <td>Les attractions sont rares à Pandambili, un ...</td>\n",
       "      <td>Loup</td>\n",
       "      <td>Bilan</td>\n",
       "      <td>1</td>\n",
       "    </tr>\n",
       "  </tbody>\n",
       "</table>\n",
       "<p>237 rows × 5 columns</p>\n",
       "</div>"
      ],
      "text/plain": [
       "                                                        Titre  \\\n",
       "Date_reco                                                       \n",
       "2021-07-02   La stratégie covid brésilienne, un acharnemen...   \n",
       "2020-03-26           Chloroquine: une recherche controversée    \n",
       "2020-06-16                             [Transport aérien...]    \n",
       "2020-03-18        Une piste pour lutter contre le SARS-CoV-2    \n",
       "2020-03-20                                  [Coronavirus...]    \n",
       "...                                                       ...   \n",
       "2000-05-17   Un groupe incontrôlé d'Abu Sayyaf joue un mau...   \n",
       "2001-09-11   L'avenir des plantes médicinales Trois cents ...   \n",
       "2005-01-03   L'impossible décompte des morts à Banda Aceh ...   \n",
       "NaN          Venezuela gold rush feeds a growing malaria e...   \n",
       "2008-04-23   3 En Tanzanie, sur les traces du capitaliste-...   \n",
       "\n",
       "                                                      Contenu  \\\n",
       "Date_reco                                                       \n",
       "2021-07-02    7056    @fabiengoubet   Avec Donald Trump en...   \n",
       "2020-03-26    6675    @fabiengoubet   Voilà un peu plus d'...   \n",
       "2020-06-16    Transport aérien   Qatar Airways va réduire ...   \n",
       "2020-03-18    6668    (LE MONDE)   La course aux traitemen...   \n",
       "2020-03-20    Coronavirus   De la chloroquine contre le vi...   \n",
       "...                                                       ...   \n",
       "2000-05-17    Un groupe d'une douzaine de civils armés de ...   \n",
       "2001-09-11    Fabriquer un nouveau médicament, aujourd'hui...   \n",
       "2005-01-03    S'il n'y avait eu que l'eau, lance Ibrahim, ...   \n",
       "NaN           Handsome and with neatly slicked hair, Victo...   \n",
       "2008-04-23    Les attractions sont rares à Pandambili, un ...   \n",
       "\n",
       "                                                    Auteur      Journaux-reco  \\\n",
       "Date_reco                                                                       \n",
       "2021-07-02                                   FABIEN GOUBET           Le Temps   \n",
       "2020-03-26                                   FABIEN GOUBET           Le Temps   \n",
       "2020-06-16                                             NaN  Tribune de Genève   \n",
       "2020-03-18                                  SANDRINE CABUT           Le Temps   \n",
       "2020-03-20                                             NaN          24 Heures   \n",
       "...                                                    ...                ...   \n",
       "2000-05-17  Arnaud Dubus, envoyé spécial sur l'île de Jolo           Le Temps   \n",
       "2001-09-11                                   Anne Crisinel           Le Temps   \n",
       "2005-01-03    Alain Lallemand, envoyé spécial à Banda Aceh           Le Temps   \n",
       "NaN                                                    NaN              Autre   \n",
       "2008-04-23                                            Loup              Bilan   \n",
       "\n",
       "            Freq_chloro  \n",
       "Date_reco                \n",
       "2021-07-02            4  \n",
       "2020-03-26           19  \n",
       "2020-06-16           20  \n",
       "2020-03-18           18  \n",
       "2020-03-20           16  \n",
       "...                 ...  \n",
       "2000-05-17            0  \n",
       "2001-09-11            0  \n",
       "2005-01-03            1  \n",
       "NaN                   1  \n",
       "2008-04-23            1  \n",
       "\n",
       "[237 rows x 5 columns]"
      ]
     },
     "execution_count": 29,
     "metadata": {},
     "output_type": "execute_result"
    }
   ],
   "source": [
    "df"
   ]
  }
 ],
 "metadata": {
  "kernelspec": {
   "display_name": "Python 3 (ipykernel)",
   "language": "python",
   "name": "python3"
  },
  "language_info": {
   "codemirror_mode": {
    "name": "ipython",
    "version": 3
   },
   "file_extension": ".py",
   "mimetype": "text/x-python",
   "name": "python",
   "nbconvert_exporter": "python",
   "pygments_lexer": "ipython3",
   "version": "3.8.12"
  }
 },
 "nbformat": 4,
 "nbformat_minor": 5
}
